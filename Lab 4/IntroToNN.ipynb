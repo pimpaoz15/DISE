{
  "cells": [
    {
      "cell_type": "markdown",
      "metadata": {
        "id": "8WaQ07e6_rNO"
      },
      "source": [
        "# What is a Class-Based Model in PyTorch?\n",
        "In PyTorch, neural networks are defined as classes that inherit from torch.nn.Module. This structure allows you to organize your model's layers and operations in a clear and reusable way. PyTorch’s nn.Module provides the building blocks for layers, loss functions, and other key components needed to build deep learning models.\n",
        "\n",
        "Let’s start from the basics:\n",
        "\n",
        "# Step 1: Define a Class that Inherits from nn.Module\n",
        "\n",
        "Every PyTorch model is a class that inherits from torch.nn.Module. This is the base class for all neural networks in PyTorch, and it contains useful methods like saving and loading models."
      ]
    },
    {
      "cell_type": "code",
      "execution_count": 1,
      "metadata": {
        "id": "y8nV5eWd_-dQ"
      },
      "outputs": [],
      "source": [
        "import torch\n",
        "import torch.nn as nn\n",
        "\n",
        "class MySimpleModel(nn.Module):  # Inherit from nn.Module\n",
        "    def __init__(self):\n",
        "        super(MySimpleModel, self).__init__()  # Call the parent class (nn.Module) constructor"
      ]
    },
    {
      "cell_type": "markdown",
      "metadata": {
        "id": "DN6eD_UxAGDc"
      },
      "source": [
        "## Explanation:\n",
        "MySimpleModel is the name of your class, which represents the neural network.\n",
        "\n",
        "*   nn.Module is the base class provided by PyTorch for all models.\n",
        "*   super(MySimpleModel, self).__init__() ensures that the initialization of nn.Module happens properly so that all the PyTorch machinery works."
      ]
    },
    {
      "cell_type": "markdown",
      "metadata": {
        "id": "4uJYd2VRAk3R"
      },
      "source": [
        "# Step 2: Define the Layers in the __init__() Method\n",
        "In the __init__() method, you define the layers of your neural network. PyTorch provides many types of layers, but the most common ones are fully connected layers (also known as linear layers), convolutional layers, and activation functions.\n",
        "\n",
        "Here’s an example of a simple feedforward neural network:"
      ]
    },
    {
      "cell_type": "code",
      "execution_count": 2,
      "metadata": {
        "id": "njAVd3q-Aj7q"
      },
      "outputs": [],
      "source": [
        "class MySimpleModel(nn.Module):\n",
        "    def __init__(self):\n",
        "        super(MySimpleModel, self).__init__()\n",
        "\n",
        "        # Define layers\n",
        "        self.fc1 = nn.Linear(28 * 28, 128)  # Input layer (flattened 28x28 image to 128 neurons)\n",
        "        self.fc2 = nn.Linear(128, 64)       # Hidden layer (128 to 64 neurons)\n",
        "        self.fc3 = nn.Linear(64, 10)        # Output layer (64 neurons to 10 classes for classification)\n",
        "\n",
        "        # Optionally, you can define activation functions here\n",
        "        self.relu = nn.ReLU()               # ReLU activation function"
      ]
    },
    {
      "cell_type": "markdown",
      "metadata": {
        "id": "L2caJF1IA5pb"
      },
      "source": [
        "*   self.fc1 = nn.Linear(28*28, 128): The first layer is a fully connected (linear) layer that takes the 28x28 pixels of an image (flattened into a vector of size 784) and maps it to 128 neurons.\n",
        "*   self.fc2 = nn.Linear(128, 64): The second layer takes the 128 neurons from the first layer and maps them to 64 neurons.\n",
        "*   self.fc3 = nn.Linear(64, 10): The final layer maps the 64 neurons to 10 neurons (one for each digit from 0 to 9, in the case of digit classification).\n",
        "*   self.relu = nn.ReLU(): ReLU is a popular activation function that introduces non-linearity to the model, helping it learn complex patterns."
      ]
    },
    {
      "cell_type": "markdown",
      "metadata": {
        "id": "sAnSAys9BL5G"
      },
      "source": [
        "#Step 3: Define the Forward Pass in the forward() Method\n",
        "The forward() method defines the forward pass of the network. This is how data flows through the network—from input to output. In PyTorch, you don't manually define the backward pass (for backpropagation), as PyTorch automatically handles it for you using autograd"
      ]
    },
    {
      "cell_type": "code",
      "execution_count": 3,
      "metadata": {
        "id": "3BtEQlYfBLA7"
      },
      "outputs": [],
      "source": [
        "class MySimpleModel(nn.Module):\n",
        "    def __init__(self):\n",
        "        super(MySimpleModel, self).__init__()\n",
        "        self.fc1 = nn.Linear(28 * 28, 128)\n",
        "        self.fc2 = nn.Linear(128, 64)\n",
        "        self.fc3 = nn.Linear(64, 10)\n",
        "        self.relu = nn.ReLU()\n",
        "\n",
        "    # Define the forward pass\n",
        "    def forward(self, x):\n",
        "        x = x.view(-1, 28 * 28)  # Flatten the input (28x28) into a vector of size 784\n",
        "        x = self.relu(self.fc1(x))  # Pass through the first layer and apply ReLU\n",
        "        x = self.relu(self.fc2(x))  # Pass through the second layer and apply ReLU\n",
        "        x = self.fc3(x)  # Pass through the output layer (no activation for output)\n",
        "        return x\n"
      ]
    },
    {
      "cell_type": "markdown",
      "metadata": {
        "id": "LyCWD9RJD77r"
      },
      "source": [
        "Explanation:\n",
        "*  x = x.view(-1, 28*28): This flattens the input images (28x28 pixels) into a single vector of 784 elements because fully connected layers expect a 1D vector as input.\n",
        "*  x = self.relu(self.fc1(x)): The input x is passed through the first fully connected layer (fc1), and then the ReLU activation function is applied.\n",
        "*  x = self.relu(self.fc2(x)): The output from the first layer is passed to the second layer (fc2), and ReLU is applied again.\n",
        "*  x = self.fc3(x): Finally, the output is passed to the third layer (fc3), which outputs the final predictions. In this case, we don’t use an activation function because we will apply a loss function that takes care of it, such as CrossEntropyLoss for classification.\n",
        "\n",
        "\n"
      ]
    },
    {
      "cell_type": "markdown",
      "metadata": {
        "id": "rUguRIbyEGP2"
      },
      "source": [
        "# Step 4: Instantiate and Use the Model\n",
        "Once the model class is defined, you can instantiate it and pass data through it to make predictions."
      ]
    },
    {
      "cell_type": "code",
      "execution_count": 4,
      "metadata": {
        "colab": {
          "base_uri": "https://localhost:8080/"
        },
        "id": "5ZIpYLqQEIdu",
        "outputId": "33ae9707-3f8c-4ab9-b2e5-2aad8fe25bdc"
      },
      "outputs": [
        {
          "name": "stdout",
          "output_type": "stream",
          "text": [
            "torch.Size([64, 10])\n"
          ]
        }
      ],
      "source": [
        "# Create an instance of the model\n",
        "model = MySimpleModel()\n",
        "\n",
        "# Example: Create a batch of random images (batch size of 64, 28x28 pixels)\n",
        "inputs = torch.randn(64, 1, 28, 28)  # 64 images, each of size 28x28\n",
        "outputs = model(inputs)  # Forward pass through the model\n",
        "\n",
        "print(outputs.shape)  # Output will have shape (64, 10) since there are 10 output classes\n"
      ]
    },
    {
      "cell_type": "markdown",
      "metadata": {
        "id": "u_XjH_ajEK1h"
      },
      "source": [
        "Explanation:\n",
        "*  model = MySimpleModel(): This creates an instance of the neural network.\n",
        "*  inputs = torch.randn(64, 1, 28, 28): This simulates a batch of 64 random images, each with 1 channel (grayscale) and size 28x28.\n",
        "*  outputs = model(inputs): This performs the forward pass through the model, giving predictions for each image."
      ]
    },
    {
      "cell_type": "markdown",
      "metadata": {
        "id": "kNcmUugjEbVB"
      },
      "source": [
        "# Why Use Class-Based Models in PyTorch?\n",
        "*  Reusability: Defining models as classes makes them reusable and modular. You can easily adjust layers and reuse the class for different tasks.\n",
        "*  Flexibility: The forward() method can contain any arbitrary operations, giving you full control over how data flows through the network.\n",
        "*  Autograd and Optimization: Once the forward() method is defined, PyTorch automatically takes care of the backward pass (calculating gradients for backpropagation)."
      ]
    },
    {
      "cell_type": "markdown",
      "metadata": {
        "id": "-IozcQG24PE4"
      },
      "source": [
        "# Regression Example\n",
        "Here, we load the California Housing dataset using sklearn. We split it into features (X) and target values (y), and then further split it into training and testing sets. It's important to normalize the data to ensure the model trains efficiently.\n",
        "The features include information like the number of rooms, population, and proximity to the ocean, and the target is the median house price."
      ]
    },
    {
      "cell_type": "code",
      "execution_count": 5,
      "metadata": {
        "id": "cFpAllLc2TGP"
      },
      "outputs": [
        {
          "ename": "URLError",
          "evalue": "<urlopen error [SSL: CERTIFICATE_VERIFY_FAILED] certificate verify failed: unable to get local issuer certificate (_ssl.c:1000)>",
          "output_type": "error",
          "traceback": [
            "\u001b[0;31m---------------------------------------------------------------------------\u001b[0m",
            "\u001b[0;31mSSLCertVerificationError\u001b[0m                  Traceback (most recent call last)",
            "File \u001b[0;32m/Library/Frameworks/Python.framework/Versions/3.12/lib/python3.12/urllib/request.py:1344\u001b[0m, in \u001b[0;36mAbstractHTTPHandler.do_open\u001b[0;34m(self, http_class, req, **http_conn_args)\u001b[0m\n\u001b[1;32m   1343\u001b[0m \u001b[38;5;28;01mtry\u001b[39;00m:\n\u001b[0;32m-> 1344\u001b[0m     \u001b[43mh\u001b[49m\u001b[38;5;241;43m.\u001b[39;49m\u001b[43mrequest\u001b[49m\u001b[43m(\u001b[49m\u001b[43mreq\u001b[49m\u001b[38;5;241;43m.\u001b[39;49m\u001b[43mget_method\u001b[49m\u001b[43m(\u001b[49m\u001b[43m)\u001b[49m\u001b[43m,\u001b[49m\u001b[43m \u001b[49m\u001b[43mreq\u001b[49m\u001b[38;5;241;43m.\u001b[39;49m\u001b[43mselector\u001b[49m\u001b[43m,\u001b[49m\u001b[43m \u001b[49m\u001b[43mreq\u001b[49m\u001b[38;5;241;43m.\u001b[39;49m\u001b[43mdata\u001b[49m\u001b[43m,\u001b[49m\u001b[43m \u001b[49m\u001b[43mheaders\u001b[49m\u001b[43m,\u001b[49m\n\u001b[1;32m   1345\u001b[0m \u001b[43m              \u001b[49m\u001b[43mencode_chunked\u001b[49m\u001b[38;5;241;43m=\u001b[39;49m\u001b[43mreq\u001b[49m\u001b[38;5;241;43m.\u001b[39;49m\u001b[43mhas_header\u001b[49m\u001b[43m(\u001b[49m\u001b[38;5;124;43m'\u001b[39;49m\u001b[38;5;124;43mTransfer-encoding\u001b[39;49m\u001b[38;5;124;43m'\u001b[39;49m\u001b[43m)\u001b[49m\u001b[43m)\u001b[49m\n\u001b[1;32m   1346\u001b[0m \u001b[38;5;28;01mexcept\u001b[39;00m \u001b[38;5;167;01mOSError\u001b[39;00m \u001b[38;5;28;01mas\u001b[39;00m err: \u001b[38;5;66;03m# timeout error\u001b[39;00m\n",
            "File \u001b[0;32m/Library/Frameworks/Python.framework/Versions/3.12/lib/python3.12/http/client.py:1319\u001b[0m, in \u001b[0;36mHTTPConnection.request\u001b[0;34m(self, method, url, body, headers, encode_chunked)\u001b[0m\n\u001b[1;32m   1318\u001b[0m \u001b[38;5;250m\u001b[39m\u001b[38;5;124;03m\"\"\"Send a complete request to the server.\"\"\"\u001b[39;00m\n\u001b[0;32m-> 1319\u001b[0m \u001b[38;5;28;43mself\u001b[39;49m\u001b[38;5;241;43m.\u001b[39;49m\u001b[43m_send_request\u001b[49m\u001b[43m(\u001b[49m\u001b[43mmethod\u001b[49m\u001b[43m,\u001b[49m\u001b[43m \u001b[49m\u001b[43murl\u001b[49m\u001b[43m,\u001b[49m\u001b[43m \u001b[49m\u001b[43mbody\u001b[49m\u001b[43m,\u001b[49m\u001b[43m \u001b[49m\u001b[43mheaders\u001b[49m\u001b[43m,\u001b[49m\u001b[43m \u001b[49m\u001b[43mencode_chunked\u001b[49m\u001b[43m)\u001b[49m\n",
            "File \u001b[0;32m/Library/Frameworks/Python.framework/Versions/3.12/lib/python3.12/http/client.py:1365\u001b[0m, in \u001b[0;36mHTTPConnection._send_request\u001b[0;34m(self, method, url, body, headers, encode_chunked)\u001b[0m\n\u001b[1;32m   1364\u001b[0m     body \u001b[38;5;241m=\u001b[39m _encode(body, \u001b[38;5;124m'\u001b[39m\u001b[38;5;124mbody\u001b[39m\u001b[38;5;124m'\u001b[39m)\n\u001b[0;32m-> 1365\u001b[0m \u001b[38;5;28;43mself\u001b[39;49m\u001b[38;5;241;43m.\u001b[39;49m\u001b[43mendheaders\u001b[49m\u001b[43m(\u001b[49m\u001b[43mbody\u001b[49m\u001b[43m,\u001b[49m\u001b[43m \u001b[49m\u001b[43mencode_chunked\u001b[49m\u001b[38;5;241;43m=\u001b[39;49m\u001b[43mencode_chunked\u001b[49m\u001b[43m)\u001b[49m\n",
            "File \u001b[0;32m/Library/Frameworks/Python.framework/Versions/3.12/lib/python3.12/http/client.py:1314\u001b[0m, in \u001b[0;36mHTTPConnection.endheaders\u001b[0;34m(self, message_body, encode_chunked)\u001b[0m\n\u001b[1;32m   1313\u001b[0m     \u001b[38;5;28;01mraise\u001b[39;00m CannotSendHeader()\n\u001b[0;32m-> 1314\u001b[0m \u001b[38;5;28;43mself\u001b[39;49m\u001b[38;5;241;43m.\u001b[39;49m\u001b[43m_send_output\u001b[49m\u001b[43m(\u001b[49m\u001b[43mmessage_body\u001b[49m\u001b[43m,\u001b[49m\u001b[43m \u001b[49m\u001b[43mencode_chunked\u001b[49m\u001b[38;5;241;43m=\u001b[39;49m\u001b[43mencode_chunked\u001b[49m\u001b[43m)\u001b[49m\n",
            "File \u001b[0;32m/Library/Frameworks/Python.framework/Versions/3.12/lib/python3.12/http/client.py:1074\u001b[0m, in \u001b[0;36mHTTPConnection._send_output\u001b[0;34m(self, message_body, encode_chunked)\u001b[0m\n\u001b[1;32m   1073\u001b[0m \u001b[38;5;28;01mdel\u001b[39;00m \u001b[38;5;28mself\u001b[39m\u001b[38;5;241m.\u001b[39m_buffer[:]\n\u001b[0;32m-> 1074\u001b[0m \u001b[38;5;28;43mself\u001b[39;49m\u001b[38;5;241;43m.\u001b[39;49m\u001b[43msend\u001b[49m\u001b[43m(\u001b[49m\u001b[43mmsg\u001b[49m\u001b[43m)\u001b[49m\n\u001b[1;32m   1076\u001b[0m \u001b[38;5;28;01mif\u001b[39;00m message_body \u001b[38;5;129;01mis\u001b[39;00m \u001b[38;5;129;01mnot\u001b[39;00m \u001b[38;5;28;01mNone\u001b[39;00m:\n\u001b[1;32m   1077\u001b[0m \n\u001b[1;32m   1078\u001b[0m     \u001b[38;5;66;03m# create a consistent interface to message_body\u001b[39;00m\n",
            "File \u001b[0;32m/Library/Frameworks/Python.framework/Versions/3.12/lib/python3.12/http/client.py:1018\u001b[0m, in \u001b[0;36mHTTPConnection.send\u001b[0;34m(self, data)\u001b[0m\n\u001b[1;32m   1017\u001b[0m \u001b[38;5;28;01mif\u001b[39;00m \u001b[38;5;28mself\u001b[39m\u001b[38;5;241m.\u001b[39mauto_open:\n\u001b[0;32m-> 1018\u001b[0m     \u001b[38;5;28;43mself\u001b[39;49m\u001b[38;5;241;43m.\u001b[39;49m\u001b[43mconnect\u001b[49m\u001b[43m(\u001b[49m\u001b[43m)\u001b[49m\n\u001b[1;32m   1019\u001b[0m \u001b[38;5;28;01melse\u001b[39;00m:\n",
            "File \u001b[0;32m/Library/Frameworks/Python.framework/Versions/3.12/lib/python3.12/http/client.py:1460\u001b[0m, in \u001b[0;36mHTTPSConnection.connect\u001b[0;34m(self)\u001b[0m\n\u001b[1;32m   1458\u001b[0m     server_hostname \u001b[38;5;241m=\u001b[39m \u001b[38;5;28mself\u001b[39m\u001b[38;5;241m.\u001b[39mhost\n\u001b[0;32m-> 1460\u001b[0m \u001b[38;5;28mself\u001b[39m\u001b[38;5;241m.\u001b[39msock \u001b[38;5;241m=\u001b[39m \u001b[38;5;28;43mself\u001b[39;49m\u001b[38;5;241;43m.\u001b[39;49m\u001b[43m_context\u001b[49m\u001b[38;5;241;43m.\u001b[39;49m\u001b[43mwrap_socket\u001b[49m\u001b[43m(\u001b[49m\u001b[38;5;28;43mself\u001b[39;49m\u001b[38;5;241;43m.\u001b[39;49m\u001b[43msock\u001b[49m\u001b[43m,\u001b[49m\n\u001b[1;32m   1461\u001b[0m \u001b[43m                                      \u001b[49m\u001b[43mserver_hostname\u001b[49m\u001b[38;5;241;43m=\u001b[39;49m\u001b[43mserver_hostname\u001b[49m\u001b[43m)\u001b[49m\n",
            "File \u001b[0;32m/Library/Frameworks/Python.framework/Versions/3.12/lib/python3.12/ssl.py:455\u001b[0m, in \u001b[0;36mSSLContext.wrap_socket\u001b[0;34m(self, sock, server_side, do_handshake_on_connect, suppress_ragged_eofs, server_hostname, session)\u001b[0m\n\u001b[1;32m    449\u001b[0m \u001b[38;5;28;01mdef\u001b[39;00m \u001b[38;5;21mwrap_socket\u001b[39m(\u001b[38;5;28mself\u001b[39m, sock, server_side\u001b[38;5;241m=\u001b[39m\u001b[38;5;28;01mFalse\u001b[39;00m,\n\u001b[1;32m    450\u001b[0m                 do_handshake_on_connect\u001b[38;5;241m=\u001b[39m\u001b[38;5;28;01mTrue\u001b[39;00m,\n\u001b[1;32m    451\u001b[0m                 suppress_ragged_eofs\u001b[38;5;241m=\u001b[39m\u001b[38;5;28;01mTrue\u001b[39;00m,\n\u001b[1;32m    452\u001b[0m                 server_hostname\u001b[38;5;241m=\u001b[39m\u001b[38;5;28;01mNone\u001b[39;00m, session\u001b[38;5;241m=\u001b[39m\u001b[38;5;28;01mNone\u001b[39;00m):\n\u001b[1;32m    453\u001b[0m     \u001b[38;5;66;03m# SSLSocket class handles server_hostname encoding before it calls\u001b[39;00m\n\u001b[1;32m    454\u001b[0m     \u001b[38;5;66;03m# ctx._wrap_socket()\u001b[39;00m\n\u001b[0;32m--> 455\u001b[0m     \u001b[38;5;28;01mreturn\u001b[39;00m \u001b[38;5;28;43mself\u001b[39;49m\u001b[38;5;241;43m.\u001b[39;49m\u001b[43msslsocket_class\u001b[49m\u001b[38;5;241;43m.\u001b[39;49m\u001b[43m_create\u001b[49m\u001b[43m(\u001b[49m\n\u001b[1;32m    456\u001b[0m \u001b[43m        \u001b[49m\u001b[43msock\u001b[49m\u001b[38;5;241;43m=\u001b[39;49m\u001b[43msock\u001b[49m\u001b[43m,\u001b[49m\n\u001b[1;32m    457\u001b[0m \u001b[43m        \u001b[49m\u001b[43mserver_side\u001b[49m\u001b[38;5;241;43m=\u001b[39;49m\u001b[43mserver_side\u001b[49m\u001b[43m,\u001b[49m\n\u001b[1;32m    458\u001b[0m \u001b[43m        \u001b[49m\u001b[43mdo_handshake_on_connect\u001b[49m\u001b[38;5;241;43m=\u001b[39;49m\u001b[43mdo_handshake_on_connect\u001b[49m\u001b[43m,\u001b[49m\n\u001b[1;32m    459\u001b[0m \u001b[43m        \u001b[49m\u001b[43msuppress_ragged_eofs\u001b[49m\u001b[38;5;241;43m=\u001b[39;49m\u001b[43msuppress_ragged_eofs\u001b[49m\u001b[43m,\u001b[49m\n\u001b[1;32m    460\u001b[0m \u001b[43m        \u001b[49m\u001b[43mserver_hostname\u001b[49m\u001b[38;5;241;43m=\u001b[39;49m\u001b[43mserver_hostname\u001b[49m\u001b[43m,\u001b[49m\n\u001b[1;32m    461\u001b[0m \u001b[43m        \u001b[49m\u001b[43mcontext\u001b[49m\u001b[38;5;241;43m=\u001b[39;49m\u001b[38;5;28;43mself\u001b[39;49m\u001b[43m,\u001b[49m\n\u001b[1;32m    462\u001b[0m \u001b[43m        \u001b[49m\u001b[43msession\u001b[49m\u001b[38;5;241;43m=\u001b[39;49m\u001b[43msession\u001b[49m\n\u001b[1;32m    463\u001b[0m \u001b[43m    \u001b[49m\u001b[43m)\u001b[49m\n",
            "File \u001b[0;32m/Library/Frameworks/Python.framework/Versions/3.12/lib/python3.12/ssl.py:1046\u001b[0m, in \u001b[0;36mSSLSocket._create\u001b[0;34m(cls, sock, server_side, do_handshake_on_connect, suppress_ragged_eofs, server_hostname, context, session)\u001b[0m\n\u001b[1;32m   1045\u001b[0m             \u001b[38;5;28;01mraise\u001b[39;00m \u001b[38;5;167;01mValueError\u001b[39;00m(\u001b[38;5;124m\"\u001b[39m\u001b[38;5;124mdo_handshake_on_connect should not be specified for non-blocking sockets\u001b[39m\u001b[38;5;124m\"\u001b[39m)\n\u001b[0;32m-> 1046\u001b[0m         \u001b[38;5;28;43mself\u001b[39;49m\u001b[38;5;241;43m.\u001b[39;49m\u001b[43mdo_handshake\u001b[49m\u001b[43m(\u001b[49m\u001b[43m)\u001b[49m\n\u001b[1;32m   1047\u001b[0m \u001b[38;5;28;01mexcept\u001b[39;00m (\u001b[38;5;167;01mOSError\u001b[39;00m, \u001b[38;5;167;01mValueError\u001b[39;00m):\n",
            "File \u001b[0;32m/Library/Frameworks/Python.framework/Versions/3.12/lib/python3.12/ssl.py:1317\u001b[0m, in \u001b[0;36mSSLSocket.do_handshake\u001b[0;34m(self, block)\u001b[0m\n\u001b[1;32m   1316\u001b[0m         \u001b[38;5;28mself\u001b[39m\u001b[38;5;241m.\u001b[39msettimeout(\u001b[38;5;28;01mNone\u001b[39;00m)\n\u001b[0;32m-> 1317\u001b[0m     \u001b[38;5;28;43mself\u001b[39;49m\u001b[38;5;241;43m.\u001b[39;49m\u001b[43m_sslobj\u001b[49m\u001b[38;5;241;43m.\u001b[39;49m\u001b[43mdo_handshake\u001b[49m\u001b[43m(\u001b[49m\u001b[43m)\u001b[49m\n\u001b[1;32m   1318\u001b[0m \u001b[38;5;28;01mfinally\u001b[39;00m:\n",
            "\u001b[0;31mSSLCertVerificationError\u001b[0m: [SSL: CERTIFICATE_VERIFY_FAILED] certificate verify failed: unable to get local issuer certificate (_ssl.c:1000)",
            "\nDuring handling of the above exception, another exception occurred:\n",
            "\u001b[0;31mURLError\u001b[0m                                  Traceback (most recent call last)",
            "Cell \u001b[0;32mIn[5], line 9\u001b[0m\n\u001b[1;32m      6\u001b[0m \u001b[38;5;28;01mimport\u001b[39;00m \u001b[38;5;21;01mtorch\u001b[39;00m\u001b[38;5;21;01m.\u001b[39;00m\u001b[38;5;21;01mnn\u001b[39;00m \u001b[38;5;28;01mas\u001b[39;00m \u001b[38;5;21;01mnn\u001b[39;00m\n\u001b[1;32m      8\u001b[0m \u001b[38;5;66;03m# Load the dataset\u001b[39;00m\n\u001b[0;32m----> 9\u001b[0m data \u001b[38;5;241m=\u001b[39m \u001b[43mfetch_california_housing\u001b[49m\u001b[43m(\u001b[49m\u001b[43m)\u001b[49m\n\u001b[1;32m     11\u001b[0m \u001b[38;5;66;03m# Split into features (X) and target (y)\u001b[39;00m\n\u001b[1;32m     12\u001b[0m X \u001b[38;5;241m=\u001b[39m data\u001b[38;5;241m.\u001b[39mdata\n",
            "File \u001b[0;32m/Library/Frameworks/Python.framework/Versions/3.12/lib/python3.12/site-packages/sklearn/utils/_param_validation.py:213\u001b[0m, in \u001b[0;36mvalidate_params.<locals>.decorator.<locals>.wrapper\u001b[0;34m(*args, **kwargs)\u001b[0m\n\u001b[1;32m    207\u001b[0m \u001b[38;5;28;01mtry\u001b[39;00m:\n\u001b[1;32m    208\u001b[0m     \u001b[38;5;28;01mwith\u001b[39;00m config_context(\n\u001b[1;32m    209\u001b[0m         skip_parameter_validation\u001b[38;5;241m=\u001b[39m(\n\u001b[1;32m    210\u001b[0m             prefer_skip_nested_validation \u001b[38;5;129;01mor\u001b[39;00m global_skip_validation\n\u001b[1;32m    211\u001b[0m         )\n\u001b[1;32m    212\u001b[0m     ):\n\u001b[0;32m--> 213\u001b[0m         \u001b[38;5;28;01mreturn\u001b[39;00m \u001b[43mfunc\u001b[49m\u001b[43m(\u001b[49m\u001b[38;5;241;43m*\u001b[39;49m\u001b[43margs\u001b[49m\u001b[43m,\u001b[49m\u001b[43m \u001b[49m\u001b[38;5;241;43m*\u001b[39;49m\u001b[38;5;241;43m*\u001b[39;49m\u001b[43mkwargs\u001b[49m\u001b[43m)\u001b[49m\n\u001b[1;32m    214\u001b[0m \u001b[38;5;28;01mexcept\u001b[39;00m InvalidParameterError \u001b[38;5;28;01mas\u001b[39;00m e:\n\u001b[1;32m    215\u001b[0m     \u001b[38;5;66;03m# When the function is just a wrapper around an estimator, we allow\u001b[39;00m\n\u001b[1;32m    216\u001b[0m     \u001b[38;5;66;03m# the function to delegate validation to the estimator, but we replace\u001b[39;00m\n\u001b[1;32m    217\u001b[0m     \u001b[38;5;66;03m# the name of the estimator by the name of the function in the error\u001b[39;00m\n\u001b[1;32m    218\u001b[0m     \u001b[38;5;66;03m# message to avoid confusion.\u001b[39;00m\n\u001b[1;32m    219\u001b[0m     msg \u001b[38;5;241m=\u001b[39m re\u001b[38;5;241m.\u001b[39msub(\n\u001b[1;32m    220\u001b[0m         \u001b[38;5;124mr\u001b[39m\u001b[38;5;124m\"\u001b[39m\u001b[38;5;124mparameter of \u001b[39m\u001b[38;5;124m\\\u001b[39m\u001b[38;5;124mw+ must be\u001b[39m\u001b[38;5;124m\"\u001b[39m,\n\u001b[1;32m    221\u001b[0m         \u001b[38;5;124mf\u001b[39m\u001b[38;5;124m\"\u001b[39m\u001b[38;5;124mparameter of \u001b[39m\u001b[38;5;132;01m{\u001b[39;00mfunc\u001b[38;5;241m.\u001b[39m\u001b[38;5;18m__qualname__\u001b[39m\u001b[38;5;132;01m}\u001b[39;00m\u001b[38;5;124m must be\u001b[39m\u001b[38;5;124m\"\u001b[39m,\n\u001b[1;32m    222\u001b[0m         \u001b[38;5;28mstr\u001b[39m(e),\n\u001b[1;32m    223\u001b[0m     )\n",
            "File \u001b[0;32m/Library/Frameworks/Python.framework/Versions/3.12/lib/python3.12/site-packages/sklearn/datasets/_california_housing.py:157\u001b[0m, in \u001b[0;36mfetch_california_housing\u001b[0;34m(data_home, download_if_missing, return_X_y, as_frame)\u001b[0m\n\u001b[1;32m    151\u001b[0m     \u001b[38;5;28;01mraise\u001b[39;00m \u001b[38;5;167;01mOSError\u001b[39;00m(\u001b[38;5;124m\"\u001b[39m\u001b[38;5;124mData not found and `download_if_missing` is False\u001b[39m\u001b[38;5;124m\"\u001b[39m)\n\u001b[1;32m    153\u001b[0m logger\u001b[38;5;241m.\u001b[39minfo(\n\u001b[1;32m    154\u001b[0m     \u001b[38;5;124m\"\u001b[39m\u001b[38;5;124mDownloading Cal. housing from \u001b[39m\u001b[38;5;132;01m{}\u001b[39;00m\u001b[38;5;124m to \u001b[39m\u001b[38;5;132;01m{}\u001b[39;00m\u001b[38;5;124m\"\u001b[39m\u001b[38;5;241m.\u001b[39mformat(ARCHIVE\u001b[38;5;241m.\u001b[39murl, data_home)\n\u001b[1;32m    155\u001b[0m )\n\u001b[0;32m--> 157\u001b[0m archive_path \u001b[38;5;241m=\u001b[39m \u001b[43m_fetch_remote\u001b[49m\u001b[43m(\u001b[49m\u001b[43mARCHIVE\u001b[49m\u001b[43m,\u001b[49m\u001b[43m \u001b[49m\u001b[43mdirname\u001b[49m\u001b[38;5;241;43m=\u001b[39;49m\u001b[43mdata_home\u001b[49m\u001b[43m)\u001b[49m\n\u001b[1;32m    159\u001b[0m \u001b[38;5;28;01mwith\u001b[39;00m tarfile\u001b[38;5;241m.\u001b[39mopen(mode\u001b[38;5;241m=\u001b[39m\u001b[38;5;124m\"\u001b[39m\u001b[38;5;124mr:gz\u001b[39m\u001b[38;5;124m\"\u001b[39m, name\u001b[38;5;241m=\u001b[39marchive_path) \u001b[38;5;28;01mas\u001b[39;00m f:\n\u001b[1;32m    160\u001b[0m     cal_housing \u001b[38;5;241m=\u001b[39m np\u001b[38;5;241m.\u001b[39mloadtxt(\n\u001b[1;32m    161\u001b[0m         f\u001b[38;5;241m.\u001b[39mextractfile(\u001b[38;5;124m\"\u001b[39m\u001b[38;5;124mCaliforniaHousing/cal_housing.data\u001b[39m\u001b[38;5;124m\"\u001b[39m), delimiter\u001b[38;5;241m=\u001b[39m\u001b[38;5;124m\"\u001b[39m\u001b[38;5;124m,\u001b[39m\u001b[38;5;124m\"\u001b[39m\n\u001b[1;32m    162\u001b[0m     )\n",
            "File \u001b[0;32m/Library/Frameworks/Python.framework/Versions/3.12/lib/python3.12/site-packages/sklearn/datasets/_base.py:1433\u001b[0m, in \u001b[0;36m_fetch_remote\u001b[0;34m(remote, dirname)\u001b[0m\n\u001b[1;32m   1411\u001b[0m \u001b[38;5;250m\u001b[39m\u001b[38;5;124;03m\"\"\"Helper function to download a remote dataset into path\u001b[39;00m\n\u001b[1;32m   1412\u001b[0m \n\u001b[1;32m   1413\u001b[0m \u001b[38;5;124;03mFetch a dataset pointed by remote's url, save into path using remote's\u001b[39;00m\n\u001b[0;32m   (...)\u001b[0m\n\u001b[1;32m   1429\u001b[0m \u001b[38;5;124;03m    Full path of the created file.\u001b[39;00m\n\u001b[1;32m   1430\u001b[0m \u001b[38;5;124;03m\"\"\"\u001b[39;00m\n\u001b[1;32m   1432\u001b[0m file_path \u001b[38;5;241m=\u001b[39m remote\u001b[38;5;241m.\u001b[39mfilename \u001b[38;5;28;01mif\u001b[39;00m dirname \u001b[38;5;129;01mis\u001b[39;00m \u001b[38;5;28;01mNone\u001b[39;00m \u001b[38;5;28;01melse\u001b[39;00m join(dirname, remote\u001b[38;5;241m.\u001b[39mfilename)\n\u001b[0;32m-> 1433\u001b[0m \u001b[43murlretrieve\u001b[49m\u001b[43m(\u001b[49m\u001b[43mremote\u001b[49m\u001b[38;5;241;43m.\u001b[39;49m\u001b[43murl\u001b[49m\u001b[43m,\u001b[49m\u001b[43m \u001b[49m\u001b[43mfile_path\u001b[49m\u001b[43m)\u001b[49m\n\u001b[1;32m   1434\u001b[0m checksum \u001b[38;5;241m=\u001b[39m _sha256(file_path)\n\u001b[1;32m   1435\u001b[0m \u001b[38;5;28;01mif\u001b[39;00m remote\u001b[38;5;241m.\u001b[39mchecksum \u001b[38;5;241m!=\u001b[39m checksum:\n",
            "File \u001b[0;32m/Library/Frameworks/Python.framework/Versions/3.12/lib/python3.12/urllib/request.py:240\u001b[0m, in \u001b[0;36murlretrieve\u001b[0;34m(url, filename, reporthook, data)\u001b[0m\n\u001b[1;32m    223\u001b[0m \u001b[38;5;250m\u001b[39m\u001b[38;5;124;03m\"\"\"\u001b[39;00m\n\u001b[1;32m    224\u001b[0m \u001b[38;5;124;03mRetrieve a URL into a temporary location on disk.\u001b[39;00m\n\u001b[1;32m    225\u001b[0m \n\u001b[0;32m   (...)\u001b[0m\n\u001b[1;32m    236\u001b[0m \u001b[38;5;124;03mdata file as well as the resulting HTTPMessage object.\u001b[39;00m\n\u001b[1;32m    237\u001b[0m \u001b[38;5;124;03m\"\"\"\u001b[39;00m\n\u001b[1;32m    238\u001b[0m url_type, path \u001b[38;5;241m=\u001b[39m _splittype(url)\n\u001b[0;32m--> 240\u001b[0m \u001b[38;5;28;01mwith\u001b[39;00m contextlib\u001b[38;5;241m.\u001b[39mclosing(\u001b[43murlopen\u001b[49m\u001b[43m(\u001b[49m\u001b[43murl\u001b[49m\u001b[43m,\u001b[49m\u001b[43m \u001b[49m\u001b[43mdata\u001b[49m\u001b[43m)\u001b[49m) \u001b[38;5;28;01mas\u001b[39;00m fp:\n\u001b[1;32m    241\u001b[0m     headers \u001b[38;5;241m=\u001b[39m fp\u001b[38;5;241m.\u001b[39minfo()\n\u001b[1;32m    243\u001b[0m     \u001b[38;5;66;03m# Just return the local path and the \"headers\" for file://\u001b[39;00m\n\u001b[1;32m    244\u001b[0m     \u001b[38;5;66;03m# URLs. No sense in performing a copy unless requested.\u001b[39;00m\n",
            "File \u001b[0;32m/Library/Frameworks/Python.framework/Versions/3.12/lib/python3.12/urllib/request.py:215\u001b[0m, in \u001b[0;36murlopen\u001b[0;34m(url, data, timeout, cafile, capath, cadefault, context)\u001b[0m\n\u001b[1;32m    213\u001b[0m \u001b[38;5;28;01melse\u001b[39;00m:\n\u001b[1;32m    214\u001b[0m     opener \u001b[38;5;241m=\u001b[39m _opener\n\u001b[0;32m--> 215\u001b[0m \u001b[38;5;28;01mreturn\u001b[39;00m \u001b[43mopener\u001b[49m\u001b[38;5;241;43m.\u001b[39;49m\u001b[43mopen\u001b[49m\u001b[43m(\u001b[49m\u001b[43murl\u001b[49m\u001b[43m,\u001b[49m\u001b[43m \u001b[49m\u001b[43mdata\u001b[49m\u001b[43m,\u001b[49m\u001b[43m \u001b[49m\u001b[43mtimeout\u001b[49m\u001b[43m)\u001b[49m\n",
            "File \u001b[0;32m/Library/Frameworks/Python.framework/Versions/3.12/lib/python3.12/urllib/request.py:515\u001b[0m, in \u001b[0;36mOpenerDirector.open\u001b[0;34m(self, fullurl, data, timeout)\u001b[0m\n\u001b[1;32m    512\u001b[0m     req \u001b[38;5;241m=\u001b[39m meth(req)\n\u001b[1;32m    514\u001b[0m sys\u001b[38;5;241m.\u001b[39maudit(\u001b[38;5;124m'\u001b[39m\u001b[38;5;124murllib.Request\u001b[39m\u001b[38;5;124m'\u001b[39m, req\u001b[38;5;241m.\u001b[39mfull_url, req\u001b[38;5;241m.\u001b[39mdata, req\u001b[38;5;241m.\u001b[39mheaders, req\u001b[38;5;241m.\u001b[39mget_method())\n\u001b[0;32m--> 515\u001b[0m response \u001b[38;5;241m=\u001b[39m \u001b[38;5;28;43mself\u001b[39;49m\u001b[38;5;241;43m.\u001b[39;49m\u001b[43m_open\u001b[49m\u001b[43m(\u001b[49m\u001b[43mreq\u001b[49m\u001b[43m,\u001b[49m\u001b[43m \u001b[49m\u001b[43mdata\u001b[49m\u001b[43m)\u001b[49m\n\u001b[1;32m    517\u001b[0m \u001b[38;5;66;03m# post-process response\u001b[39;00m\n\u001b[1;32m    518\u001b[0m meth_name \u001b[38;5;241m=\u001b[39m protocol\u001b[38;5;241m+\u001b[39m\u001b[38;5;124m\"\u001b[39m\u001b[38;5;124m_response\u001b[39m\u001b[38;5;124m\"\u001b[39m\n",
            "File \u001b[0;32m/Library/Frameworks/Python.framework/Versions/3.12/lib/python3.12/urllib/request.py:532\u001b[0m, in \u001b[0;36mOpenerDirector._open\u001b[0;34m(self, req, data)\u001b[0m\n\u001b[1;32m    529\u001b[0m     \u001b[38;5;28;01mreturn\u001b[39;00m result\n\u001b[1;32m    531\u001b[0m protocol \u001b[38;5;241m=\u001b[39m req\u001b[38;5;241m.\u001b[39mtype\n\u001b[0;32m--> 532\u001b[0m result \u001b[38;5;241m=\u001b[39m \u001b[38;5;28;43mself\u001b[39;49m\u001b[38;5;241;43m.\u001b[39;49m\u001b[43m_call_chain\u001b[49m\u001b[43m(\u001b[49m\u001b[38;5;28;43mself\u001b[39;49m\u001b[38;5;241;43m.\u001b[39;49m\u001b[43mhandle_open\u001b[49m\u001b[43m,\u001b[49m\u001b[43m \u001b[49m\u001b[43mprotocol\u001b[49m\u001b[43m,\u001b[49m\u001b[43m \u001b[49m\u001b[43mprotocol\u001b[49m\u001b[43m \u001b[49m\u001b[38;5;241;43m+\u001b[39;49m\n\u001b[1;32m    533\u001b[0m \u001b[43m                          \u001b[49m\u001b[38;5;124;43m'\u001b[39;49m\u001b[38;5;124;43m_open\u001b[39;49m\u001b[38;5;124;43m'\u001b[39;49m\u001b[43m,\u001b[49m\u001b[43m \u001b[49m\u001b[43mreq\u001b[49m\u001b[43m)\u001b[49m\n\u001b[1;32m    534\u001b[0m \u001b[38;5;28;01mif\u001b[39;00m result:\n\u001b[1;32m    535\u001b[0m     \u001b[38;5;28;01mreturn\u001b[39;00m result\n",
            "File \u001b[0;32m/Library/Frameworks/Python.framework/Versions/3.12/lib/python3.12/urllib/request.py:492\u001b[0m, in \u001b[0;36mOpenerDirector._call_chain\u001b[0;34m(self, chain, kind, meth_name, *args)\u001b[0m\n\u001b[1;32m    490\u001b[0m \u001b[38;5;28;01mfor\u001b[39;00m handler \u001b[38;5;129;01min\u001b[39;00m handlers:\n\u001b[1;32m    491\u001b[0m     func \u001b[38;5;241m=\u001b[39m \u001b[38;5;28mgetattr\u001b[39m(handler, meth_name)\n\u001b[0;32m--> 492\u001b[0m     result \u001b[38;5;241m=\u001b[39m \u001b[43mfunc\u001b[49m\u001b[43m(\u001b[49m\u001b[38;5;241;43m*\u001b[39;49m\u001b[43margs\u001b[49m\u001b[43m)\u001b[49m\n\u001b[1;32m    493\u001b[0m     \u001b[38;5;28;01mif\u001b[39;00m result \u001b[38;5;129;01mis\u001b[39;00m \u001b[38;5;129;01mnot\u001b[39;00m \u001b[38;5;28;01mNone\u001b[39;00m:\n\u001b[1;32m    494\u001b[0m         \u001b[38;5;28;01mreturn\u001b[39;00m result\n",
            "File \u001b[0;32m/Library/Frameworks/Python.framework/Versions/3.12/lib/python3.12/urllib/request.py:1392\u001b[0m, in \u001b[0;36mHTTPSHandler.https_open\u001b[0;34m(self, req)\u001b[0m\n\u001b[1;32m   1391\u001b[0m \u001b[38;5;28;01mdef\u001b[39;00m \u001b[38;5;21mhttps_open\u001b[39m(\u001b[38;5;28mself\u001b[39m, req):\n\u001b[0;32m-> 1392\u001b[0m     \u001b[38;5;28;01mreturn\u001b[39;00m \u001b[38;5;28;43mself\u001b[39;49m\u001b[38;5;241;43m.\u001b[39;49m\u001b[43mdo_open\u001b[49m\u001b[43m(\u001b[49m\u001b[43mhttp\u001b[49m\u001b[38;5;241;43m.\u001b[39;49m\u001b[43mclient\u001b[49m\u001b[38;5;241;43m.\u001b[39;49m\u001b[43mHTTPSConnection\u001b[49m\u001b[43m,\u001b[49m\u001b[43m \u001b[49m\u001b[43mreq\u001b[49m\u001b[43m,\u001b[49m\n\u001b[1;32m   1393\u001b[0m \u001b[43m                        \u001b[49m\u001b[43mcontext\u001b[49m\u001b[38;5;241;43m=\u001b[39;49m\u001b[38;5;28;43mself\u001b[39;49m\u001b[38;5;241;43m.\u001b[39;49m\u001b[43m_context\u001b[49m\u001b[43m)\u001b[49m\n",
            "File \u001b[0;32m/Library/Frameworks/Python.framework/Versions/3.12/lib/python3.12/urllib/request.py:1347\u001b[0m, in \u001b[0;36mAbstractHTTPHandler.do_open\u001b[0;34m(self, http_class, req, **http_conn_args)\u001b[0m\n\u001b[1;32m   1344\u001b[0m         h\u001b[38;5;241m.\u001b[39mrequest(req\u001b[38;5;241m.\u001b[39mget_method(), req\u001b[38;5;241m.\u001b[39mselector, req\u001b[38;5;241m.\u001b[39mdata, headers,\n\u001b[1;32m   1345\u001b[0m                   encode_chunked\u001b[38;5;241m=\u001b[39mreq\u001b[38;5;241m.\u001b[39mhas_header(\u001b[38;5;124m'\u001b[39m\u001b[38;5;124mTransfer-encoding\u001b[39m\u001b[38;5;124m'\u001b[39m))\n\u001b[1;32m   1346\u001b[0m     \u001b[38;5;28;01mexcept\u001b[39;00m \u001b[38;5;167;01mOSError\u001b[39;00m \u001b[38;5;28;01mas\u001b[39;00m err: \u001b[38;5;66;03m# timeout error\u001b[39;00m\n\u001b[0;32m-> 1347\u001b[0m         \u001b[38;5;28;01mraise\u001b[39;00m URLError(err)\n\u001b[1;32m   1348\u001b[0m     r \u001b[38;5;241m=\u001b[39m h\u001b[38;5;241m.\u001b[39mgetresponse()\n\u001b[1;32m   1349\u001b[0m \u001b[38;5;28;01mexcept\u001b[39;00m:\n",
            "\u001b[0;31mURLError\u001b[0m: <urlopen error [SSL: CERTIFICATE_VERIFY_FAILED] certificate verify failed: unable to get local issuer certificate (_ssl.c:1000)>"
          ]
        }
      ],
      "source": [
        "from sklearn.datasets import fetch_california_housing\n",
        "from sklearn.model_selection import train_test_split\n",
        "from sklearn.preprocessing import StandardScaler\n",
        "\n",
        "import torch\n",
        "import torch.nn as nn\n",
        "\n",
        "# Load the dataset\n",
        "data = fetch_california_housing()\n",
        "\n",
        "# Split into features (X) and target (y)\n",
        "X = data.data\n",
        "y = data.target\n",
        "\n",
        "# Split into training and testing sets\n",
        "X_train, X_test, y_train, y_test = train_test_split(X, y, test_size=0.2, random_state=42)\n",
        "\n",
        "# Normalize the data\n",
        "scaler = StandardScaler()\n",
        "X_train = scaler.fit_transform(X_train)\n",
        "X_test = scaler.transform(X_test)"
      ]
    },
    {
      "cell_type": "code",
      "execution_count": null,
      "metadata": {
        "id": "Rx4b2_6A3RqR"
      },
      "outputs": [],
      "source": [
        "class HousingNN(nn.Module):\n",
        "    def __init__(self):\n",
        "        super(HousingNN, self).__init__()\n",
        "        self.fc1 = nn.Linear(8, 64)   # 8 input features, 64 neurons in the hidden layer\n",
        "        self.fc2 = nn.Linear(64, 1)   # 1 output for regression\n",
        "\n",
        "    def forward(self, x):\n",
        "        x = torch.relu(self.fc1(x))   # ReLU activation in hidden layer\n",
        "        x = self.fc2(x)               # Output layer\n",
        "        return x\n",
        "\n",
        "# Initialize the model, loss function, and optimizer\n",
        "model = HousingNN()\n",
        "criterion = nn.MSELoss()  # Mean Squared Error for regression\n",
        "optimizer = torch.optim.Adam(model.parameters(), lr=0.001)"
      ]
    },
    {
      "cell_type": "code",
      "execution_count": null,
      "metadata": {
        "colab": {
          "base_uri": "https://localhost:8080/"
        },
        "id": "LYJLjvhR3Xbn",
        "outputId": "130c089e-2eeb-4340-ff44-79730e5341b2"
      },
      "outputs": [
        {
          "name": "stdout",
          "output_type": "stream",
          "text": [
            "Epoch 0, Loss: 6.41918420791626\n",
            "Epoch 10, Loss: 5.575447082519531\n",
            "Epoch 20, Loss: 4.834509372711182\n",
            "Epoch 30, Loss: 4.180044651031494\n",
            "Epoch 40, Loss: 3.5962722301483154\n",
            "Epoch 50, Loss: 3.074134111404419\n",
            "Epoch 60, Loss: 2.6096127033233643\n",
            "Epoch 70, Loss: 2.2015132904052734\n",
            "Epoch 80, Loss: 1.85087251663208\n",
            "Epoch 90, Loss: 1.5593425035476685\n",
            "Epoch 100, Loss: 1.3266856670379639\n",
            "Epoch 110, Loss: 1.1488215923309326\n",
            "Epoch 120, Loss: 1.0182652473449707\n",
            "Epoch 130, Loss: 0.925275981426239\n",
            "Epoch 140, Loss: 0.8597895503044128\n",
            "Epoch 150, Loss: 0.8133589625358582\n",
            "Epoch 160, Loss: 0.7792889475822449\n",
            "Epoch 170, Loss: 0.7528945207595825\n",
            "Epoch 180, Loss: 0.7311345934867859\n",
            "Epoch 190, Loss: 0.7120975852012634\n"
          ]
        }
      ],
      "source": [
        "for epoch in range(200):  # Train for 100 epochs\n",
        "    # Convert data to tensors\n",
        "    inputs = torch.tensor(X_train, dtype=torch.float32)\n",
        "    targets = torch.tensor(y_train, dtype=torch.float32).view(-1, 1)  # Reshape target\n",
        "\n",
        "    # Forward pass\n",
        "    outputs = model(inputs)\n",
        "    loss = criterion(outputs, targets)\n",
        "\n",
        "    # Backward pass and optimization\n",
        "    optimizer.zero_grad()\n",
        "    loss.backward()\n",
        "    optimizer.step()\n",
        "\n",
        "    if epoch % 10 == 0:\n",
        "        print(f'Epoch {epoch}, Loss: {loss.item()}')"
      ]
    },
    {
      "cell_type": "code",
      "execution_count": null,
      "metadata": {
        "colab": {
          "base_uri": "https://localhost:8080/"
        },
        "id": "ojQHJjqd3sBv",
        "outputId": "cf8bc19d-2874-432c-8af2-28015e012dbd"
      },
      "outputs": [
        {
          "name": "stdout",
          "output_type": "stream",
          "text": [
            "Test Loss: 0.7068867087364197\n"
          ]
        }
      ],
      "source": [
        "# Convert test data to tensors\n",
        "X_test_tensor = torch.tensor(X_test, dtype=torch.float32)\n",
        "y_test_tensor = torch.tensor(y_test, dtype=torch.float32).view(-1, 1)\n",
        "\n",
        "# Forward pass for the test set\n",
        "model.eval()  # Set model to evaluation mode\n",
        "with torch.no_grad():  # Disable gradient computation\n",
        "    predictions = model(X_test_tensor)\n",
        "    test_loss = criterion(predictions, y_test_tensor)\n",
        "    print(f'Test Loss: {test_loss.item()}')"
      ]
    },
    {
      "cell_type": "markdown",
      "metadata": {
        "id": "sEfeoOd749dq"
      },
      "source": [
        "# The Importance of Early Stopping and Validation\n",
        "\n",
        "\n",
        "## Why Early Stopping?\n",
        "Early stopping helps prevent overfitting by stopping training when the model’s performance on a validation set stops improving.\n",
        "## Why Use a Validation Set?\n",
        "The validation set is used to monitor model performance during training. It's separate from the training and test sets and allows us to adjust the model's parameters without looking at the test data (which is reserved for final evaluation).\n",
        "\n",
        "\n",
        "Early stopping is a technique that prevents overfitting by stopping the training process when the model stops improving on the validation set. The validation set serves as a way to tune the model without using the test data, ensuring that the final model generalizes well to new, unseen data."
      ]
    },
    {
      "cell_type": "markdown",
      "metadata": {
        "id": "82gA604h5Lt2"
      },
      "source": [
        "\n",
        "# Modify the dataset split to include a validation set:\n",
        "\n",
        "Here, we split the data into three sets: training, validation, and testing. The validation set will be used to monitor the model's performance during training, and the test set is reserved for final evaluation after training is complete."
      ]
    },
    {
      "cell_type": "code",
      "execution_count": null,
      "metadata": {
        "id": "c0alpbS945Cj"
      },
      "outputs": [],
      "source": [
        "# Split into training, validation, and testing sets\n",
        "#This creates a 60/20/20 split:\n",
        "#60% for training\n",
        "#20% for validation\n",
        "#20% for testing\n",
        "\n",
        "X_train_full, X_test, y_train_full, y_test = train_test_split(X, y, test_size=0.2, random_state=42)\n",
        "X_train, X_val, y_train, y_val = train_test_split(X_train_full, y_train_full, test_size=0.25, random_state=42)\n",
        "\n",
        "# Normalize the data\n",
        "scaler = StandardScaler()\n",
        "X_train = scaler.fit_transform(X_train)\n",
        "X_val = scaler.transform(X_val)\n",
        "X_test = scaler.transform(X_test)"
      ]
    },
    {
      "cell_type": "markdown",
      "metadata": {
        "id": "_RERHszy43XB"
      },
      "source": [
        "# Training with Early Stopping and Validation\n",
        "\n",
        "Training loop with validation monitoring and early stopping"
      ]
    },
    {
      "cell_type": "code",
      "execution_count": null,
      "metadata": {
        "id": "6oZRz7uG7iN6"
      },
      "outputs": [],
      "source": [
        "## We clean the weights of the model\n",
        "model = HousingNN()\n"
      ]
    },
    {
      "cell_type": "code",
      "execution_count": null,
      "metadata": {
        "colab": {
          "base_uri": "https://localhost:8080/"
        },
        "id": "3t5-fJDj30c2",
        "outputId": "8b91b314-66a2-4169-ffa5-ff112c37fadb"
      },
      "outputs": [
        {
          "name": "stdout",
          "output_type": "stream",
          "text": [
            "Epoch 0, Training Loss: 4.667552947998047, Validation Loss: 4.06955623626709\n",
            "Epoch 10, Training Loss: 1.1698719263076782, Validation Loss: 1.5751572847366333\n",
            "Epoch 20, Training Loss: 0.7842504978179932, Validation Loss: 0.98710697889328\n",
            "Epoch 30, Training Loss: 0.6212499737739563, Validation Loss: 0.6188263297080994\n",
            "Epoch 40, Training Loss: 0.5259404182434082, Validation Loss: 0.5991113781929016\n",
            "Epoch 50, Training Loss: 0.4603659510612488, Validation Loss: 0.4702591598033905\n",
            "Epoch 60, Training Loss: 0.42830148339271545, Validation Loss: 0.432624876499176\n",
            "Epoch 70, Training Loss: 0.41144120693206787, Validation Loss: 0.41927555203437805\n",
            "Epoch 80, Training Loss: 0.4006677567958832, Validation Loss: 0.4007548391819\n",
            "Epoch 90, Training Loss: 0.3928740620613098, Validation Loss: 0.39514240622520447\n",
            "Epoch 100, Training Loss: 0.3862643837928772, Validation Loss: 0.3901797831058502\n",
            "Epoch 110, Training Loss: 0.3806920349597931, Validation Loss: 0.38401418924331665\n",
            "Epoch 120, Training Loss: 0.3757101893424988, Validation Loss: 0.3814283311367035\n",
            "Epoch 130, Training Loss: 0.3711921274662018, Validation Loss: 0.3774055540561676\n",
            "Epoch 140, Training Loss: 0.3670111894607544, Validation Loss: 0.3741244077682495\n",
            "Epoch 150, Training Loss: 0.3630320131778717, Validation Loss: 0.3709614872932434\n",
            "Epoch 160, Training Loss: 0.35922133922576904, Validation Loss: 0.36793678998947144\n",
            "Epoch 170, Training Loss: 0.35554733872413635, Validation Loss: 0.36537572741508484\n",
            "Epoch 180, Training Loss: 0.35190141201019287, Validation Loss: 0.36250343918800354\n",
            "Epoch 190, Training Loss: 0.34825435280799866, Validation Loss: 0.3596804440021515\n",
            "Epoch 200, Training Loss: 0.3445214629173279, Validation Loss: 0.3565640449523926\n",
            "Epoch 210, Training Loss: 0.34085118770599365, Validation Loss: 0.3538617193698883\n",
            "Epoch 220, Training Loss: 0.33739903569221497, Validation Loss: 0.3514942228794098\n",
            "Epoch 230, Training Loss: 0.33414146304130554, Validation Loss: 0.34928563237190247\n",
            "Epoch 240, Training Loss: 0.3310842216014862, Validation Loss: 0.3476664125919342\n",
            "Epoch 250, Training Loss: 0.3281072676181793, Validation Loss: 0.34605464339256287\n",
            "Epoch 260, Training Loss: 0.325023889541626, Validation Loss: 0.344685435295105\n",
            "Epoch 270, Training Loss: 0.3222748339176178, Validation Loss: 0.34360218048095703\n",
            "Epoch 280, Training Loss: 0.31969624757766724, Validation Loss: 0.34216633439064026\n",
            "Epoch 290, Training Loss: 0.3172890841960907, Validation Loss: 0.3407859802246094\n",
            "Epoch 300, Training Loss: 0.3151189684867859, Validation Loss: 0.33942362666130066\n",
            "Epoch 310, Training Loss: 0.31303566694259644, Validation Loss: 0.3381914496421814\n",
            "Epoch 320, Training Loss: 0.311110258102417, Validation Loss: 0.3370193541049957\n",
            "Epoch 330, Training Loss: 0.3092553913593292, Validation Loss: 0.3359750807285309\n",
            "Epoch 340, Training Loss: 0.3074483871459961, Validation Loss: 0.33490219712257385\n",
            "Epoch 350, Training Loss: 0.30580997467041016, Validation Loss: 0.33439022302627563\n",
            "Epoch 360, Training Loss: 0.30439257621765137, Validation Loss: 0.33360525965690613\n",
            "Epoch 370, Training Loss: 0.3030829131603241, Validation Loss: 0.33315250277519226\n",
            "Epoch 380, Training Loss: 0.30188828706741333, Validation Loss: 0.33254826068878174\n",
            "Epoch 390, Training Loss: 0.3007425367832184, Validation Loss: 0.33179932832717896\n",
            "Epoch 400, Training Loss: 0.29966849088668823, Validation Loss: 0.33145469427108765\n",
            "Epoch 410, Training Loss: 0.29855719208717346, Validation Loss: 0.3308090269565582\n",
            "Epoch 420, Training Loss: 0.2974066734313965, Validation Loss: 0.3300594687461853\n",
            "Epoch 430, Training Loss: 0.2963225841522217, Validation Loss: 0.3291831314563751\n",
            "Epoch 440, Training Loss: 0.2953675389289856, Validation Loss: 0.32816722989082336\n",
            "Epoch 450, Training Loss: 0.29449978470802307, Validation Loss: 0.32796117663383484\n",
            "Epoch 460, Training Loss: 0.29371705651283264, Validation Loss: 0.3274155855178833\n",
            "Epoch 470, Training Loss: 0.29294729232788086, Validation Loss: 0.32681235671043396\n",
            "Epoch 480, Training Loss: 0.2922428846359253, Validation Loss: 0.3261905908584595\n",
            "Epoch 490, Training Loss: 0.29157617688179016, Validation Loss: 0.32625147700309753\n",
            "Epoch 500, Training Loss: 0.2909359037876129, Validation Loss: 0.3255968987941742\n",
            "Epoch 510, Training Loss: 0.2903135418891907, Validation Loss: 0.3248782753944397\n",
            "Epoch 520, Training Loss: 0.28972914814949036, Validation Loss: 0.3242800533771515\n",
            "Epoch 530, Training Loss: 0.28917196393013, Validation Loss: 0.32372283935546875\n",
            "Epoch 540, Training Loss: 0.2886170744895935, Validation Loss: 0.323295533657074\n",
            "Epoch 550, Training Loss: 0.2880688011646271, Validation Loss: 0.32253968715667725\n",
            "Epoch 560, Training Loss: 0.28751906752586365, Validation Loss: 0.3221583366394043\n",
            "Epoch 570, Training Loss: 0.28706109523773193, Validation Loss: 0.3218773901462555\n",
            "Epoch 580, Training Loss: 0.28661802411079407, Validation Loss: 0.3216168284416199\n",
            "Epoch 590, Training Loss: 0.2861909866333008, Validation Loss: 0.32122603058815\n",
            "Epoch 600, Training Loss: 0.2857840061187744, Validation Loss: 0.3209071159362793\n",
            "Epoch 610, Training Loss: 0.28538236021995544, Validation Loss: 0.3205150365829468\n",
            "Epoch 620, Training Loss: 0.28497737646102905, Validation Loss: 0.3198847472667694\n",
            "Epoch 630, Training Loss: 0.28457924723625183, Validation Loss: 0.3196229636669159\n",
            "Epoch 640, Training Loss: 0.2842104732990265, Validation Loss: 0.3187953233718872\n",
            "Epoch 650, Training Loss: 0.2838514745235443, Validation Loss: 0.3184959590435028\n",
            "Epoch 660, Training Loss: 0.283499538898468, Validation Loss: 0.3183504045009613\n",
            "Epoch 670, Training Loss: 0.2831600308418274, Validation Loss: 0.3181588649749756\n",
            "Epoch 680, Training Loss: 0.2828138768672943, Validation Loss: 0.31782257556915283\n",
            "Epoch 690, Training Loss: 0.2824546694755554, Validation Loss: 0.3175572156906128\n",
            "Epoch 700, Training Loss: 0.28211626410484314, Validation Loss: 0.31773191690444946\n",
            "Epoch 710, Training Loss: 0.28177616000175476, Validation Loss: 0.3173811733722687\n",
            "Epoch 720, Training Loss: 0.28145888447761536, Validation Loss: 0.31663596630096436\n",
            "Epoch 730, Training Loss: 0.28112027049064636, Validation Loss: 0.31696510314941406\n",
            "Epoch 740, Training Loss: 0.2807900011539459, Validation Loss: 0.31624576449394226\n",
            "Early stopping at epoch 746.\n"
          ]
        }
      ],
      "source": [
        "best_val_loss = float('inf')\n",
        "patience = 10\n",
        "epochs_without_improvement = 0\n",
        "\n",
        "optimizer = torch.optim.Adam(model.parameters(), lr=0.01)\n",
        "\n",
        "\n",
        "train_losses = []\n",
        "val_losses = []\n",
        "\n",
        "for epoch in range(5000):\n",
        "    # Training\n",
        "    model.train()\n",
        "    outputs = model(torch.tensor(X_train, dtype=torch.float32))\n",
        "    loss = criterion(outputs, torch.tensor(y_train, dtype=torch.float32).view(-1, 1))\n",
        "    optimizer.zero_grad()\n",
        "    loss.backward()\n",
        "    optimizer.step()\n",
        "    train_losses.append(loss.item())\n",
        "\n",
        "    # Validation\n",
        "    model.eval()\n",
        "    with torch.no_grad():\n",
        "        val_outputs = model(torch.tensor(X_val, dtype=torch.float32))\n",
        "        val_loss = criterion(val_outputs, torch.tensor(y_val, dtype=torch.float32).view(-1, 1))\n",
        "        val_losses.append(val_loss.item())\n",
        "\n",
        "    # Early stopping logic\n",
        "    if val_loss < best_val_loss:\n",
        "        best_val_loss = val_loss\n",
        "        epochs_without_improvement = 0\n",
        "    else:\n",
        "        epochs_without_improvement += 1\n",
        "\n",
        "    if epoch % 10 == 0:\n",
        "        print(f'Epoch {epoch}, Training Loss: {loss.item()}, Validation Loss: {val_loss.item()}')\n",
        "\n",
        "        # Early stopping condition\n",
        "    if epochs_without_improvement >= patience:\n",
        "        print(f\"Early stopping at epoch {epoch}.\")\n",
        "        break\n",
        "\n"
      ]
    },
    {
      "cell_type": "code",
      "execution_count": null,
      "metadata": {
        "colab": {
          "base_uri": "https://localhost:8080/",
          "height": 472
        },
        "id": "eZxGIsQc6EhA",
        "outputId": "ed5f9e13-fdbc-400e-99bb-771ca5a454c5"
      },
      "outputs": [
        {
          "data": {
            "image/png": "[encoded data removed]",
            "text/plain": [
              "<Figure size 640x480 with 1 Axes>"
            ]
          },
          "metadata": {},
          "output_type": "display_data"
        }
      ],
      "source": [
        "import matplotlib.pyplot as plt\n",
        "# Plot losses\n",
        "plt.plot(train_losses, label='Training Loss')\n",
        "plt.plot(val_losses, label='Validation Loss')\n",
        "plt.xlabel('Epoch')\n",
        "plt.ylabel('Loss')\n",
        "plt.title('Training vs Validation Loss')\n",
        "plt.legend()\n",
        "plt.show()\n"
      ]
    },
    {
      "cell_type": "code",
      "execution_count": null,
      "metadata": {
        "colab": {
          "base_uri": "https://localhost:8080/"
        },
        "id": "2FgNya7PLk_i",
        "outputId": "72f634f9-633e-4749-9f55-ec999a5412f2"
      },
      "outputs": [
        {
          "name": "stdout",
          "output_type": "stream",
          "text": [
            "Test Loss: 0.3185901641845703\n"
          ]
        }
      ],
      "source": [
        "# Convert test data to tensors\n",
        "X_test_tensor = torch.tensor(X_test, dtype=torch.float32)\n",
        "y_test_tensor = torch.tensor(y_test, dtype=torch.float32).view(-1, 1)\n",
        "\n",
        "# Forward pass for the test set\n",
        "model.eval()  # Set model to evaluation mode\n",
        "with torch.no_grad():  # Disable gradient computation\n",
        "    predictions = model(X_test_tensor)\n",
        "    test_loss = criterion(predictions, y_test_tensor)\n",
        "    print(f'Test Loss: {test_loss.item()}')"
      ]
    },
    {
      "cell_type": "code",
      "execution_count": null,
      "metadata": {
        "colab": {
          "base_uri": "https://localhost:8080/"
        },
        "id": "IKqkJefjLa1G",
        "outputId": "bb0f2898-665d-4b56-d588-46a8f92f682e"
      },
      "outputs": [
        {
          "name": "stdout",
          "output_type": "stream",
          "text": [
            "R² Score: 0.7569\n"
          ]
        }
      ],
      "source": [
        "from sklearn.metrics import r2_score\n",
        "import torch\n",
        "\n",
        "# Assuming you have the following variables after running the model on test data:\n",
        "# true_values: true target values (from test set)\n",
        "# predicted_values: predicted target values from your model\n",
        "\n",
        "# Example: Convert tensors to numpy arrays for use with r2_score\n",
        "true_values_np = y_test_tensor.cpu().numpy()  # Assuming your data is on GPU, transfer it to CPU\n",
        "predicted_values_np = predictions.cpu().numpy()\n",
        "\n",
        "# Calculate the R² score\n",
        "r2 = r2_score(true_values_np, predicted_values_np)\n",
        "\n",
        "print(f\"R² Score: {r2:.4f}\")"
      ]
    },
    {
      "cell_type": "code",
      "execution_count": null,
      "metadata": {
        "colab": {
          "base_uri": "https://localhost:8080/",
          "height": 564
        },
        "id": "HaIq0AUCOC4V",
        "outputId": "28e5e93b-54d6-4a16-d9fe-4930b9608096"
      },
      "outputs": [
        {
          "data": {
            "image/png": "[encoded data removed]",
            "text/plain": [
              "<Figure size 800x600 with 1 Axes>"
            ]
          },
          "metadata": {},
          "output_type": "display_data"
        }
      ],
      "source": [
        "\n",
        "import matplotlib.pyplot as plt\n",
        "\n",
        "# Assuming you have the following variables after running the model on test data:\n",
        "# true_values_np: true target values (from test set) as a NumPy array\n",
        "# predicted_values_np: predicted target values from your model as a NumPy array\n",
        "\n",
        "plt.figure(figsize=(8, 6))\n",
        "plt.scatter(true_values_np, predicted_values_np, c='blue', marker='o', alpha=0.5)\n",
        "\n",
        "plt.xlabel(\"True Values\")\n",
        "plt.ylabel(\"Predicted Values\")\n",
        "plt.title(\"Predicted vs. True Values\")\n",
        "plt.grid(True)\n",
        "plt.show()\n"
      ]
    },
    {
      "cell_type": "markdown",
      "metadata": {
        "id": "jvODoBwz6BeB"
      },
      "source": [
        "# Classification example\n",
        "MNIST Classification Task with Neural Networks\n",
        "\n",
        "The MNIST dataset consists of 28x28 grayscale images of handwritten digits (0 to 9).\n",
        "The task is to classify each image as one of the digits.\n",
        "Dataset Size:\n",
        "*  60,000 training images.\n",
        "*  10,000 test images.\n",
        "\n",
        "\n",
        "\n",
        "\n",
        "\n"
      ]
    },
    {
      "cell_type": "code",
      "execution_count": null,
      "metadata": {
        "colab": {
          "base_uri": "https://localhost:8080/"
        },
        "id": "OA0uqXRT-ezj",
        "outputId": "6bb31d37-43e8-4c14-8d28-3b43997cd648"
      },
      "outputs": [
        {
          "name": "stdout",
          "output_type": "stream",
          "text": [
            "Downloading http://yann.lecun.com/exdb/mnist/train-images-idx3-ubyte.gz\n",
            "Failed to download (trying next):\n",
            "HTTP Error 403: Forbidden\n",
            "\n",
            "Downloading https://ossci-datasets.s3.amazonaws.com/mnist/train-images-idx3-ubyte.gz\n",
            "Downloading https://ossci-datasets.s3.amazonaws.com/mnist/train-images-idx3-ubyte.gz to ./data/MNIST/raw/train-images-idx3-ubyte.gz\n"
          ]
        },
        {
          "name": "stderr",
          "output_type": "stream",
          "text": [
            "100%|██████████| 9912422/9912422 [00:00<00:00, 16149958.88it/s]\n"
          ]
        },
        {
          "name": "stdout",
          "output_type": "stream",
          "text": [
            "Extracting ./data/MNIST/raw/train-images-idx3-ubyte.gz to ./data/MNIST/raw\n",
            "\n",
            "Downloading http://yann.lecun.com/exdb/mnist/train-labels-idx1-ubyte.gz\n",
            "Failed to download (trying next):\n",
            "HTTP Error 403: Forbidden\n",
            "\n",
            "Downloading https://ossci-datasets.s3.amazonaws.com/mnist/train-labels-idx1-ubyte.gz\n",
            "Downloading https://ossci-datasets.s3.amazonaws.com/mnist/train-labels-idx1-ubyte.gz to ./data/MNIST/raw/train-labels-idx1-ubyte.gz\n"
          ]
        },
        {
          "name": "stderr",
          "output_type": "stream",
          "text": [
            "100%|██████████| 28881/28881 [00:00<00:00, 485766.91it/s]\n"
          ]
        },
        {
          "name": "stdout",
          "output_type": "stream",
          "text": [
            "Extracting ./data/MNIST/raw/train-labels-idx1-ubyte.gz to ./data/MNIST/raw\n",
            "\n",
            "Downloading http://yann.lecun.com/exdb/mnist/t10k-images-idx3-ubyte.gz\n",
            "Failed to download (trying next):\n",
            "HTTP Error 403: Forbidden\n",
            "\n",
            "Downloading https://ossci-datasets.s3.amazonaws.com/mnist/t10k-images-idx3-ubyte.gz\n",
            "Downloading https://ossci-datasets.s3.amazonaws.com/mnist/t10k-images-idx3-ubyte.gz to ./data/MNIST/raw/t10k-images-idx3-ubyte.gz\n"
          ]
        },
        {
          "name": "stderr",
          "output_type": "stream",
          "text": [
            "100%|██████████| 1648877/1648877 [00:00<00:00, 4516131.84it/s]\n"
          ]
        },
        {
          "name": "stdout",
          "output_type": "stream",
          "text": [
            "Extracting ./data/MNIST/raw/t10k-images-idx3-ubyte.gz to ./data/MNIST/raw\n",
            "\n",
            "Downloading http://yann.lecun.com/exdb/mnist/t10k-labels-idx1-ubyte.gz\n",
            "Failed to download (trying next):\n",
            "HTTP Error 403: Forbidden\n",
            "\n",
            "Downloading https://ossci-datasets.s3.amazonaws.com/mnist/t10k-labels-idx1-ubyte.gz\n",
            "Downloading https://ossci-datasets.s3.amazonaws.com/mnist/t10k-labels-idx1-ubyte.gz to ./data/MNIST/raw/t10k-labels-idx1-ubyte.gz\n"
          ]
        },
        {
          "name": "stderr",
          "output_type": "stream",
          "text": [
            "100%|██████████| 4542/4542 [00:00<00:00, 4627284.13it/s]"
          ]
        },
        {
          "name": "stdout",
          "output_type": "stream",
          "text": [
            "Extracting ./data/MNIST/raw/t10k-labels-idx1-ubyte.gz to ./data/MNIST/raw\n",
            "\n"
          ]
        },
        {
          "name": "stderr",
          "output_type": "stream",
          "text": [
            "\n"
          ]
        }
      ],
      "source": [
        "from torch.utils.data import random_split\n",
        "import torchvision.transforms as transforms\n",
        "from torchvision.datasets import MNIST\n",
        "from torch.utils.data import DataLoader\n",
        "\n",
        "# Define transforms, including normalization to range [0, 1]\n",
        "transform = transforms.Compose([\n",
        "    transforms.ToTensor(),  # Converts image to PyTorch tensor and scales values from [0, 255] to [0, 1]\n",
        "    transforms.Normalize((0.5,), (0.5,))  # Normalize the tensor: mean 0.5, std 0.5 (maps range [0, 1] to [-1, 1])\n",
        "])\n",
        "\n",
        "# Load the MNIST dataset\n",
        "full_train_data = MNIST(root='./data', train=True, download=True, transform=transform)\n",
        "test_data = MNIST(root='./data', train=False, download=True, transform=transform)\n",
        "\n",
        "# Define the lengths of the training and validation sets (e.g., 90% train, 10% validation)\n",
        "train_size = int(0.9 * len(full_train_data))  # 90% for training\n",
        "val_size = len(full_train_data) - train_size  # 10% for validation\n",
        "\n",
        "# Split the dataset into training and validation sets\n",
        "train_data, val_data = random_split(full_train_data, [train_size, val_size])\n",
        "\n",
        "# Create DataLoader for batching\n",
        "train_loader = DataLoader(dataset=train_data, batch_size=64, shuffle=True)\n",
        "val_loader = DataLoader(dataset=val_data, batch_size=64, shuffle=False)\n",
        "test_loader = DataLoader(dataset=test_data, batch_size=64, shuffle=False)"
      ]
    },
    {
      "cell_type": "code",
      "execution_count": null,
      "metadata": {
        "colab": {
          "base_uri": "https://localhost:8080/",
          "height": 192
        },
        "id": "CFRnaRHoQcr5",
        "outputId": "96c2bbf0-ed6b-4981-922c-1119136de830"
      },
      "outputs": [
        {
          "data": {
            "image/png": "[encoded data removed]",
            "text/plain": [
              "<Figure size 1200x300 with 6 Axes>"
            ]
          },
          "metadata": {},
          "output_type": "display_data"
        }
      ],
      "source": [
        "# Get one batch of images and labels\n",
        "data_iter = iter(train_loader)\n",
        "images, labels = next(data_iter)\n",
        "\n",
        "# Plot the batch of images with labels\n",
        "fig, axes = plt.subplots(1, 6, figsize=(12, 3))\n",
        "for i in range(6):\n",
        "    axes[i].imshow(images[i].squeeze(), cmap='gray')\n",
        "    axes[i].set_title(f\"Label: {labels[i].item()}\")\n",
        "    axes[i].axis('off')\n",
        "\n",
        "plt.show()"
      ]
    },
    {
      "cell_type": "code",
      "execution_count": null,
      "metadata": {
        "id": "4mqkE9k27ad7"
      },
      "outputs": [],
      "source": [
        "class MNISTNN(nn.Module):\n",
        "    def __init__(self):\n",
        "        super(MNISTNN, self).__init__()\n",
        "        self.fc1 = nn.Linear(28*28, 128)  # Input: 28x28 image, 128 neurons in the hidden layer\n",
        "        self.fc2 = nn.Linear(128, 64)     # Second hidden layer with 64 neurons\n",
        "        self.fc3 = nn.Linear(64, 10)      # Output layer: 10 classes (digits 0-9)\n",
        "\n",
        "    def forward(self, x):\n",
        "        x = x.view(-1, 28*28)            # Flatten the input image to 1D\n",
        "        x = torch.relu(self.fc1(x))       # ReLU activation for hidden layers\n",
        "        x = torch.relu(self.fc2(x))\n",
        "        x = self.fc3(x)                   # No activation for the output (use CrossEntropyLoss)\n",
        "        return x"
      ]
    },
    {
      "cell_type": "code",
      "execution_count": null,
      "metadata": {
        "colab": {
          "base_uri": "https://localhost:8080/"
        },
        "id": "exm0Mrbc9BCD",
        "outputId": "6663fc78-115f-4046-c91a-466909769fe2"
      },
      "outputs": [
        {
          "name": "stdout",
          "output_type": "stream",
          "text": [
            "cuda\n"
          ]
        }
      ],
      "source": [
        "device = torch.device(\"cuda\" if torch.cuda.is_available() else \"cpu\")\n",
        "print(device)"
      ]
    },
    {
      "cell_type": "code",
      "execution_count": null,
      "metadata": {
        "id": "CfHDn7Vp8ggG"
      },
      "outputs": [],
      "source": [
        "model = MNISTNN().to(device)  # Move model to GPU\n",
        "criterion = nn.CrossEntropyLoss()\n",
        "optimizer = torch.optim.Adam(model.parameters(), lr=0.001)\n"
      ]
    },
    {
      "cell_type": "code",
      "execution_count": null,
      "metadata": {
        "colab": {
          "base_uri": "https://localhost:8080/"
        },
        "id": "cfrGpQom8ohR",
        "outputId": "4f8d0cd7-23cf-4f42-eea9-8900142c5b6e"
      },
      "outputs": [
        {
          "name": "stdout",
          "output_type": "stream",
          "text": [
            "Epoch 1/10, Loss: 0.23576588928699493\n",
            "Epoch 2/10, Loss: 0.18601447343826294\n",
            "Epoch 3/10, Loss: 0.04424705728888512\n",
            "Epoch 4/10, Loss: 0.06841114908456802\n",
            "Epoch 5/10, Loss: 0.09444887191057205\n",
            "Epoch 6/10, Loss: 0.1404186338186264\n",
            "Epoch 7/10, Loss: 0.13535238802433014\n",
            "Epoch 8/10, Loss: 0.05839109420776367\n",
            "Epoch 9/10, Loss: 0.05946332588791847\n",
            "Epoch 10/10, Loss: 0.03242111951112747\n"
          ]
        }
      ],
      "source": [
        "best_val_loss = float('inf')\n",
        "patience = 5\n",
        "epochs_without_improvement = 0\n",
        "num_epochs = 10\n",
        "\n",
        "\n",
        "for epoch in range(num_epochs):\n",
        "    # Training loop\n",
        "    model.train()\n",
        "    for batch in train_loader:\n",
        "        images, labels = batch\n",
        "        images, labels = images.to(device), labels.to(device)\n",
        "\n",
        "        optimizer.zero_grad()\n",
        "        outputs = model(images)\n",
        "        loss = criterion(outputs, labels)\n",
        "        loss.backward()\n",
        "        optimizer.step()\n",
        "\n",
        "    # Validation loop\n",
        "    model.eval()\n",
        "    val_loss = 0\n",
        "    with torch.no_grad():\n",
        "        for val_batch in val_loader:\n",
        "            val_images, val_labels = val_batch\n",
        "            val_images, val_labels = val_images.to(device), val_labels.to(device)\n",
        "            val_outputs = model(val_images)\n",
        "            val_loss += criterion(val_outputs, val_labels).item()\n",
        "\n",
        "    val_loss /= len(val_loader)  # Average validation loss\n",
        "\n",
        "    # Early stopping logic\n",
        "    if val_loss < best_val_loss:\n",
        "        best_val_loss = val_loss\n",
        "        epochs_without_improvement = 0\n",
        "    else:\n",
        "        epochs_without_improvement += 1\n",
        "\n",
        "    print(f'Epoch {epoch+1}/{num_epochs}, Loss: {loss.item()}')\n",
        "\n",
        "    if epochs_without_improvement >= patience:\n",
        "        print(f'Early stopping at epoch {epoch+1}.')\n",
        "        break\n",
        "\n"
      ]
    },
    {
      "cell_type": "code",
      "execution_count": null,
      "metadata": {
        "colab": {
          "base_uri": "https://localhost:8080/"
        },
        "id": "FsRksV3A9xIo",
        "outputId": "2023f81f-a0ef-48d3-daaf-20eecefbd244"
      },
      "outputs": [
        {
          "name": "stdout",
          "output_type": "stream",
          "text": [
            "Accuracy of the model on the test set: 97.08%\n"
          ]
        }
      ],
      "source": [
        "model.eval()  # Set the model to evaluation mode\n",
        "correct = 0\n",
        "total = 0\n",
        "with torch.no_grad():\n",
        "    for batch in test_loader:\n",
        "        images, labels = batch\n",
        "        images, labels = images.to(device), labels.to(device)  # Move data to GPU\n",
        "\n",
        "        outputs = model(images)\n",
        "        _, predicted = torch.max(outputs, 1)  # Get the predicted labels\n",
        "        total += labels.size(0)\n",
        "        correct += (predicted == labels).sum().item()\n",
        "\n",
        "print(f'Accuracy of the model on the test set: {100 * correct / total}%')"
      ]
    },
    {
      "cell_type": "markdown",
      "metadata": {
        "id": "mU4-aVd3GO-Q"
      },
      "source": [
        "# Save the Model (Optional)\n",
        "After training is done, you can save the trained model to a file for later use."
      ]
    },
    {
      "cell_type": "code",
      "execution_count": null,
      "metadata": {
        "id": "RvZFuS3cGPL0"
      },
      "outputs": [],
      "source": [
        "torch.save(model.state_dict(), 'mnist_model.pth')  # Save the model's parameters to a file\n"
      ]
    }
  ],
  "metadata": {
    "accelerator": "GPU",
    "colab": {
      "gpuType": "T4",
      "provenance": []
    },
    "kernelspec": {
      "display_name": "Python 3",
      "name": "python3"
    },
    "language_info": {
      "codemirror_mode": {
        "name": "ipython",
        "version": 3
      },
      "file_extension": ".py",
      "mimetype": "text/x-python",
      "name": "python",
      "nbconvert_exporter": "python",
      "pygments_lexer": "ipython3",
      "version": "3.12.0"
    }
  },
  "nbformat": 4,
  "nbformat_minor": 0
}
