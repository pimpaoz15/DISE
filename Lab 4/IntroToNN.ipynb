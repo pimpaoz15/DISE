{
  "cells": [
    {
      "cell_type": "markdown",
      "metadata": {
        "id": "8WaQ07e6_rNO"
      },
      "source": [
        "# What is a Class-Based Model in PyTorch?\n",
        "In PyTorch, neural networks are defined as classes that inherit from torch.nn.Module. This structure allows you to organize your model's layers and operations in a clear and reusable way. PyTorch’s nn.Module provides the building blocks for layers, loss functions, and other key components needed to build deep learning models.\n",
        "\n",
        "Let’s start from the basics:\n",
        "\n",
        "# Step 1: Define a Class that Inherits from nn.Module\n",
        "\n",
        "Every PyTorch model is a class that inherits from torch.nn.Module. This is the base class for all neural networks in PyTorch, and it contains useful methods like saving and loading models."
      ]
    },
    {
      "cell_type": "code",
      "execution_count": 1,
      "metadata": {
        "id": "y8nV5eWd_-dQ"
      },
      "outputs": [],
      "source": [
        "import torch\n",
        "import torch.nn as nn\n",
        "\n",
        "class MySimpleModel(nn.Module):  # Inherit from nn.Module\n",
        "    def __init__(self):\n",
        "        super(MySimpleModel, self).__init__()  # Call the parent class (nn.Module) constructor"
      ]
    },
    {
      "cell_type": "markdown",
      "metadata": {
        "id": "DN6eD_UxAGDc"
      },
      "source": [
        "## Explanation:\n",
        "MySimpleModel is the name of your class, which represents the neural network.\n",
        "\n",
        "*   nn.Module is the base class provided by PyTorch for all models.\n",
        "*   super(MySimpleModel, self).__init__() ensures that the initialization of nn.Module happens properly so that all the PyTorch machinery works."
      ]
    },
    {
      "cell_type": "markdown",
      "metadata": {
        "id": "4uJYd2VRAk3R"
      },
      "source": [
        "# Step 2: Define the Layers in the __init__() Method\n",
        "In the __init__() method, you define the layers of your neural network. PyTorch provides many types of layers, but the most common ones are fully connected layers (also known as linear layers), convolutional layers, and activation functions.\n",
        "\n",
        "Here’s an example of a simple feedforward neural network:"
      ]
    },
    {
      "cell_type": "code",
      "execution_count": 2,
      "metadata": {
        "id": "njAVd3q-Aj7q"
      },
      "outputs": [],
      "source": [
        "class MySimpleModel(nn.Module):\n",
        "    def __init__(self):\n",
        "        super(MySimpleModel, self).__init__()\n",
        "\n",
        "        # Define layers\n",
        "        self.fc1 = nn.Linear(28 * 28, 128)  # Input layer (flattened 28x28 image to 128 neurons)\n",
        "        self.fc2 = nn.Linear(128, 64)       # Hidden layer (128 to 64 neurons)\n",
        "        self.fc3 = nn.Linear(64, 10)        # Output layer (64 neurons to 10 classes for classification)\n",
        "\n",
        "        # Optionally, you can define activation functions here\n",
        "        self.relu = nn.ReLU()               # ReLU activation function"
      ]
    },
    {
      "cell_type": "markdown",
      "metadata": {
        "id": "L2caJF1IA5pb"
      },
      "source": [
        "*   self.fc1 = nn.Linear(28*28, 128): The first layer is a fully connected (linear) layer that takes the 28x28 pixels of an image (flattened into a vector of size 784) and maps it to 128 neurons.\n",
        "*   self.fc2 = nn.Linear(128, 64): The second layer takes the 128 neurons from the first layer and maps them to 64 neurons.\n",
        "*   self.fc3 = nn.Linear(64, 10): The final layer maps the 64 neurons to 10 neurons (one for each digit from 0 to 9, in the case of digit classification).\n",
        "*   self.relu = nn.ReLU(): ReLU is a popular activation function that introduces non-linearity to the model, helping it learn complex patterns."
      ]
    },
    {
      "cell_type": "markdown",
      "metadata": {
        "id": "sAnSAys9BL5G"
      },
      "source": [
        "# Step 3: Define the Forward Pass in the forward() Method\n",
        "The forward() method defines the forward pass of the network. This is how data flows through the network—from input to output. In PyTorch, you don't manually define the backward pass (for backpropagation), as PyTorch automatically handles it for you using autograd"
      ]
    },
    {
      "cell_type": "code",
      "execution_count": 3,
      "metadata": {
        "id": "3BtEQlYfBLA7"
      },
      "outputs": [],
      "source": [
        "class MySimpleModel(nn.Module):\n",
        "    def __init__(self):\n",
        "        super(MySimpleModel, self).__init__()\n",
        "        self.fc1 = nn.Linear(28 * 28, 128)\n",
        "        self.fc2 = nn.Linear(128, 64)\n",
        "        self.fc3 = nn.Linear(64, 10)\n",
        "        self.relu = nn.ReLU()\n",
        "\n",
        "    # Define the forward pass\n",
        "    def forward(self, x):\n",
        "        x = x.view(-1, 28 * 28)  # Flatten the input (28x28) into a vector of size 784\n",
        "        x = self.relu(self.fc1(x))  # Pass through the first layer and apply ReLU\n",
        "        x = self.relu(self.fc2(x))  # Pass through the second layer and apply ReLU\n",
        "        x = self.fc3(x)  # Pass through the output layer (no activation for output)\n",
        "        return x\n"
      ]
    },
    {
      "cell_type": "markdown",
      "metadata": {
        "id": "LyCWD9RJD77r"
      },
      "source": [
        "Explanation:\n",
        "*  x = x.view(-1, 28*28): This flattens the input images (28x28 pixels) into a single vector of 784 elements because fully connected layers expect a 1D vector as input.\n",
        "*  x = self.relu(self.fc1(x)): The input x is passed through the first fully connected layer (fc1), and then the ReLU activation function is applied.\n",
        "*  x = self.relu(self.fc2(x)): The output from the first layer is passed to the second layer (fc2), and ReLU is applied again.\n",
        "*  x = self.fc3(x): Finally, the output is passed to the third layer (fc3), which outputs the final predictions. In this case, we don’t use an activation function because we will apply a loss function that takes care of it, such as CrossEntropyLoss for classification.\n",
        "\n",
        "\n"
      ]
    },
    {
      "cell_type": "markdown",
      "metadata": {
        "id": "rUguRIbyEGP2"
      },
      "source": [
        "# Step 4: Instantiate and Use the Model\n",
        "Once the model class is defined, you can instantiate it and pass data through it to make predictions."
      ]
    },
    {
      "cell_type": "code",
      "execution_count": 4,
      "metadata": {
        "colab": {
          "base_uri": "https://localhost:8080/"
        },
        "id": "5ZIpYLqQEIdu",
        "outputId": "33ae9707-3f8c-4ab9-b2e5-2aad8fe25bdc"
      },
      "outputs": [
        {
          "name": "stdout",
          "output_type": "stream",
          "text": [
            "torch.Size([64, 10])\n"
          ]
        }
      ],
      "source": [
        "# Create an instance of the model\n",
        "model = MySimpleModel()\n",
        "\n",
        "# Example: Create a batch of random images (batch size of 64, 28x28 pixels)\n",
        "inputs = torch.randn(64, 1, 28, 28)  # 64 images, each of size 28x28\n",
        "outputs = model(inputs)  # Forward pass through the model\n",
        "\n",
        "print(outputs.shape)  # Output will have shape (64, 10) since there are 10 output classes\n"
      ]
    },
    {
      "cell_type": "markdown",
      "metadata": {
        "id": "u_XjH_ajEK1h"
      },
      "source": [
        "Explanation:\n",
        "*  model = MySimpleModel(): This creates an instance of the neural network.\n",
        "*  inputs = torch.randn(64, 1, 28, 28): This simulates a batch of 64 random images, each with 1 channel (grayscale) and size 28x28.\n",
        "*  outputs = model(inputs): This performs the forward pass through the model, giving predictions for each image."
      ]
    },
    {
      "cell_type": "markdown",
      "metadata": {
        "id": "kNcmUugjEbVB"
      },
      "source": [
        "# Why Use Class-Based Models in PyTorch?\n",
        "*  Reusability: Defining models as classes makes them reusable and modular. You can easily adjust layers and reuse the class for different tasks.\n",
        "*  Flexibility: The forward() method can contain any arbitrary operations, giving you full control over how data flows through the network.\n",
        "*  Autograd and Optimization: Once the forward() method is defined, PyTorch automatically takes care of the backward pass (calculating gradients for backpropagation)."
      ]
    },
    {
      "cell_type": "markdown",
      "metadata": {
        "id": "-IozcQG24PE4"
      },
      "source": [
        "# Regression Example\n",
        "Here, we load the California Housing dataset using sklearn. We split it into features (X) and target values (y), and then further split it into training and testing sets. It's important to normalize the data to ensure the model trains efficiently.\n",
        "The features include information like the number of rooms, population, and proximity to the ocean, and the target is the median house price."
      ]
    },
    {
      "cell_type": "code",
      "execution_count": 5,
      "metadata": {
        "id": "cFpAllLc2TGP"
      },
      "outputs": [],
      "source": [
        "import os\n",
        "import ssl\n",
        "import numpy as np\n",
        "from sklearn.datasets import fetch_california_housing\n",
        "from sklearn.model_selection import train_test_split\n",
        "from sklearn.preprocessing import StandardScaler\n",
        "import torch\n",
        "import torch.nn as nn\n",
        "\n",
        "# get the data\n",
        "data = fetch_california_housing()\n",
        "\n",
        "X = data.data\n",
        "y = data.target\n",
        "\n",
        "# Split into training and testing sets\n",
        "X_train, X_test, y_train, y_test = train_test_split(X, y, test_size=0.2, random_state=42)\n",
        "\n",
        "# Normalize the data\n",
        "scaler = StandardScaler()\n",
        "X_train = scaler.fit_transform(X_train)\n",
        "X_test = scaler.transform(X_test)"
      ]
    },
    {
      "cell_type": "code",
      "execution_count": 6,
      "metadata": {
        "id": "Rx4b2_6A3RqR"
      },
      "outputs": [],
      "source": [
        "class HousingNN(nn.Module):\n",
        "    def __init__(self):\n",
        "        super(HousingNN, self).__init__()\n",
        "        self.fc1 = nn.Linear(8, 64)   # 8 input features, 64 neurons in the hidden layer\n",
        "        self.fc2 = nn.Linear(64, 1)   # 1 output for regression\n",
        "\n",
        "    def forward(self, x):\n",
        "        x = torch.relu(self.fc1(x))   # ReLU activation in hidden layer\n",
        "        x = self.fc2(x)               # Output layer\n",
        "        return x\n",
        "\n",
        "# Initialize the model, loss function, and optimizer\n",
        "model = HousingNN()\n",
        "criterion = nn.MSELoss()  # Mean Squared Error for regression\n",
        "optimizer = torch.optim.Adam(model.parameters(), lr=0.001)"
      ]
    },
    {
      "cell_type": "code",
      "execution_count": 7,
      "metadata": {
        "colab": {
          "base_uri": "https://localhost:8080/"
        },
        "id": "LYJLjvhR3Xbn",
        "outputId": "130c089e-2eeb-4340-ff44-79730e5341b2"
      },
      "outputs": [
        {
          "name": "stdout",
          "output_type": "stream",
          "text": [
            "Epoch 0, Loss: 4.393232822418213\n",
            "Epoch 10, Loss: 3.7750494480133057\n",
            "Epoch 20, Loss: 3.2220852375030518\n",
            "Epoch 30, Loss: 2.7261996269226074\n",
            "Epoch 40, Loss: 2.2805325984954834\n",
            "Epoch 50, Loss: 1.8844391107559204\n",
            "Epoch 60, Loss: 1.5435456037521362\n",
            "Epoch 70, Loss: 1.265734314918518\n",
            "Epoch 80, Loss: 1.0552010536193848\n",
            "Epoch 90, Loss: 0.9098442792892456\n",
            "Epoch 100, Loss: 0.8193939328193665\n",
            "Epoch 110, Loss: 0.7672736048698425\n",
            "Epoch 120, Loss: 0.7367802262306213\n",
            "Epoch 130, Loss: 0.7160478830337524\n",
            "Epoch 140, Loss: 0.6989524960517883\n",
            "Epoch 150, Loss: 0.6832213997840881\n",
            "Epoch 160, Loss: 0.6683266162872314\n",
            "Epoch 170, Loss: 0.6541746854782104\n",
            "Epoch 180, Loss: 0.6406610608100891\n",
            "Epoch 190, Loss: 0.6277167797088623\n"
          ]
        }
      ],
      "source": [
        "for epoch in range(200):  # Train for 100 epochs\n",
        "    # Convert data to tensors\n",
        "    inputs = torch.tensor(X_train, dtype=torch.float32)\n",
        "    targets = torch.tensor(y_train, dtype=torch.float32).view(-1, 1)  # Reshape target\n",
        "\n",
        "    # Forward pass\n",
        "    outputs = model(inputs)\n",
        "    loss = criterion(outputs, targets)\n",
        "\n",
        "    # Backward pass and optimization\n",
        "    optimizer.zero_grad()\n",
        "    loss.backward()\n",
        "    optimizer.step()\n",
        "\n",
        "    if epoch % 10 == 0:\n",
        "        print(f'Epoch {epoch}, Loss: {loss.item()}')"
      ]
    },
    {
      "cell_type": "code",
      "execution_count": 8,
      "metadata": {
        "colab": {
          "base_uri": "https://localhost:8080/"
        },
        "id": "ojQHJjqd3sBv",
        "outputId": "cf8bc19d-2874-432c-8af2-28015e012dbd"
      },
      "outputs": [
        {
          "name": "stdout",
          "output_type": "stream",
          "text": [
            "Test Loss: 0.6271827220916748\n"
          ]
        }
      ],
      "source": [
        "# Convert test data to tensors\n",
        "X_test_tensor = torch.tensor(X_test, dtype=torch.float32)\n",
        "y_test_tensor = torch.tensor(y_test, dtype=torch.float32).view(-1, 1)\n",
        "\n",
        "# Forward pass for the test set\n",
        "model.eval()  # Set model to evaluation mode\n",
        "with torch.no_grad():  # Disable gradient computation\n",
        "    predictions = model(X_test_tensor)\n",
        "    test_loss = criterion(predictions, y_test_tensor)\n",
        "    print(f'Test Loss: {test_loss.item()}')"
      ]
    },
    {
      "cell_type": "markdown",
      "metadata": {
        "id": "sEfeoOd749dq"
      },
      "source": [
        "# The Importance of Early Stopping and Validation\n",
        "\n",
        "\n",
        "## Why Early Stopping?\n",
        "Early stopping helps prevent overfitting by stopping training when the model’s performance on a validation set stops improving.\n",
        "## Why Use a Validation Set?\n",
        "The validation set is used to monitor model performance during training. It's separate from the training and test sets and allows us to adjust the model's parameters without looking at the test data (which is reserved for final evaluation).\n",
        "\n",
        "\n",
        "Early stopping is a technique that prevents overfitting by stopping the training process when the model stops improving on the validation set. The validation set serves as a way to tune the model without using the test data, ensuring that the final model generalizes well to new, unseen data."
      ]
    },
    {
      "cell_type": "markdown",
      "metadata": {
        "id": "82gA604h5Lt2"
      },
      "source": [
        "\n",
        "# Modify the dataset split to include a validation set:\n",
        "\n",
        "Here, we split the data into three sets: training, validation, and testing. The validation set will be used to monitor the model's performance during training, and the test set is reserved for final evaluation after training is complete."
      ]
    },
    {
      "cell_type": "code",
      "execution_count": 9,
      "metadata": {
        "id": "c0alpbS945Cj"
      },
      "outputs": [],
      "source": [
        "# Split into training, validation, and testing sets\n",
        "#This creates a 60/20/20 split:\n",
        "#60% for training\n",
        "#20% for validation\n",
        "#20% for testing\n",
        "\n",
        "X_train_full, X_test, y_train_full, y_test = train_test_split(X, y, test_size=0.2, random_state=42)\n",
        "X_train, X_val, y_train, y_val = train_test_split(X_train_full, y_train_full, test_size=0.25, random_state=42)\n",
        "\n",
        "# Normalize the data\n",
        "scaler = StandardScaler()\n",
        "X_train = scaler.fit_transform(X_train)\n",
        "X_val = scaler.transform(X_val)\n",
        "X_test = scaler.transform(X_test)"
      ]
    },
    {
      "cell_type": "markdown",
      "metadata": {
        "id": "_RERHszy43XB"
      },
      "source": [
        "# Training with Early Stopping and Validation\n",
        "\n",
        "Training loop with validation monitoring and early stopping"
      ]
    },
    {
      "cell_type": "code",
      "execution_count": 10,
      "metadata": {
        "id": "6oZRz7uG7iN6"
      },
      "outputs": [],
      "source": [
        "## We clean the weights of the model\n",
        "model = HousingNN()\n"
      ]
    },
    {
      "cell_type": "code",
      "execution_count": 11,
      "metadata": {
        "colab": {
          "base_uri": "https://localhost:8080/"
        },
        "id": "3t5-fJDj30c2",
        "outputId": "8b91b314-66a2-4169-ffa5-ff112c37fadb"
      },
      "outputs": [
        {
          "name": "stdout",
          "output_type": "stream",
          "text": [
            "Epoch 0, Training Loss: 5.987254619598389, Validation Loss: 5.300386428833008\n",
            "Epoch 10, Training Loss: 1.4766066074371338, Validation Loss: 1.8039220571517944\n",
            "Epoch 20, Training Loss: 0.9684175252914429, Validation Loss: 0.9698532223701477\n",
            "Epoch 30, Training Loss: 0.7568994164466858, Validation Loss: 0.7601690292358398\n",
            "Epoch 40, Training Loss: 0.6223229765892029, Validation Loss: 0.6900351047515869\n",
            "Epoch 50, Training Loss: 0.5275862812995911, Validation Loss: 0.5448921918869019\n",
            "Epoch 60, Training Loss: 0.4749240279197693, Validation Loss: 0.4872603416442871\n",
            "Epoch 70, Training Loss: 0.44441646337509155, Validation Loss: 0.4556868374347687\n",
            "Epoch 80, Training Loss: 0.4271496534347534, Validation Loss: 0.4350124001502991\n",
            "Epoch 90, Training Loss: 0.41476601362228394, Validation Loss: 0.42140305042266846\n",
            "Epoch 100, Training Loss: 0.4051247537136078, Validation Loss: 0.4122026860713959\n",
            "Epoch 110, Training Loss: 0.3970947265625, Validation Loss: 0.4054977297782898\n",
            "Epoch 120, Training Loss: 0.38985568284988403, Validation Loss: 0.39836615324020386\n",
            "Epoch 130, Training Loss: 0.3831126391887665, Validation Loss: 0.39233243465423584\n",
            "Epoch 140, Training Loss: 0.376660019159317, Validation Loss: 0.3856433928012848\n",
            "Epoch 150, Training Loss: 0.37065035104751587, Validation Loss: 0.3809031844139099\n",
            "Epoch 160, Training Loss: 0.36490413546562195, Validation Loss: 0.37647902965545654\n",
            "Epoch 170, Training Loss: 0.35922884941101074, Validation Loss: 0.37162303924560547\n",
            "Epoch 180, Training Loss: 0.3541431427001953, Validation Loss: 0.36783280968666077\n",
            "Epoch 190, Training Loss: 0.3494803011417389, Validation Loss: 0.36374199390411377\n",
            "Epoch 200, Training Loss: 0.34519001841545105, Validation Loss: 0.36043256521224976\n",
            "Epoch 210, Training Loss: 0.34118810296058655, Validation Loss: 0.35761839151382446\n",
            "Epoch 220, Training Loss: 0.33756861090660095, Validation Loss: 0.35527345538139343\n",
            "Epoch 230, Training Loss: 0.33425894379615784, Validation Loss: 0.3531346023082733\n",
            "Epoch 240, Training Loss: 0.33122631907463074, Validation Loss: 0.3514537811279297\n",
            "Epoch 250, Training Loss: 0.32843318581581116, Validation Loss: 0.34981074929237366\n",
            "Epoch 260, Training Loss: 0.32585299015045166, Validation Loss: 0.3479597866535187\n",
            "Epoch 270, Training Loss: 0.3234935700893402, Validation Loss: 0.3464617133140564\n",
            "Epoch 280, Training Loss: 0.3213006854057312, Validation Loss: 0.3452434241771698\n",
            "Epoch 290, Training Loss: 0.3192599415779114, Validation Loss: 0.3441444933414459\n",
            "Epoch 300, Training Loss: 0.3173472285270691, Validation Loss: 0.3427213132381439\n",
            "Epoch 310, Training Loss: 0.3155544698238373, Validation Loss: 0.3413543105125427\n",
            "Epoch 320, Training Loss: 0.31388792395591736, Validation Loss: 0.34020888805389404\n",
            "Epoch 330, Training Loss: 0.31236931681632996, Validation Loss: 0.339113712310791\n",
            "Epoch 340, Training Loss: 0.3109513819217682, Validation Loss: 0.3380611836910248\n",
            "Epoch 350, Training Loss: 0.3096233904361725, Validation Loss: 0.336976021528244\n",
            "Epoch 360, Training Loss: 0.3083934485912323, Validation Loss: 0.33612459897994995\n",
            "Epoch 370, Training Loss: 0.30723366141319275, Validation Loss: 0.3350565731525421\n",
            "Epoch 380, Training Loss: 0.3061003088951111, Validation Loss: 0.3343260884284973\n",
            "Epoch 390, Training Loss: 0.30498257279396057, Validation Loss: 0.3334454894065857\n",
            "Epoch 400, Training Loss: 0.3038829565048218, Validation Loss: 0.33234238624572754\n",
            "Epoch 410, Training Loss: 0.3028058707714081, Validation Loss: 0.33159977197647095\n",
            "Epoch 420, Training Loss: 0.3017633259296417, Validation Loss: 0.33066612482070923\n",
            "Epoch 430, Training Loss: 0.30076783895492554, Validation Loss: 0.32992199063301086\n",
            "Epoch 440, Training Loss: 0.2998219430446625, Validation Loss: 0.3294946551322937\n",
            "Epoch 450, Training Loss: 0.2988562285900116, Validation Loss: 0.328674852848053\n",
            "Epoch 460, Training Loss: 0.297952264547348, Validation Loss: 0.32801851630210876\n",
            "Epoch 470, Training Loss: 0.2970525920391083, Validation Loss: 0.32754021883010864\n",
            "Epoch 480, Training Loss: 0.29619377851486206, Validation Loss: 0.32700446248054504\n",
            "Epoch 490, Training Loss: 0.29531973600387573, Validation Loss: 0.3268824815750122\n",
            "Epoch 500, Training Loss: 0.2943992018699646, Validation Loss: 0.3262060582637787\n",
            "Epoch 510, Training Loss: 0.2935141921043396, Validation Loss: 0.3258410394191742\n",
            "Epoch 520, Training Loss: 0.2926780581474304, Validation Loss: 0.3249737024307251\n",
            "Epoch 530, Training Loss: 0.29187870025634766, Validation Loss: 0.3243068754673004\n",
            "Epoch 540, Training Loss: 0.2911340594291687, Validation Loss: 0.3232812285423279\n",
            "Epoch 550, Training Loss: 0.2904002368450165, Validation Loss: 0.3229004740715027\n",
            "Epoch 560, Training Loss: 0.28969159722328186, Validation Loss: 0.3224441409111023\n",
            "Epoch 570, Training Loss: 0.2889827787876129, Validation Loss: 0.32102569937705994\n",
            "Epoch 580, Training Loss: 0.2883010804653168, Validation Loss: 0.32060104608535767\n",
            "Epoch 590, Training Loss: 0.28763583302497864, Validation Loss: 0.3205268979072571\n",
            "Epoch 600, Training Loss: 0.28697988390922546, Validation Loss: 0.319007933139801\n",
            "Epoch 610, Training Loss: 0.2863168716430664, Validation Loss: 0.31749752163887024\n",
            "Epoch 620, Training Loss: 0.2855478823184967, Validation Loss: 0.3166174292564392\n",
            "Epoch 630, Training Loss: 0.2848193645477295, Validation Loss: 0.31559664011001587\n",
            "Epoch 640, Training Loss: 0.2842165529727936, Validation Loss: 0.3147813379764557\n",
            "Epoch 650, Training Loss: 0.28365325927734375, Validation Loss: 0.313926100730896\n",
            "Epoch 660, Training Loss: 0.2831197679042816, Validation Loss: 0.31287434697151184\n",
            "Epoch 670, Training Loss: 0.2825832962989807, Validation Loss: 0.312449187040329\n",
            "Epoch 680, Training Loss: 0.2820351719856262, Validation Loss: 0.3132948875427246\n",
            "Early stopping at epoch 680.\n"
          ]
        }
      ],
      "source": [
        "best_val_loss = float('inf')\n",
        "patience = 10\n",
        "epochs_without_improvement = 0\n",
        "\n",
        "optimizer = torch.optim.Adam(model.parameters(), lr=0.01)\n",
        "\n",
        "\n",
        "train_losses = []\n",
        "val_losses = []\n",
        "\n",
        "for epoch in range(5000):\n",
        "    # Training\n",
        "    model.train()\n",
        "    outputs = model(torch.tensor(X_train, dtype=torch.float32))\n",
        "    loss = criterion(outputs, torch.tensor(y_train, dtype=torch.float32).view(-1, 1))\n",
        "    optimizer.zero_grad()\n",
        "    loss.backward()\n",
        "    optimizer.step()\n",
        "    train_losses.append(loss.item())\n",
        "\n",
        "    # Validation\n",
        "    model.eval()\n",
        "    with torch.no_grad():\n",
        "        val_outputs = model(torch.tensor(X_val, dtype=torch.float32))\n",
        "        val_loss = criterion(val_outputs, torch.tensor(y_val, dtype=torch.float32).view(-1, 1))\n",
        "        val_losses.append(val_loss.item())\n",
        "\n",
        "    # Early stopping logic\n",
        "    if val_loss < best_val_loss:\n",
        "        best_val_loss = val_loss\n",
        "        epochs_without_improvement = 0\n",
        "    else:\n",
        "        epochs_without_improvement += 1\n",
        "\n",
        "    if epoch % 10 == 0:\n",
        "        print(f'Epoch {epoch}, Training Loss: {loss.item()}, Validation Loss: {val_loss.item()}')\n",
        "\n",
        "        # Early stopping condition\n",
        "    if epochs_without_improvement >= patience:\n",
        "        print(f\"Early stopping at epoch {epoch}.\")\n",
        "        break\n",
        "\n"
      ]
    },
    {
      "cell_type": "code",
      "execution_count": 12,
      "metadata": {
        "colab": {
          "base_uri": "https://localhost:8080/",
          "height": 472
        },
        "id": "eZxGIsQc6EhA",
        "outputId": "ed5f9e13-fdbc-400e-99bb-771ca5a454c5"
      },
      "outputs": [
        {
          "data": {
            "image/png": "[encoded data removed]",
            "text/plain": [
              "<Figure size 640x480 with 1 Axes>"
            ]
          },
          "metadata": {},
          "output_type": "display_data"
        }
      ],
      "source": [
        "import matplotlib.pyplot as plt\n",
        "# Plot losses\n",
        "plt.plot(train_losses, label='Training Loss')\n",
        "plt.plot(val_losses, label='Validation Loss')\n",
        "plt.xlabel('Epoch')\n",
        "plt.ylabel('Loss')\n",
        "plt.title('Training vs Validation Loss')\n",
        "plt.legend()\n",
        "plt.show()\n"
      ]
    },
    {
      "cell_type": "code",
      "execution_count": 13,
      "metadata": {
        "colab": {
          "base_uri": "https://localhost:8080/"
        },
        "id": "2FgNya7PLk_i",
        "outputId": "72f634f9-633e-4749-9f55-ec999a5412f2"
      },
      "outputs": [
        {
          "name": "stdout",
          "output_type": "stream",
          "text": [
            "Test Loss: 0.3091529309749603\n"
          ]
        }
      ],
      "source": [
        "# Convert test data to tensors\n",
        "X_test_tensor = torch.tensor(X_test, dtype=torch.float32)\n",
        "y_test_tensor = torch.tensor(y_test, dtype=torch.float32).view(-1, 1)\n",
        "\n",
        "# Forward pass for the test set\n",
        "model.eval()  # Set model to evaluation mode\n",
        "with torch.no_grad():  # Disable gradient computation\n",
        "    predictions = model(X_test_tensor)\n",
        "    test_loss = criterion(predictions, y_test_tensor)\n",
        "    print(f'Test Loss: {test_loss.item()}')"
      ]
    },
    {
      "cell_type": "code",
      "execution_count": 14,
      "metadata": {
        "colab": {
          "base_uri": "https://localhost:8080/"
        },
        "id": "IKqkJefjLa1G",
        "outputId": "bb0f2898-665d-4b56-d588-46a8f92f682e"
      },
      "outputs": [
        {
          "name": "stdout",
          "output_type": "stream",
          "text": [
            "R² Score: 0.7641\n"
          ]
        }
      ],
      "source": [
        "from sklearn.metrics import r2_score\n",
        "import torch\n",
        "\n",
        "# Assuming you have the following variables after running the model on test data:\n",
        "# true_values: true target values (from test set)\n",
        "# predicted_values: predicted target values from your model\n",
        "\n",
        "# Example: Convert tensors to numpy arrays for use with r2_score\n",
        "true_values_np = y_test_tensor.cpu().numpy()  # Assuming your data is on GPU, transfer it to CPU\n",
        "predicted_values_np = predictions.cpu().numpy()\n",
        "\n",
        "# Calculate the R² score\n",
        "r2 = r2_score(true_values_np, predicted_values_np)\n",
        "\n",
        "print(f\"R² Score: {r2:.4f}\")"
      ]
    },
    {
      "cell_type": "code",
      "execution_count": 15,
      "metadata": {
        "colab": {
          "base_uri": "https://localhost:8080/",
          "height": 564
        },
        "id": "HaIq0AUCOC4V",
        "outputId": "28e5e93b-54d6-4a16-d9fe-4930b9608096"
      },
      "outputs": [
        {
          "data": {
            "image/png": "[encoded data removed]",
            "text/plain": [
              "<Figure size 800x600 with 1 Axes>"
            ]
          },
          "metadata": {},
          "output_type": "display_data"
        }
      ],
      "source": [
        "\n",
        "import matplotlib.pyplot as plt\n",
        "\n",
        "# Assuming you have the following variables after running the model on test data:\n",
        "# true_values_np: true target values (from test set) as a NumPy array\n",
        "# predicted_values_np: predicted target values from your model as a NumPy array\n",
        "\n",
        "plt.figure(figsize=(8, 6))\n",
        "plt.scatter(true_values_np, predicted_values_np, c='blue', marker='o', alpha=0.5)\n",
        "\n",
        "plt.xlabel(\"True Values\")\n",
        "plt.ylabel(\"Predicted Values\")\n",
        "plt.title(\"Predicted vs. True Values\")\n",
        "plt.grid(True)\n",
        "plt.show()\n"
      ]
    },
    {
      "cell_type": "markdown",
      "metadata": {
        "id": "jvODoBwz6BeB"
      },
      "source": [
        "# Classification example\n",
        "MNIST Classification Task with Neural Networks\n",
        "\n",
        "The MNIST dataset consists of 28x28 grayscale images of handwritten digits (0 to 9).\n",
        "The task is to classify each image as one of the digits.\n",
        "Dataset Size:\n",
        "*  60,000 training images.\n",
        "*  10,000 test images.\n",
        "\n",
        "\n",
        "\n",
        "\n",
        "\n"
      ]
    },
    {
      "cell_type": "code",
      "execution_count": 16,
      "metadata": {
        "colab": {
          "base_uri": "https://localhost:8080/"
        },
        "id": "OA0uqXRT-ezj",
        "outputId": "6bb31d37-43e8-4c14-8d28-3b43997cd648"
      },
      "outputs": [
        {
          "name": "stdout",
          "output_type": "stream",
          "text": [
            "Downloading http://yann.lecun.com/exdb/mnist/train-images-idx3-ubyte.gz\n",
            "Failed to download (trying next):\n",
            "<urlopen error [SSL: CERTIFICATE_VERIFY_FAILED] certificate verify failed: certificate has expired (_ssl.c:1000)>\n",
            "\n",
            "Downloading https://ossci-datasets.s3.amazonaws.com/mnist/train-images-idx3-ubyte.gz\n",
            "Downloading https://ossci-datasets.s3.amazonaws.com/mnist/train-images-idx3-ubyte.gz to ./data/MNIST/raw/train-images-idx3-ubyte.gz\n"
          ]
        },
        {
          "name": "stderr",
          "output_type": "stream",
          "text": [
            "100%|██████████| 9.91M/9.91M [00:01<00:00, 9.37MB/s]\n"
          ]
        },
        {
          "name": "stdout",
          "output_type": "stream",
          "text": [
            "Extracting ./data/MNIST/raw/train-images-idx3-ubyte.gz to ./data/MNIST/raw\n",
            "\n",
            "Downloading http://yann.lecun.com/exdb/mnist/train-labels-idx1-ubyte.gz\n",
            "Failed to download (trying next):\n",
            "<urlopen error [SSL: CERTIFICATE_VERIFY_FAILED] certificate verify failed: certificate has expired (_ssl.c:1000)>\n",
            "\n",
            "Downloading https://ossci-datasets.s3.amazonaws.com/mnist/train-labels-idx1-ubyte.gz\n",
            "Downloading https://ossci-datasets.s3.amazonaws.com/mnist/train-labels-idx1-ubyte.gz to ./data/MNIST/raw/train-labels-idx1-ubyte.gz\n"
          ]
        },
        {
          "name": "stderr",
          "output_type": "stream",
          "text": [
            "100%|██████████| 28.9k/28.9k [00:00<00:00, 230kB/s]\n"
          ]
        },
        {
          "name": "stdout",
          "output_type": "stream",
          "text": [
            "Extracting ./data/MNIST/raw/train-labels-idx1-ubyte.gz to ./data/MNIST/raw\n",
            "\n",
            "Downloading http://yann.lecun.com/exdb/mnist/t10k-images-idx3-ubyte.gz\n",
            "Failed to download (trying next):\n",
            "<urlopen error [SSL: CERTIFICATE_VERIFY_FAILED] certificate verify failed: certificate has expired (_ssl.c:1000)>\n",
            "\n",
            "Downloading https://ossci-datasets.s3.amazonaws.com/mnist/t10k-images-idx3-ubyte.gz\n",
            "Downloading https://ossci-datasets.s3.amazonaws.com/mnist/t10k-images-idx3-ubyte.gz to ./data/MNIST/raw/t10k-images-idx3-ubyte.gz\n"
          ]
        },
        {
          "name": "stderr",
          "output_type": "stream",
          "text": [
            "100%|██████████| 1.65M/1.65M [00:00<00:00, 2.37MB/s]\n"
          ]
        },
        {
          "name": "stdout",
          "output_type": "stream",
          "text": [
            "Extracting ./data/MNIST/raw/t10k-images-idx3-ubyte.gz to ./data/MNIST/raw\n",
            "\n",
            "Downloading http://yann.lecun.com/exdb/mnist/t10k-labels-idx1-ubyte.gz\n",
            "Failed to download (trying next):\n",
            "<urlopen error [SSL: CERTIFICATE_VERIFY_FAILED] certificate verify failed: certificate has expired (_ssl.c:1000)>\n",
            "\n",
            "Downloading https://ossci-datasets.s3.amazonaws.com/mnist/t10k-labels-idx1-ubyte.gz\n",
            "Downloading https://ossci-datasets.s3.amazonaws.com/mnist/t10k-labels-idx1-ubyte.gz to ./data/MNIST/raw/t10k-labels-idx1-ubyte.gz\n"
          ]
        },
        {
          "name": "stderr",
          "output_type": "stream",
          "text": [
            "100%|██████████| 4.54k/4.54k [00:00<00:00, 6.06MB/s]"
          ]
        },
        {
          "name": "stdout",
          "output_type": "stream",
          "text": [
            "Extracting ./data/MNIST/raw/t10k-labels-idx1-ubyte.gz to ./data/MNIST/raw\n",
            "\n"
          ]
        },
        {
          "name": "stderr",
          "output_type": "stream",
          "text": [
            "\n"
          ]
        }
      ],
      "source": [
        "from torch.utils.data import random_split\n",
        "import torchvision.transforms as transforms\n",
        "from torchvision.datasets import MNIST\n",
        "from torch.utils.data import DataLoader\n",
        "\n",
        "# Define transforms, including normalization to range [0, 1]\n",
        "transform = transforms.Compose([\n",
        "    transforms.ToTensor(),  # Converts image to PyTorch tensor and scales values from [0, 255] to [0, 1]\n",
        "    transforms.Normalize((0.5,), (0.5,))  # Normalize the tensor: mean 0.5, std 0.5 (maps range [0, 1] to [-1, 1])\n",
        "])\n",
        "\n",
        "# Load the MNIST dataset\n",
        "full_train_data = MNIST(root='./data', train=True, download=True, transform=transform)\n",
        "test_data = MNIST(root='./data', train=False, download=True, transform=transform)\n",
        "\n",
        "# Define the lengths of the training and validation sets (e.g., 90% train, 10% validation)\n",
        "train_size = int(0.9 * len(full_train_data))  # 90% for training\n",
        "val_size = len(full_train_data) - train_size  # 10% for validation\n",
        "\n",
        "# Split the dataset into training and validation sets\n",
        "train_data, val_data = random_split(full_train_data, [train_size, val_size])\n",
        "\n",
        "# Create DataLoader for batching\n",
        "train_loader = DataLoader(dataset=train_data, batch_size=64, shuffle=True)\n",
        "val_loader = DataLoader(dataset=val_data, batch_size=64, shuffle=False)\n",
        "test_loader = DataLoader(dataset=test_data, batch_size=64, shuffle=False)"
      ]
    },
    {
      "cell_type": "code",
      "execution_count": 17,
      "metadata": {
        "colab": {
          "base_uri": "https://localhost:8080/",
          "height": 192
        },
        "id": "CFRnaRHoQcr5",
        "outputId": "96c2bbf0-ed6b-4981-922c-1119136de830"
      },
      "outputs": [
        {
          "data": {
            "image/png": "[encoded data removed]",
            "text/plain": [
              "<Figure size 1200x300 with 6 Axes>"
            ]
          },
          "metadata": {},
          "output_type": "display_data"
        }
      ],
      "source": [
        "# Get one batch of images and labels\n",
        "data_iter = iter(train_loader)\n",
        "images, labels = next(data_iter)\n",
        "\n",
        "# Plot the batch of images with labels\n",
        "fig, axes = plt.subplots(1, 6, figsize=(12, 3))\n",
        "for i in range(6):\n",
        "    axes[i].imshow(images[i].squeeze(), cmap='gray')\n",
        "    axes[i].set_title(f\"Label: {labels[i].item()}\")\n",
        "    axes[i].axis('off')\n",
        "\n",
        "plt.show()"
      ]
    },
    {
      "cell_type": "code",
      "execution_count": 18,
      "metadata": {
        "id": "4mqkE9k27ad7"
      },
      "outputs": [],
      "source": [
        "class MNISTNN(nn.Module):\n",
        "    def __init__(self):\n",
        "        super(MNISTNN, self).__init__()\n",
        "        self.fc1 = nn.Linear(28*28, 128)  # Input: 28x28 image, 128 neurons in the hidden layer\n",
        "        self.fc2 = nn.Linear(128, 64)     # Second hidden layer with 64 neurons\n",
        "        self.fc3 = nn.Linear(64, 10)      # Output layer: 10 classes (digits 0-9)\n",
        "\n",
        "    def forward(self, x):\n",
        "        x = x.view(-1, 28*28)            # Flatten the input image to 1D\n",
        "        x = torch.relu(self.fc1(x))       # ReLU activation for hidden layers\n",
        "        x = torch.relu(self.fc2(x))\n",
        "        x = self.fc3(x)                   # No activation for the output (use CrossEntropyLoss)\n",
        "        return x"
      ]
    },
    {
      "cell_type": "code",
      "execution_count": 19,
      "metadata": {
        "colab": {
          "base_uri": "https://localhost:8080/"
        },
        "id": "exm0Mrbc9BCD",
        "outputId": "6663fc78-115f-4046-c91a-466909769fe2"
      },
      "outputs": [
        {
          "name": "stdout",
          "output_type": "stream",
          "text": [
            "cpu\n"
          ]
        }
      ],
      "source": [
        "device = torch.device(\"cuda\" if torch.cuda.is_available() else \"cpu\")\n",
        "print(device)"
      ]
    },
    {
      "cell_type": "code",
      "execution_count": 20,
      "metadata": {
        "id": "CfHDn7Vp8ggG"
      },
      "outputs": [],
      "source": [
        "model = MNISTNN().to(device)  # Move model to GPU\n",
        "criterion = nn.CrossEntropyLoss()\n",
        "optimizer = torch.optim.Adam(model.parameters(), lr=0.001)\n"
      ]
    },
    {
      "cell_type": "code",
      "execution_count": 21,
      "metadata": {
        "colab": {
          "base_uri": "https://localhost:8080/"
        },
        "id": "cfrGpQom8ohR",
        "outputId": "4f8d0cd7-23cf-4f42-eea9-8900142c5b6e"
      },
      "outputs": [
        {
          "name": "stdout",
          "output_type": "stream",
          "text": [
            "Epoch 1/10, Loss: 0.28918009996414185\n",
            "Epoch 2/10, Loss: 0.14003106951713562\n",
            "Epoch 3/10, Loss: 0.25194671750068665\n",
            "Epoch 4/10, Loss: 0.032537173479795456\n",
            "Epoch 5/10, Loss: 0.06020645424723625\n",
            "Epoch 6/10, Loss: 0.18529941141605377\n",
            "Epoch 7/10, Loss: 0.1074230968952179\n",
            "Epoch 8/10, Loss: 0.10384457558393478\n",
            "Epoch 9/10, Loss: 0.010714751668274403\n",
            "Epoch 10/10, Loss: 0.03204098716378212\n"
          ]
        }
      ],
      "source": [
        "best_val_loss = float('inf')\n",
        "patience = 5\n",
        "epochs_without_improvement = 0\n",
        "num_epochs = 10\n",
        "\n",
        "\n",
        "for epoch in range(num_epochs):\n",
        "    # Training loop\n",
        "    model.train()\n",
        "    for batch in train_loader:\n",
        "        images, labels = batch\n",
        "        images, labels = images.to(device), labels.to(device)\n",
        "\n",
        "        optimizer.zero_grad()\n",
        "        outputs = model(images)\n",
        "        loss = criterion(outputs, labels)\n",
        "        loss.backward()\n",
        "        optimizer.step()\n",
        "\n",
        "    # Validation loop\n",
        "    model.eval()\n",
        "    val_loss = 0\n",
        "    with torch.no_grad():\n",
        "        for val_batch in val_loader:\n",
        "            val_images, val_labels = val_batch\n",
        "            val_images, val_labels = val_images.to(device), val_labels.to(device)\n",
        "            val_outputs = model(val_images)\n",
        "            val_loss += criterion(val_outputs, val_labels).item()\n",
        "\n",
        "    val_loss /= len(val_loader)  # Average validation loss\n",
        "\n",
        "    # Early stopping logic\n",
        "    if val_loss < best_val_loss:\n",
        "        best_val_loss = val_loss\n",
        "        epochs_without_improvement = 0\n",
        "    else:\n",
        "        epochs_without_improvement += 1\n",
        "\n",
        "    print(f'Epoch {epoch+1}/{num_epochs}, Loss: {loss.item()}')\n",
        "\n",
        "    if epochs_without_improvement >= patience:\n",
        "        print(f'Early stopping at epoch {epoch+1}.')\n",
        "        break\n",
        "\n"
      ]
    },
    {
      "cell_type": "code",
      "execution_count": 22,
      "metadata": {
        "colab": {
          "base_uri": "https://localhost:8080/"
        },
        "id": "FsRksV3A9xIo",
        "outputId": "2023f81f-a0ef-48d3-daaf-20eecefbd244"
      },
      "outputs": [
        {
          "name": "stdout",
          "output_type": "stream",
          "text": [
            "Accuracy of the model on the test set: 97.06%\n"
          ]
        }
      ],
      "source": [
        "model.eval()  # Set the model to evaluation mode\n",
        "correct = 0\n",
        "total = 0\n",
        "with torch.no_grad():\n",
        "    for batch in test_loader:\n",
        "        images, labels = batch\n",
        "        images, labels = images.to(device), labels.to(device)  # Move data to GPU\n",
        "\n",
        "        outputs = model(images)\n",
        "        _, predicted = torch.max(outputs, 1)  # Get the predicted labels\n",
        "        total += labels.size(0)\n",
        "        correct += (predicted == labels).sum().item()\n",
        "\n",
        "print(f'Accuracy of the model on the test set: {100 * correct / total}%')"
      ]
    },
    {
      "cell_type": "markdown",
      "metadata": {
        "id": "mU4-aVd3GO-Q"
      },
      "source": [
        "# Save the Model (Optional)\n",
        "After training is done, you can save the trained model to a file for later use."
      ]
    },
    {
      "cell_type": "code",
      "execution_count": 23,
      "metadata": {
        "id": "RvZFuS3cGPL0"
      },
      "outputs": [],
      "source": [
        "torch.save(model.state_dict(), 'mnist_model.pth')  # Save the model's parameters to a file\n"
      ]
    }
  ],
  "metadata": {
    "accelerator": "GPU",
    "colab": {
      "gpuType": "T4",
      "provenance": []
    },
    "kernelspec": {
      "display_name": "Python 3",
      "name": "python3"
    },
    "language_info": {
      "codemirror_mode": {
        "name": "ipython",
        "version": 3
      },
      "file_extension": ".py",
      "mimetype": "text/x-python",
      "name": "python",
      "nbconvert_exporter": "python",
      "pygments_lexer": "ipython3",
      "version": "3.12.0"
    }
  },
  "nbformat": 4,
  "nbformat_minor": 0
}
