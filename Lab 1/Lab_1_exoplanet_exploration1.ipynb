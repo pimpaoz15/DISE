{
  "cells": [
    {
      "cell_type": "markdown",
      "metadata": {
        "collapsed": true,
        "id": "mt1iTbkTOUAN"
      },
      "source": [
        "# Exploratory and Regression Analysis and Visualization of the Open Exoplanet Catalogue\n",
        "In this notebook we will explore the Open Exoplanet Catalogue dataset using numpy, pandas, matplotlib, seaborn and other\n",
        "python libraries. A description of this dataset can be found at\n",
        "https://www.kaggle.com/mrisdal/open-exoplanet-catalogue and https://github.com/OpenExoplanetCatalogue/open_exoplanet_catalogue. This is a database of all discovered extra-solar planets in csv format. The filename of the dataset is 'oec.csv'. It includes the characteristics of all discovered exoplanets (as well as planets in our own solar system). Data fields (columns) include planet and host star attributes, discovery methods, and date of discovery, such as:\n",
        "* **PeriodDays**: The orbital period (how long it takes the planet to orbit its host star once), measured in days, of the planet around the host star or binary (double) star system.\n",
        "* **PlanetaryMassJpt**: The mass of the planet in Jupiter masses, where 1 Jupiter mass is 1.8991766e+27 kg.\n",
        "* **RadiusJpt**: The physical radius of the planet in Jupiter radii where 1 Jupiter radius is 69911000 m.\n",
        "* **SurfaceTempK**: The surface temperature of the planet (units: Kelvins).\n",
        "* **SemiMajorAxisAU**: The semi-major axis of a planet (essentially the average distance between the planet and the host star, but a more precise and detailed description here: https://en.wikipedia.org/wiki/Semi-major_and_semi-minor_axes) in Astronomical Units (AU), which is roughly the average distance between the Earth and Sun (149597870700 meters, or about 150 million kilometers (https://en.wikipedia.org/wiki/Astronomical_unit).\n",
        "* **Eccentricity**: The orbital eccentricity of the planet around its host star. The orbital eccentricity of an astronomical object is a parameter that determines the amount by which its orbit around another body deviates from a perfect circle. A value of 0 is a circular orbit, values between 0 and 1 form an elliptical orbit, 1 is a parabolic escape orbit, and greater than 1 is a hyperbola (https://en.wikipedia.org/wiki/Orbital_eccentricity).\n",
        "* **HostStarMassSlrMass**: The mass of the host star in solar masses, where 1 solar mass is 1.9891e+30 kg\n",
        "* **HostStarRadiusSlrRad**: The physical radius of the host star in solar radii, where 1 solar radius is 6.96e+08 m.\n",
        "* **HostStarMetallicity**: The stellar metallicity of the host star, which is fraction of mass of the host star that is not in hydrogen or helium (see https://en.wikipedia.org/wiki/Metallicity).\n",
        "* **HostStarTempK**: The equilibrium temperature of the host star in Kelvins.\n",
        "* **HostStarAgeGyr**: The age of the host star in giga-years.\n",
        "* **DistFromSunParsec**: The distance of the planet from the sun in units of parsecs, where a parsec is equal to about 3.26 light-years (31 trillion kilometers or 19 trillion miles) in length (see https://en.wikipedia.org/wiki/Parsec)."
      ]
    },
    {
      "cell_type": "code",
      "execution_count": 9,
      "metadata": {
        "colab": {
          "base_uri": "https://localhost:8080/"
        },
        "id": "545VI6SYcD_3",
        "outputId": "b9406bf7-2976-4812-f47d-904d711a80d1"
      },
      "outputs": [
        {
          "ename": "ModuleNotFoundError",
          "evalue": "No module named 'google.colab'",
          "output_type": "error",
          "traceback": [
            "\u001b[0;31m---------------------------------------------------------------------------\u001b[0m",
            "\u001b[0;31mModuleNotFoundError\u001b[0m                       Traceback (most recent call last)",
            "Cell \u001b[0;32mIn[9], line 1\u001b[0m\n\u001b[0;32m----> 1\u001b[0m \u001b[38;5;28;01mfrom\u001b[39;00m \u001b[38;5;21;01mgoogle\u001b[39;00m\u001b[38;5;21;01m.\u001b[39;00m\u001b[38;5;21;01mcolab\u001b[39;00m \u001b[38;5;28;01mimport\u001b[39;00m drive\n\u001b[1;32m      2\u001b[0m drive\u001b[38;5;241m.\u001b[39mmount(\u001b[38;5;124m'\u001b[39m\u001b[38;5;124m/content/drive\u001b[39m\u001b[38;5;124m'\u001b[39m)\n",
            "\u001b[0;31mModuleNotFoundError\u001b[0m: No module named 'google.colab'"
          ]
        }
      ],
      "source": [
        "from google.colab import drive\n",
        "drive.mount('/content/drive')"
      ]
    },
    {
      "cell_type": "code",
      "execution_count": 10,
      "metadata": {
        "id": "45wqCjWEOUAO"
      },
      "outputs": [],
      "source": [
        "# Import the necessary libraries\n",
        "import pandas as pd\n",
        "import numpy as np\n",
        "import seaborn as sns\n",
        "sns.set(rc={\"figure.figsize\": (10, 6)})\n",
        "import matplotlib.pyplot as plt\n",
        "import scipy.stats as stats\n",
        "\n",
        "plt.style.use('ggplot') # setting the plot style\n",
        "%matplotlib inline\n",
        "from __future__ import print_function, unicode_literals, division\n",
        "\n",
        "# ignore various warnings\n",
        "import warnings\n",
        "warnings.filterwarnings('ignore')"
      ]
    },
    {
      "cell_type": "markdown",
      "metadata": {
        "id": "ESdH2wsKlWMS"
      },
      "source": [
        "We use the **read_csv** function in pandas to load and read the dataset\n",
        "The **read_csv** function points to where the file is."
      ]
    },
    {
      "cell_type": "code",
      "execution_count": 11,
      "metadata": {
        "id": "U900S-dkOUAO"
      },
      "outputs": [],
      "source": [
        "planetData = pd.read_csv('oec.csv')"
      ]
    },
    {
      "cell_type": "markdown",
      "metadata": {
        "id": "qvsDPPLoloIP"
      },
      "source": [
        "When you read something using a pd.read_csv you create a a DataFrame.\n",
        "\n",
        "\n",
        "A DataFrame in pandas is a two-dimensional, labeled data structure that resembles a table, where data is organized in rows and columns. Each column can hold a different data type (e.g., integers, floats, strings), similar to an Excel spreadsheet or SQL table. The labels of the rows are called index, while the column labels are referred to as column names. DataFrames are highly versatile and support a wide range of operations, such as filtering, aggregating, and merging, making them a central data structure for data manipulation and analysis in pandas."
      ]
    },
    {
      "cell_type": "markdown",
      "metadata": {
        "id": "ncWlfoIEl98Z"
      },
      "source": [
        "# Using basics panda functions"
      ]
    },
    {
      "cell_type": "markdown",
      "metadata": {
        "id": "qCXhDj06lOWe"
      },
      "source": [
        "In pandas, the **head()** function is used to display the first few rows of a DataFrame or Series. By default, it returns the first 5 rows, but you can specify the number of rows to display by passing an integer as an argument (e.g., df.head(10) for the first 10 rows).\n",
        "It's particularly useful for quickly inspecting the top portion of large datasets to understand their structure or verify data loading.\n"
      ]
    },
    {
      "cell_type": "code",
      "execution_count": 12,
      "metadata": {
        "colab": {
          "base_uri": "https://localhost:8080/",
          "height": 255
        },
        "id": "DzPfUgH6kRon",
        "outputId": "4499ecbb-6e7d-40f2-b500-9c612428d613"
      },
      "outputs": [
        {
          "data": {
            "text/html": [
              "<div>\n",
              "<style scoped>\n",
              "    .dataframe tbody tr th:only-of-type {\n",
              "        vertical-align: middle;\n",
              "    }\n",
              "\n",
              "    .dataframe tbody tr th {\n",
              "        vertical-align: top;\n",
              "    }\n",
              "\n",
              "    .dataframe thead th {\n",
              "        text-align: right;\n",
              "    }\n",
              "</style>\n",
              "<table border=\"1\" class=\"dataframe\">\n",
              "  <thead>\n",
              "    <tr style=\"text-align: right;\">\n",
              "      <th></th>\n",
              "      <th>PlanetIdentifier</th>\n",
              "      <th>TypeFlag</th>\n",
              "      <th>PlanetaryMassJpt</th>\n",
              "      <th>RadiusJpt</th>\n",
              "      <th>PeriodDays</th>\n",
              "      <th>SemiMajorAxisAU</th>\n",
              "      <th>Eccentricity</th>\n",
              "      <th>PeriastronDeg</th>\n",
              "      <th>LongitudeDeg</th>\n",
              "      <th>AscendingNodeDeg</th>\n",
              "      <th>...</th>\n",
              "      <th>DiscoveryYear</th>\n",
              "      <th>LastUpdated</th>\n",
              "      <th>RightAscension</th>\n",
              "      <th>Declination</th>\n",
              "      <th>DistFromSunParsec</th>\n",
              "      <th>HostStarMassSlrMass</th>\n",
              "      <th>HostStarRadiusSlrRad</th>\n",
              "      <th>HostStarMetallicity</th>\n",
              "      <th>HostStarTempK</th>\n",
              "      <th>HostStarAgeGyr</th>\n",
              "    </tr>\n",
              "  </thead>\n",
              "  <tbody>\n",
              "    <tr>\n",
              "      <th>0</th>\n",
              "      <td>KOI-1843.03</td>\n",
              "      <td>0</td>\n",
              "      <td>0.0014</td>\n",
              "      <td>0.054</td>\n",
              "      <td>0.176891</td>\n",
              "      <td>0.0048</td>\n",
              "      <td>NaN</td>\n",
              "      <td>NaN</td>\n",
              "      <td>NaN</td>\n",
              "      <td>NaN</td>\n",
              "      <td>...</td>\n",
              "      <td>2012.0</td>\n",
              "      <td>13/07/15</td>\n",
              "      <td>19 00 03.14</td>\n",
              "      <td>+40 13 14.7</td>\n",
              "      <td>NaN</td>\n",
              "      <td>0.46</td>\n",
              "      <td>0.45</td>\n",
              "      <td>0.00</td>\n",
              "      <td>3584.0</td>\n",
              "      <td>NaN</td>\n",
              "    </tr>\n",
              "    <tr>\n",
              "      <th>1</th>\n",
              "      <td>KOI-1843.01</td>\n",
              "      <td>0</td>\n",
              "      <td>NaN</td>\n",
              "      <td>0.114</td>\n",
              "      <td>4.194525</td>\n",
              "      <td>0.0390</td>\n",
              "      <td>NaN</td>\n",
              "      <td>NaN</td>\n",
              "      <td>NaN</td>\n",
              "      <td>NaN</td>\n",
              "      <td>...</td>\n",
              "      <td>NaN</td>\n",
              "      <td>NaN</td>\n",
              "      <td>19 00 03.14</td>\n",
              "      <td>+40 13 14.7</td>\n",
              "      <td>NaN</td>\n",
              "      <td>0.46</td>\n",
              "      <td>0.45</td>\n",
              "      <td>0.00</td>\n",
              "      <td>3584.0</td>\n",
              "      <td>NaN</td>\n",
              "    </tr>\n",
              "    <tr>\n",
              "      <th>2</th>\n",
              "      <td>KOI-1843.02</td>\n",
              "      <td>0</td>\n",
              "      <td>NaN</td>\n",
              "      <td>0.071</td>\n",
              "      <td>6.356006</td>\n",
              "      <td>0.0520</td>\n",
              "      <td>NaN</td>\n",
              "      <td>NaN</td>\n",
              "      <td>NaN</td>\n",
              "      <td>NaN</td>\n",
              "      <td>...</td>\n",
              "      <td>NaN</td>\n",
              "      <td>NaN</td>\n",
              "      <td>19 00 03.14</td>\n",
              "      <td>+40 13 14.7</td>\n",
              "      <td>NaN</td>\n",
              "      <td>0.46</td>\n",
              "      <td>0.45</td>\n",
              "      <td>0.00</td>\n",
              "      <td>3584.0</td>\n",
              "      <td>NaN</td>\n",
              "    </tr>\n",
              "    <tr>\n",
              "      <th>3</th>\n",
              "      <td>Kepler-9 b</td>\n",
              "      <td>0</td>\n",
              "      <td>0.2500</td>\n",
              "      <td>0.840</td>\n",
              "      <td>19.224180</td>\n",
              "      <td>0.1430</td>\n",
              "      <td>0.0626</td>\n",
              "      <td>NaN</td>\n",
              "      <td>NaN</td>\n",
              "      <td>NaN</td>\n",
              "      <td>...</td>\n",
              "      <td>2010.0</td>\n",
              "      <td>15/12/03</td>\n",
              "      <td>19 02 17</td>\n",
              "      <td>+38 24 03</td>\n",
              "      <td>650.0</td>\n",
              "      <td>1.07</td>\n",
              "      <td>1.02</td>\n",
              "      <td>0.12</td>\n",
              "      <td>5777.0</td>\n",
              "      <td>NaN</td>\n",
              "    </tr>\n",
              "    <tr>\n",
              "      <th>4</th>\n",
              "      <td>Kepler-9 c</td>\n",
              "      <td>0</td>\n",
              "      <td>0.1700</td>\n",
              "      <td>0.820</td>\n",
              "      <td>39.031060</td>\n",
              "      <td>0.2290</td>\n",
              "      <td>0.0684</td>\n",
              "      <td>NaN</td>\n",
              "      <td>NaN</td>\n",
              "      <td>NaN</td>\n",
              "      <td>...</td>\n",
              "      <td>2010.0</td>\n",
              "      <td>15/12/03</td>\n",
              "      <td>19 02 17</td>\n",
              "      <td>+38 24 03</td>\n",
              "      <td>650.0</td>\n",
              "      <td>1.07</td>\n",
              "      <td>1.02</td>\n",
              "      <td>0.12</td>\n",
              "      <td>5777.0</td>\n",
              "      <td>NaN</td>\n",
              "    </tr>\n",
              "  </tbody>\n",
              "</table>\n",
              "<p>5 rows × 24 columns</p>\n",
              "</div>"
            ],
            "text/plain": [
              "  PlanetIdentifier  TypeFlag  PlanetaryMassJpt  RadiusJpt  PeriodDays  \\\n",
              "0      KOI-1843.03         0            0.0014      0.054    0.176891   \n",
              "1      KOI-1843.01         0               NaN      0.114    4.194525   \n",
              "2      KOI-1843.02         0               NaN      0.071    6.356006   \n",
              "3       Kepler-9 b         0            0.2500      0.840   19.224180   \n",
              "4       Kepler-9 c         0            0.1700      0.820   39.031060   \n",
              "\n",
              "   SemiMajorAxisAU  Eccentricity  PeriastronDeg  LongitudeDeg  \\\n",
              "0           0.0048           NaN            NaN           NaN   \n",
              "1           0.0390           NaN            NaN           NaN   \n",
              "2           0.0520           NaN            NaN           NaN   \n",
              "3           0.1430        0.0626            NaN           NaN   \n",
              "4           0.2290        0.0684            NaN           NaN   \n",
              "\n",
              "   AscendingNodeDeg  ...  DiscoveryYear  LastUpdated  RightAscension  \\\n",
              "0               NaN  ...         2012.0     13/07/15     19 00 03.14   \n",
              "1               NaN  ...            NaN          NaN     19 00 03.14   \n",
              "2               NaN  ...            NaN          NaN     19 00 03.14   \n",
              "3               NaN  ...         2010.0     15/12/03        19 02 17   \n",
              "4               NaN  ...         2010.0     15/12/03        19 02 17   \n",
              "\n",
              "   Declination  DistFromSunParsec HostStarMassSlrMass HostStarRadiusSlrRad  \\\n",
              "0  +40 13 14.7                NaN                0.46                 0.45   \n",
              "1  +40 13 14.7                NaN                0.46                 0.45   \n",
              "2  +40 13 14.7                NaN                0.46                 0.45   \n",
              "3    +38 24 03              650.0                1.07                 1.02   \n",
              "4    +38 24 03              650.0                1.07                 1.02   \n",
              "\n",
              "  HostStarMetallicity  HostStarTempK  HostStarAgeGyr  \n",
              "0                0.00         3584.0             NaN  \n",
              "1                0.00         3584.0             NaN  \n",
              "2                0.00         3584.0             NaN  \n",
              "3                0.12         5777.0             NaN  \n",
              "4                0.12         5777.0             NaN  \n",
              "\n",
              "[5 rows x 24 columns]"
            ]
          },
          "execution_count": 12,
          "metadata": {},
          "output_type": "execute_result"
        }
      ],
      "source": [
        "planetData.head()"
      ]
    },
    {
      "cell_type": "markdown",
      "metadata": {
        "id": "UVsG4I98OUAP"
      },
      "source": [
        "In pandas, both shape and info() are methods or attributes used to get structural information about a DataFrame:\n",
        "\n",
        "**shape:**\n",
        "This attribute returns the dimensions of the DataFrame in the form of a tuple (number of rows, number of columns).\n",
        "\n",
        "**info():**\n",
        "\n",
        "This method provides a summary of the DataFrame, including:\n",
        "Number of non-null entries per column.\n",
        "Data types of each column.\n",
        "Memory usage.\n",
        "It’s especially useful for a quick overview of data completeness (e.g., if there are any missing values) and for checking the types of data you're working with."
      ]
    },
    {
      "cell_type": "code",
      "execution_count": 13,
      "metadata": {
        "colab": {
          "base_uri": "https://localhost:8080/"
        },
        "id": "CF5gsmREOUAP",
        "outputId": "abd70d47-28cd-408f-f3b9-701b4765169e"
      },
      "outputs": [
        {
          "name": "stdout",
          "output_type": "stream",
          "text": [
            "Number of observations (rows): 3426\n",
            "Number of features (columns): 24\n",
            "(3426, 24)\n",
            "<class 'pandas.core.frame.DataFrame'>\n",
            "RangeIndex: 3426 entries, 0 to 3425\n",
            "Data columns (total 24 columns):\n",
            " #   Column                Non-Null Count  Dtype  \n",
            "---  ------                --------------  -----  \n",
            " 0   PlanetIdentifier      3426 non-null   object \n",
            " 1   TypeFlag              3426 non-null   int64  \n",
            " 2   PlanetaryMassJpt      1176 non-null   float64\n",
            " 3   RadiusJpt             2670 non-null   float64\n",
            " 4   PeriodDays            3341 non-null   float64\n",
            " 5   SemiMajorAxisAU       1271 non-null   float64\n",
            " 6   Eccentricity          1003 non-null   float64\n",
            " 7   PeriastronDeg         295 non-null    float64\n",
            " 8   LongitudeDeg          39 non-null     float64\n",
            " 9   AscendingNodeDeg      46 non-null     float64\n",
            " 10  InclinationDeg        568 non-null    float64\n",
            " 11  SurfaceTempK          733 non-null    float64\n",
            " 12  AgeGyr                1 non-null      float64\n",
            " 13  DiscoveryMethod       3416 non-null   object \n",
            " 14  DiscoveryYear         3416 non-null   float64\n",
            " 15  LastUpdated           3418 non-null   object \n",
            " 16  RightAscension        3416 non-null   object \n",
            " 17  Declination           3416 non-null   object \n",
            " 18  DistFromSunParsec     2018 non-null   float64\n",
            " 19  HostStarMassSlrMass   3262 non-null   float64\n",
            " 20  HostStarRadiusSlrRad  3131 non-null   float64\n",
            " 21  HostStarMetallicity   2380 non-null   float64\n",
            " 22  HostStarTempK         3311 non-null   float64\n",
            " 23  HostStarAgeGyr        424 non-null    float64\n",
            "dtypes: float64(18), int64(1), object(5)\n",
            "memory usage: 642.5+ KB\n",
            "None\n"
          ]
        }
      ],
      "source": [
        "print(\"Number of observations (rows):\",planetData.shape[0] )\n",
        "print(\"Number of features (columns):\",planetData.shape[1] )\n",
        "print(planetData.shape)\n",
        "print(planetData.info())"
      ]
    },
    {
      "cell_type": "markdown",
      "metadata": {
        "id": "1yFqkK_v3KB7"
      },
      "source": [
        "**columns.values** is used to retrieve the column labels (i.e., the column names) of a DataFrame as a NumPy array.\n",
        "\n",
        "Key points:\n",
        "columns itself returns an Index object containing the column names.\n",
        "columns.values specifically extracts these column names into a NumPy array, which can be useful if you want to work with them as a simple array of strings.\n",
        "\n",
        "\n",
        "**dtypes:**\n",
        "\n",
        "This attribute returns the data types of each column in a DataFrame as a Series or the data type of a Series.\n",
        "It helps to quickly identify the types (e.g., integer, float, string) of each column.\n",
        "\n"
      ]
    },
    {
      "cell_type": "code",
      "execution_count": 14,
      "metadata": {
        "colab": {
          "base_uri": "https://localhost:8080/"
        },
        "id": "6qpn8NeNOUAP",
        "outputId": "525de722-499b-437b-aa8d-a66041a9e823"
      },
      "outputs": [
        {
          "name": "stdout",
          "output_type": "stream",
          "text": [
            "['PlanetIdentifier' 'TypeFlag' 'PlanetaryMassJpt' 'RadiusJpt' 'PeriodDays'\n",
            " 'SemiMajorAxisAU' 'Eccentricity' 'PeriastronDeg' 'LongitudeDeg'\n",
            " 'AscendingNodeDeg' 'InclinationDeg' 'SurfaceTempK' 'AgeGyr'\n",
            " 'DiscoveryMethod' 'DiscoveryYear' 'LastUpdated' 'RightAscension'\n",
            " 'Declination' 'DistFromSunParsec' 'HostStarMassSlrMass'\n",
            " 'HostStarRadiusSlrRad' 'HostStarMetallicity' 'HostStarTempK'\n",
            " 'HostStarAgeGyr']\n",
            "PlanetIdentifier         object\n",
            "TypeFlag                  int64\n",
            "PlanetaryMassJpt        float64\n",
            "RadiusJpt               float64\n",
            "PeriodDays              float64\n",
            "SemiMajorAxisAU         float64\n",
            "Eccentricity            float64\n",
            "PeriastronDeg           float64\n",
            "LongitudeDeg            float64\n",
            "AscendingNodeDeg        float64\n",
            "InclinationDeg          float64\n",
            "SurfaceTempK            float64\n",
            "AgeGyr                  float64\n",
            "DiscoveryMethod          object\n",
            "DiscoveryYear           float64\n",
            "LastUpdated              object\n",
            "RightAscension           object\n",
            "Declination              object\n",
            "DistFromSunParsec       float64\n",
            "HostStarMassSlrMass     float64\n",
            "HostStarRadiusSlrRad    float64\n",
            "HostStarMetallicity     float64\n",
            "HostStarTempK           float64\n",
            "HostStarAgeGyr          float64\n",
            "dtype: object\n"
          ]
        }
      ],
      "source": [
        "print(planetData.columns.values)  # we display the column names\n",
        "print(planetData.dtypes)"
      ]
    },
    {
      "cell_type": "markdown",
      "metadata": {
        "id": "bDP7uJQS4Ufv"
      },
      "source": [
        "In pandas, the **describe()** function is used to generate descriptive statistics of a DataFrame's numerical or categorical columns, providing a quick summary of key statistical metrics.\n",
        "\n",
        "Key metrics returned for numerical columns:\n",
        "*  Count: The number of non-null values.\n",
        "*  Mean: The average value.\n",
        "*  Std: The standard deviation, a measure of data spread.\n",
        "*  Min: The minimum value.\n",
        "*  25%: The 25th percentile (first quartile).\n",
        "*  50%: The median (50th percentile).\n",
        "*  75%: The 75th percentile (third quartile).\n",
        "*  Max: The maximum value.\n",
        "For categorical columns (if include='object' is specified or they are detected):\n",
        "\n",
        "*  Count: The number of non-null values.\n",
        "*  Unique: The number of unique categories.\n",
        "*  Top: The most frequent category.\n",
        "*  Freq: The frequency of the most frequent category."
      ]
    },
    {
      "cell_type": "code",
      "execution_count": 15,
      "metadata": {
        "colab": {
          "base_uri": "https://localhost:8080/",
          "height": 320
        },
        "id": "uBJ41OFdOUAP",
        "outputId": "9c15d145-2b31-4308-8330-70b245d078db"
      },
      "outputs": [
        {
          "data": {
            "text/html": [
              "<div>\n",
              "<style scoped>\n",
              "    .dataframe tbody tr th:only-of-type {\n",
              "        vertical-align: middle;\n",
              "    }\n",
              "\n",
              "    .dataframe tbody tr th {\n",
              "        vertical-align: top;\n",
              "    }\n",
              "\n",
              "    .dataframe thead th {\n",
              "        text-align: right;\n",
              "    }\n",
              "</style>\n",
              "<table border=\"1\" class=\"dataframe\">\n",
              "  <thead>\n",
              "    <tr style=\"text-align: right;\">\n",
              "      <th></th>\n",
              "      <th>TypeFlag</th>\n",
              "      <th>PlanetaryMassJpt</th>\n",
              "      <th>RadiusJpt</th>\n",
              "      <th>PeriodDays</th>\n",
              "      <th>SemiMajorAxisAU</th>\n",
              "      <th>Eccentricity</th>\n",
              "      <th>PeriastronDeg</th>\n",
              "      <th>LongitudeDeg</th>\n",
              "      <th>AscendingNodeDeg</th>\n",
              "      <th>InclinationDeg</th>\n",
              "      <th>SurfaceTempK</th>\n",
              "      <th>AgeGyr</th>\n",
              "      <th>DiscoveryYear</th>\n",
              "      <th>DistFromSunParsec</th>\n",
              "      <th>HostStarMassSlrMass</th>\n",
              "      <th>HostStarRadiusSlrRad</th>\n",
              "      <th>HostStarMetallicity</th>\n",
              "      <th>HostStarTempK</th>\n",
              "      <th>HostStarAgeGyr</th>\n",
              "    </tr>\n",
              "  </thead>\n",
              "  <tbody>\n",
              "    <tr>\n",
              "      <th>count</th>\n",
              "      <td>3426.000000</td>\n",
              "      <td>1176.000000</td>\n",
              "      <td>2670.000000</td>\n",
              "      <td>3341.000000</td>\n",
              "      <td>1271.000000</td>\n",
              "      <td>1003.000000</td>\n",
              "      <td>295.000000</td>\n",
              "      <td>39.000000</td>\n",
              "      <td>46.000000</td>\n",
              "      <td>568.000000</td>\n",
              "      <td>733.000000</td>\n",
              "      <td>1.0000</td>\n",
              "      <td>3416.000000</td>\n",
              "      <td>2018.000000</td>\n",
              "      <td>3262.000000</td>\n",
              "      <td>3131.000000</td>\n",
              "      <td>2380.000000</td>\n",
              "      <td>3311.000000</td>\n",
              "      <td>424.000000</td>\n",
              "    </tr>\n",
              "    <tr>\n",
              "      <th>mean</th>\n",
              "      <td>0.098657</td>\n",
              "      <td>2.939151</td>\n",
              "      <td>0.347422</td>\n",
              "      <td>550.487202</td>\n",
              "      <td>1.410090</td>\n",
              "      <td>0.169331</td>\n",
              "      <td>147.296127</td>\n",
              "      <td>145.124011</td>\n",
              "      <td>90.624476</td>\n",
              "      <td>82.336692</td>\n",
              "      <td>865.544748</td>\n",
              "      <td>0.0055</td>\n",
              "      <td>2013.179450</td>\n",
              "      <td>549.986784</td>\n",
              "      <td>0.981646</td>\n",
              "      <td>1.488426</td>\n",
              "      <td>0.014637</td>\n",
              "      <td>5510.861552</td>\n",
              "      <td>4.629284</td>\n",
              "    </tr>\n",
              "    <tr>\n",
              "      <th>std</th>\n",
              "      <td>0.425691</td>\n",
              "      <td>10.480994</td>\n",
              "      <td>0.391128</td>\n",
              "      <td>7668.232065</td>\n",
              "      <td>6.516167</td>\n",
              "      <td>0.193090</td>\n",
              "      <td>118.782401</td>\n",
              "      <td>128.156934</td>\n",
              "      <td>93.047968</td>\n",
              "      <td>23.051535</td>\n",
              "      <td>670.873325</td>\n",
              "      <td>NaN</td>\n",
              "      <td>6.268259</td>\n",
              "      <td>803.298072</td>\n",
              "      <td>0.312446</td>\n",
              "      <td>3.095478</td>\n",
              "      <td>0.192788</td>\n",
              "      <td>1211.969558</td>\n",
              "      <td>3.285076</td>\n",
              "    </tr>\n",
              "    <tr>\n",
              "      <th>min</th>\n",
              "      <td>0.000000</td>\n",
              "      <td>0.000008</td>\n",
              "      <td>0.002300</td>\n",
              "      <td>0.090706</td>\n",
              "      <td>0.004420</td>\n",
              "      <td>0.000000</td>\n",
              "      <td>-233.000000</td>\n",
              "      <td>-174.640000</td>\n",
              "      <td>-5.112604</td>\n",
              "      <td>-0.000543</td>\n",
              "      <td>102.200000</td>\n",
              "      <td>0.0055</td>\n",
              "      <td>1781.000000</td>\n",
              "      <td>1.341700</td>\n",
              "      <td>0.012000</td>\n",
              "      <td>0.000014</td>\n",
              "      <td>-2.090000</td>\n",
              "      <td>540.000000</td>\n",
              "      <td>0.002200</td>\n",
              "    </tr>\n",
              "    <tr>\n",
              "      <th>25%</th>\n",
              "      <td>0.000000</td>\n",
              "      <td>0.136500</td>\n",
              "      <td>0.139000</td>\n",
              "      <td>4.920199</td>\n",
              "      <td>0.055500</td>\n",
              "      <td>0.020000</td>\n",
              "      <td>63.750000</td>\n",
              "      <td>37.167396</td>\n",
              "      <td>1.509500</td>\n",
              "      <td>85.000000</td>\n",
              "      <td>330.200000</td>\n",
              "      <td>0.0055</td>\n",
              "      <td>2012.000000</td>\n",
              "      <td>58.550000</td>\n",
              "      <td>0.830000</td>\n",
              "      <td>0.810000</td>\n",
              "      <td>-0.050000</td>\n",
              "      <td>5120.000000</td>\n",
              "      <td>2.167500</td>\n",
              "    </tr>\n",
              "    <tr>\n",
              "      <th>50%</th>\n",
              "      <td>0.000000</td>\n",
              "      <td>0.942500</td>\n",
              "      <td>0.205495</td>\n",
              "      <td>13.323883</td>\n",
              "      <td>0.195000</td>\n",
              "      <td>0.100000</td>\n",
              "      <td>137.400000</td>\n",
              "      <td>172.000000</td>\n",
              "      <td>69.821251</td>\n",
              "      <td>87.800000</td>\n",
              "      <td>721.700000</td>\n",
              "      <td>0.0055</td>\n",
              "      <td>2014.000000</td>\n",
              "      <td>342.590000</td>\n",
              "      <td>0.970000</td>\n",
              "      <td>0.990000</td>\n",
              "      <td>0.020000</td>\n",
              "      <td>5631.000000</td>\n",
              "      <td>4.210000</td>\n",
              "    </tr>\n",
              "    <tr>\n",
              "      <th>75%</th>\n",
              "      <td>0.000000</td>\n",
              "      <td>2.502500</td>\n",
              "      <td>0.300000</td>\n",
              "      <td>49.607733</td>\n",
              "      <td>1.280000</td>\n",
              "      <td>0.250000</td>\n",
              "      <td>238.500000</td>\n",
              "      <td>252.625834</td>\n",
              "      <td>169.175000</td>\n",
              "      <td>89.200000</td>\n",
              "      <td>1305.200000</td>\n",
              "      <td>0.0055</td>\n",
              "      <td>2016.000000</td>\n",
              "      <td>774.020000</td>\n",
              "      <td>1.100000</td>\n",
              "      <td>1.239000</td>\n",
              "      <td>0.100000</td>\n",
              "      <td>5940.000000</td>\n",
              "      <td>6.460000</td>\n",
              "    </tr>\n",
              "    <tr>\n",
              "      <th>max</th>\n",
              "      <td>3.000000</td>\n",
              "      <td>263.000000</td>\n",
              "      <td>6.000000</td>\n",
              "      <td>320000.000000</td>\n",
              "      <td>177.000000</td>\n",
              "      <td>0.956000</td>\n",
              "      <td>791.000000</td>\n",
              "      <td>333.000000</td>\n",
              "      <td>320.800000</td>\n",
              "      <td>305.000000</td>\n",
              "      <td>7112.000000</td>\n",
              "      <td>0.0055</td>\n",
              "      <td>2016.000000</td>\n",
              "      <td>8500.000000</td>\n",
              "      <td>4.500000</td>\n",
              "      <td>51.100000</td>\n",
              "      <td>0.560000</td>\n",
              "      <td>29300.000000</td>\n",
              "      <td>13.900000</td>\n",
              "    </tr>\n",
              "  </tbody>\n",
              "</table>\n",
              "</div>"
            ],
            "text/plain": [
              "          TypeFlag  PlanetaryMassJpt    RadiusJpt     PeriodDays  \\\n",
              "count  3426.000000       1176.000000  2670.000000    3341.000000   \n",
              "mean      0.098657          2.939151     0.347422     550.487202   \n",
              "std       0.425691         10.480994     0.391128    7668.232065   \n",
              "min       0.000000          0.000008     0.002300       0.090706   \n",
              "25%       0.000000          0.136500     0.139000       4.920199   \n",
              "50%       0.000000          0.942500     0.205495      13.323883   \n",
              "75%       0.000000          2.502500     0.300000      49.607733   \n",
              "max       3.000000        263.000000     6.000000  320000.000000   \n",
              "\n",
              "       SemiMajorAxisAU  Eccentricity  PeriastronDeg  LongitudeDeg  \\\n",
              "count      1271.000000   1003.000000     295.000000     39.000000   \n",
              "mean          1.410090      0.169331     147.296127    145.124011   \n",
              "std           6.516167      0.193090     118.782401    128.156934   \n",
              "min           0.004420      0.000000    -233.000000   -174.640000   \n",
              "25%           0.055500      0.020000      63.750000     37.167396   \n",
              "50%           0.195000      0.100000     137.400000    172.000000   \n",
              "75%           1.280000      0.250000     238.500000    252.625834   \n",
              "max         177.000000      0.956000     791.000000    333.000000   \n",
              "\n",
              "       AscendingNodeDeg  InclinationDeg  SurfaceTempK  AgeGyr  DiscoveryYear  \\\n",
              "count         46.000000      568.000000    733.000000  1.0000    3416.000000   \n",
              "mean          90.624476       82.336692    865.544748  0.0055    2013.179450   \n",
              "std           93.047968       23.051535    670.873325     NaN       6.268259   \n",
              "min           -5.112604       -0.000543    102.200000  0.0055    1781.000000   \n",
              "25%            1.509500       85.000000    330.200000  0.0055    2012.000000   \n",
              "50%           69.821251       87.800000    721.700000  0.0055    2014.000000   \n",
              "75%          169.175000       89.200000   1305.200000  0.0055    2016.000000   \n",
              "max          320.800000      305.000000   7112.000000  0.0055    2016.000000   \n",
              "\n",
              "       DistFromSunParsec  HostStarMassSlrMass  HostStarRadiusSlrRad  \\\n",
              "count        2018.000000          3262.000000           3131.000000   \n",
              "mean          549.986784             0.981646              1.488426   \n",
              "std           803.298072             0.312446              3.095478   \n",
              "min             1.341700             0.012000              0.000014   \n",
              "25%            58.550000             0.830000              0.810000   \n",
              "50%           342.590000             0.970000              0.990000   \n",
              "75%           774.020000             1.100000              1.239000   \n",
              "max          8500.000000             4.500000             51.100000   \n",
              "\n",
              "       HostStarMetallicity  HostStarTempK  HostStarAgeGyr  \n",
              "count          2380.000000    3311.000000      424.000000  \n",
              "mean              0.014637    5510.861552        4.629284  \n",
              "std               0.192788    1211.969558        3.285076  \n",
              "min              -2.090000     540.000000        0.002200  \n",
              "25%              -0.050000    5120.000000        2.167500  \n",
              "50%               0.020000    5631.000000        4.210000  \n",
              "75%               0.100000    5940.000000        6.460000  \n",
              "max               0.560000   29300.000000       13.900000  "
            ]
          },
          "execution_count": 15,
          "metadata": {},
          "output_type": "execute_result"
        }
      ],
      "source": [
        "planetData.describe()\n"
      ]
    },
    {
      "cell_type": "markdown",
      "metadata": {
        "id": "DZce3pNMOUAQ"
      },
      "source": [
        "We see that there is a lot of **missing data (\"NaN\")** for many of the features of this dataset. This is something that needs to be taken into account when examining and analyzing this dataset.\n",
        "\n",
        "\n",
        "In pandas, **.isnull().sum()** is a useful combination of functions to quickly identify missing (null or NaN) values in a DataFrame or Series.\n",
        "\n",
        "Key details:\n",
        "**.isnull():** This function returns a DataFrame of the same shape as the original but with boolean values, where True indicates that the value is missing (NaN or null) and False indicates that the value is not missing.\n",
        "\n",
        "**.sum():** When applied after .isnull(), it computes the sum of True values for each column (since True is treated as 1 and False as 0), giving you the count of missing values per column."
      ]
    },
    {
      "cell_type": "code",
      "execution_count": null,
      "metadata": {
        "colab": {
          "base_uri": "https://localhost:8080/",
          "height": 836
        },
        "id": "AehcRetzOUAQ",
        "outputId": "b566709d-b4a6-4629-f2c8-c5e9a3102b51"
      },
      "outputs": [],
      "source": [
        "# check for number of missing values per column\n",
        "planetData.isnull().sum()"
      ]
    },
    {
      "cell_type": "markdown",
      "metadata": {
        "id": "tVeDi1VFOUAQ"
      },
      "source": [
        "For a some of these columns, most of the data values are missing, and in the case of AgeGyr (the age of the planet in giga-years), no data exists at all."
      ]
    },
    {
      "cell_type": "markdown",
      "metadata": {
        "id": "uvvWKLByOUAQ"
      },
      "source": [
        "# An Analysis of Correlations Between Interesting Features"
      ]
    },
    {
      "cell_type": "markdown",
      "metadata": {
        "id": "S1i5rgRROUAQ"
      },
      "source": [
        "We select some of the columns and examine the linear correlations between the features."
      ]
    },
    {
      "cell_type": "code",
      "execution_count": null,
      "metadata": {
        "collapsed": true,
        "id": "cU2RNgXtOUAQ"
      },
      "outputs": [],
      "source": [
        "Columns=['PlanetaryMassJpt', 'RadiusJpt','PeriodDays', 'SemiMajorAxisAU', 'Eccentricity',\n",
        "                 'SurfaceTempK','HostStarMassSlrMass', 'HostStarRadiusSlrRad',\n",
        "                 'HostStarMetallicity','HostStarTempK','HostStarAgeGyr']"
      ]
    },
    {
      "cell_type": "markdown",
      "metadata": {
        "id": "ETXPwa2v6NQ7"
      },
      "source": [
        "\n",
        "In pandas, **.dropna().corr()** is a combination of functions used to first remove rows with missing values and then compute the correlation matrix of the remaining data.\n",
        "\n",
        "Breakdown:\n",
        "**.dropna()**: This function removes rows (or columns if specified) that contain missing values (NaNs). By default, it removes rows with any missing data.\n",
        "\n",
        "**.corr()**: After missing values are removed, .corr() calculates the pairwise correlation between columns. The correlation measures how columns are related to one another, with results typically ranging between -1 (perfect negative correlation) and +1 (perfect positive correlation). A value of 0 indicates no correlation."
      ]
    },
    {
      "cell_type": "code",
      "execution_count": null,
      "metadata": {
        "colab": {
          "base_uri": "https://localhost:8080/",
          "height": 431
        },
        "id": "nAHX5LAKOUAQ",
        "outputId": "216542ca-8ddb-4262-df62-4df35fc28925"
      },
      "outputs": [],
      "source": [
        "corrmatrix = planetData[Columns].dropna().corr()\n",
        "print(\"Correlation matrix of selected columns/features:\")\n",
        "corrmatrix   # we display the correlation matrix"
      ]
    },
    {
      "cell_type": "markdown",
      "metadata": {
        "id": "sXdoDRDW7hZx"
      },
      "source": [
        "# Why it's good to plot correlations:\n",
        "* Easy Identification of Relationships: You can quickly see which features are highly correlated, either positively or negatively.\n",
        "* Interpretation of Data Trends: The heatmap makes it easier to identify clusters of related features, which can help in feature selection, dimensionality reduction, or understanding feature interactions.\n",
        "* Detecting Multicollinearity: If you see two variables with a very high correlation (close to 1), it might indicate multicollinearity, suggesting one of the variables may be redundant in your model."
      ]
    },
    {
      "cell_type": "markdown",
      "metadata": {
        "id": "UNolgZZt8eZc"
      },
      "source": [
        "The sns.heatmap() function from the Seaborn library is a highly useful tool for visualizing correlation matrices (or other two-dimensional data arrays) as a heatmap. It color-codes the values in a matrix, making it easy to spot relationships and patterns within the data.\n",
        "\n",
        "A heatmap provides an intuitive, color-coded way to see the strength of relationships between variables. Strong positive correlations (close to +1) are often shown in one color (e.g., dark red), while strong negative correlations (close to -1) are shown in another (e.g., dark blue). Near-zero correlations will be represented by neutral colors, making the differences easy to interpret.\n",
        "\n",
        "Large correlation matrices can be hard to interpret when viewed as raw numbers, especially with many variables. A heatmap condenses this information visually, helping you quickly spot highly correlated or inversely correlated features.\n",
        "\n",
        "The sns.heatmap() function allows for the inclusion of annotations (with annot=True), which prints the actual correlation values inside the heatmap cells. This provides both numerical and visual context for the correlations.\n"
      ]
    },
    {
      "cell_type": "code",
      "execution_count": null,
      "metadata": {
        "colab": {
          "base_uri": "https://localhost:8080/",
          "height": 1000
        },
        "id": "3-bXSn_pOUAR",
        "outputId": "050be2a8-2924-4f02-d81f-4b8ae921db02"
      },
      "outputs": [],
      "source": [
        "sns.set(rc={\"figure.figsize\": (15, 12)})\n",
        "sns.set(font_scale=1.25)\n",
        "sns.heatmap(corrmatrix,annot_kws={\"size\":29},fmt='d',vmax=0.9)\n",
        "print(\"Here is a visualization (heat map or matrix) of the correlation matrix for these features:\")"
      ]
    },
    {
      "cell_type": "markdown",
      "metadata": {
        "collapsed": true,
        "id": "6JqQDrFNOUAR"
      },
      "source": [
        "From the correlation matrix and corresponding heat matrix, we note the following **higher positive linear correlations** (~0.5 or higher) between pairs of features and whether they are expected or somewhat unexpected based on our prior knowledge of orbital mechanics, physics/astrophysics, planetary science, and the formation of solar systems:\n",
        "* The planet's orbital period (**PeriodDays**) and its semi-major axis (**SemiMajorAxisAU**)  (expected)\n",
        "* The host star's mass (**HostStarMassSlrMass**) and the host star's temperature (**HostStarTempK**) (expected)\n",
        "* The host star's mass (**HostStarMassSlrMass**) and the host star's physical radius (**HostStarRadiusSlrRad**) (expected)\n",
        "* The host star's temperature (**HostStarTempK**) and the host star's physical radius (**HostStarRadiusSlrRad**) (expected)\n",
        "* The planetary mass (**PlanetaryMassJpt**) and the planetary semi-major axis (**SemiMajorAxisAU**) (expected)\n",
        "* The planetary mass (**PlanetaryMassJpt**) and the planetary orbital period (**PeriodDays**) (expected)\n",
        "* The planetary semi-major axis (**SemiMajorAxisAU**) and the host star temperature (**HostStarTempK**) (perhaps less expected or less obvious why this should be the case)\n",
        "* The planetary orbital period (**PeriodDays**) and the host star temperature (**HostStarTempK**) (perhaps less expected or less obvious why this should be the case)\n",
        "\n",
        "We also note the following **high negative linear correlations** (~-0.5 or lower) between pairs of features and whether they are expected or somewhat unexpected based on our prior knowledge of orbital mechanics, physics/astrophysics, planetary science, and the formation of solar systems:\n",
        "* The host star's mass (**HostStarMassSlrMass**) and the host star's age (**HostStarAgeGyr**) (expected)\n",
        "* The host star's metallicity (**HostStarMetallicity**) and the planet's semi-major axis (**SemiMajorAxisAU**) (perhaps less expected or less obvious why this should be the case)\n",
        "* The host star's metallicity (**HostStarMetallicity**) and the planet's orbital periods (**PeriodDays**) (perhaps less expected or less obvious why this should be the case)\n",
        "* The host star's metallicity (**HostStarMetallicity**) and the host star's temperature (**HostStarTempK**) (expected)\n",
        "* The host star's temperature (**HostStarTempK**) and the host star's age (**HostStarAgeGyr**) (expected)"
      ]
    },
    {
      "cell_type": "markdown",
      "metadata": {
        "collapsed": true,
        "id": "k72WpIorOUAR"
      },
      "source": [
        "We can further examine the correlation of these features with histograms and scatter plots."
      ]
    },
    {
      "cell_type": "code",
      "execution_count": null,
      "metadata": {
        "colab": {
          "base_uri": "https://localhost:8080/",
          "height": 223
        },
        "id": "2zIimjg2OUAR",
        "outputId": "06e27cee-3b77-4cd1-97aa-4ab6fd87c59d"
      },
      "outputs": [],
      "source": [
        "# First we examine the features with high positive linear correlations\n",
        "selected_features1 = ['PeriodDays','SemiMajorAxisAU','HostStarMassSlrMass','HostStarTempK','HostStarRadiusSlrRad',\n",
        "                     'PlanetaryMassJpt']\n",
        "features1 = planetData[selected_features1].dropna()  # remove the NaN values\n",
        "print(\"Number of observations: \", features1.shape[0])\n",
        "features1.head()"
      ]
    },
    {
      "cell_type": "markdown",
      "metadata": {
        "id": "OWr_io1S9jCc"
      },
      "source": [
        "The sns.pairplot() function from Seaborn is a convenient tool to visualize the relationships between multiple variables in a DataFrame through a grid of pairwise plots (scatter plots, histograms, etc.). It is particularly useful for exploring potential correlations, distributions, and patterns in a dataset with multiple numerical or categorical variables.\n",
        "\n",
        "Key features of sns.pairplot():\n",
        "*  Pairwise Scatter Plots:\n",
        "\n",
        "pairplot() plots each variable against every other variable as a scatter plot, allowing you to visually inspect how two variables relate to each other.\n",
        "*  Diagonal Histograms or KDE Plots:\n",
        "\n",
        "On the diagonal of the grid, it plots the distribution (histogram or kernel density estimation) of each variable. This helps to visualize the data distribution of individual variables.\n",
        "*  Coloring by Category:\n",
        "\n",
        "You can use a categorical variable to color-code the data points in the scatter plots, making it easier to differentiate between classes or groups in your data.\n",
        "*  Insights into Multivariate Relationships:\n",
        "\n",
        "It helps to quickly observe relationships and potential trends between multiple variables and also highlights which variables might be strongly or weakly correlated."
      ]
    },
    {
      "cell_type": "code",
      "execution_count": null,
      "metadata": {
        "colab": {
          "base_uri": "https://localhost:8080/",
          "height": 1000
        },
        "id": "pZ-IKQexOUAR",
        "outputId": "891a4025-79b3-4918-ca92-f49d3d557d5b"
      },
      "outputs": [],
      "source": [
        "sns.pairplot(features1)"
      ]
    },
    {
      "cell_type": "markdown",
      "metadata": {
        "id": "wo0icAhhOUAR"
      },
      "source": [
        "From the correlation matrix and the scatter plots above, we see that the two features with the largest positive correlation are the planetary orbital period and the semi-major axis of the orbit. We'll take a closer look at this:"
      ]
    },
    {
      "cell_type": "code",
      "execution_count": null,
      "metadata": {
        "colab": {
          "base_uri": "https://localhost:8080/",
          "height": 206
        },
        "id": "MvF_lIBgOUAR",
        "outputId": "f57a3480-2306-4b94-9da8-c639ada94544"
      },
      "outputs": [],
      "source": [
        "selectedFeatures1=['SemiMajorAxisAU','PeriodDays']  # we make a list of the columns we want to examine further\n",
        "planets_selectedFeatures1=planetData[selectedFeatures1].dropna() # remove the NaN values\n",
        "planets_selectedFeatures1.head()"
      ]
    },
    {
      "cell_type": "markdown",
      "metadata": {
        "id": "a3_DjqOAAsQB"
      },
      "source": [
        "We add a new column 'PeriodYears' for the planetary orbital period (how long it takes for the planet to orbit its host star in years) to make it easier to compare with the Earth."
      ]
    },
    {
      "cell_type": "code",
      "execution_count": null,
      "metadata": {
        "colab": {
          "base_uri": "https://localhost:8080/",
          "height": 223
        },
        "id": "y5EltYDlOUAS",
        "outputId": "b944beb9-3284-40ce-f3c8-0f846a8561aa"
      },
      "outputs": [],
      "source": [
        "planets_selectedFeatures1['PeriodYears']=planets_selectedFeatures1['PeriodDays']/365.25\n",
        "print(\"Number of observations: \", planets_selectedFeatures1.shape[0])\n",
        "planets_selectedFeatures1.head()"
      ]
    },
    {
      "cell_type": "markdown",
      "metadata": {
        "id": "t0SamWYEOUAS"
      },
      "source": [
        "# Simple Linear Regression Analysis of Semi-major Axis and Period"
      ]
    },
    {
      "cell_type": "markdown",
      "metadata": {
        "id": "mJmzl0nVOUAS"
      },
      "source": [
        "We can see what a simple **linear regression** on these two features by themselves looks like by plotting a regression line:\n",
        "\n",
        "**kind='reg'**: This ensures that a regression line is included in the scatter plot between the two specified variables (SemiMajorAxisAU and PeriodYears)."
      ]
    },
    {
      "cell_type": "code",
      "execution_count": null,
      "metadata": {
        "colab": {
          "base_uri": "https://localhost:8080/",
          "height": 807
        },
        "id": "pzRQGQOuOUAS",
        "outputId": "7d186a9d-badc-4483-be0e-e9c13cfbb4d3"
      },
      "outputs": [],
      "source": [
        "sns.pairplot(planets_selectedFeatures1, x_vars=['SemiMajorAxisAU'],y_vars='PeriodYears', size=8,\n",
        "             kind='reg')\n",
        "plt.xlim(0,200); # Seaborn now uses matplotlib.pyplot for setting plot limits.\n",
        "plt.ylim(0,1200);"
      ]
    },
    {
      "cell_type": "markdown",
      "metadata": {
        "id": "9B_d9D20OUAS"
      },
      "source": [
        "Let's blow up the portion of the plot where most of the observations lie (i.e., PeriodYears < 50 and SemiMajorAxisAU < 20):"
      ]
    },
    {
      "cell_type": "code",
      "execution_count": null,
      "metadata": {
        "colab": {
          "base_uri": "https://localhost:8080/",
          "height": 807
        },
        "id": "MrakCSbDOUAS",
        "outputId": "1aaf5b70-03fe-4977-ab16-e50529075d3b"
      },
      "outputs": [],
      "source": [
        "sns.pairplot(planets_selectedFeatures1, x_vars=['SemiMajorAxisAU'],y_vars='PeriodYears', size=8,\n",
        "             kind='reg')\n",
        "plt.xlim(0,20);\n",
        "plt.ylim(0,50);"
      ]
    },
    {
      "cell_type": "markdown",
      "metadata": {
        "id": "P_dDxqAwOUAS"
      },
      "source": [
        "We can also obtain the pearson-r coefficient from a Seaborn jointplot. This jointplot shows the same bivariate scatterplot along with univariate histograms in the same figure."
      ]
    },
    {
      "cell_type": "markdown",
      "metadata": {
        "id": "EL7_-5QHBxjc"
      },
      "source": [
        "The sns.jointplot() function from Seaborn is used to create a combination of scatter plots and distribution plots to visualize the relationship between two variables. It provides a quick way to inspect both the correlation between two variables and their individual distributions.\n",
        "\n",
        "Key features of sns.jointplot():\n",
        "Scatter Plot with Marginal Histograms or KDEs:\n",
        "\n",
        "In the central plot, it shows a scatter plot (by default) to illustrate the relationship between two variables (e.g., X and Y).\n",
        "On the margins (top for X, right for Y), it plots the distribution of each variable either as a histogram or a kernel density estimation (KDE).\n",
        "Flexible Plot Types:\n",
        "\n",
        "You can modify the central plot type and the marginal distribution plots.\n",
        "Some of the commonly used kind options include:\n",
        "*  kind='scatter' (default): A simple scatter plot in the center.\n",
        "*  kind='kde': A bivariate kernel density estimate with contours.\n",
        "*  kind='hex': A hexbin plot, useful for large datasets to reduce overplotting.\n",
        "*  kind='reg': Adds a regression line to the scatter plot for showing the linear relationship.\n",
        "*  kind='resid': Plots the residuals from a linear regression.\n",
        "Enhanced Data Exploration:\n",
        "\n",
        "By combining marginal distribution plots with the scatter plot, jointplot() allows you to simultaneously assess both the relationship and the individual distributions of the variables."
      ]
    },
    {
      "cell_type": "code",
      "execution_count": null,
      "metadata": {
        "colab": {
          "base_uri": "https://localhost:8080/",
          "height": 709
        },
        "id": "Iy-Xatz7OUAS",
        "outputId": "8cc616e1-0508-4bed-dc76-9159560cc6fd"
      },
      "outputs": [],
      "source": [
        "sns.jointplot(x='SemiMajorAxisAU', y='PeriodYears',data=planets_selectedFeatures1, kind=\"reg\", height=7, xlim=(0,20), ylim=(0,50)) # size parameter is replaced with height\n"
      ]
    },
    {
      "cell_type": "markdown",
      "metadata": {
        "id": "z9kYZkAPOUAS"
      },
      "source": [
        "**The strong correlation between the planetary orbital period and the distance from the star is what we expect from Kepler's Third Law and Newton's Universal Law of Gravitation.**"
      ]
    },
    {
      "cell_type": "markdown",
      "metadata": {
        "id": "9AwI32AQOUAT"
      },
      "source": [
        "If P is the period of the planetary orbit, measured in years, and a is the semimajor axis of the orbit, measured in Astronomical Units, then Kepler's and Newton's laws give the following relation:\n",
        "\n",
        "P = K*a^(3/2), where K is a constant and approximately equal to (4*pi^2/G*M)^(3/2), where M is the mass of the host star and G is the gravitational constant (https://en.wikipedia.org/wiki/Kepler%27s_laws_of_planetary_motion).\n",
        "\n",
        "\n",
        "Thus, we can see that the true relationship between P and a is not in fact linear. Nevertheless, let's further explore this with a scikit-learn simple linear regression model with 1 feature.\n",
        "\n"
      ]
    },
    {
      "cell_type": "code",
      "execution_count": null,
      "metadata": {
        "colab": {
          "base_uri": "https://localhost:8080/",
          "height": 1000
        },
        "id": "dHI2ALFPGX8N",
        "outputId": "51600382-a730-4af7-9d66-60aa1d9bf498"
      },
      "outputs": [],
      "source": [
        "# Build a Model and create X and y:\n",
        "from sklearn.linear_model import LinearRegression\n",
        "#from sklearn.cross_validation import train_test_split # This module has been deprecated\n",
        "from sklearn.model_selection import train_test_split # Use this module instead\n",
        "from sklearn import metrics\n",
        "\n",
        "X = planets_selectedFeatures1.SemiMajorAxisAU.values.reshape(1236,1) # We create a matrix X here that holds our feature. Use .values to return a NumPy representation of the Series\n",
        "y = planets_selectedFeatures1.PeriodYears.values.reshape(1236,1)   # We create a vector y that holds our response variable. Use .values to return a NumPy representation of the Series\n",
        "\n",
        "# Split arrays or matrices into random train and test subsets\n",
        "# X_train, X_test, y_train, y_test = train_test_split(X, y, test_size=0.3, random_state=42)\n",
        "\n",
        "# print(\"training data size:\",X_train.shape)\n",
        "# print(\"testing data size:\",X_test.shape)\n",
        "print (\"total data size:\", X.shape)\n",
        "print(\"size of y:\", y.shape)\n",
        "# print(\"size of y_train: \", y_train.shape)\n",
        "# print(\"size of y_test: \", y_test.shape)\n",
        "\n",
        "# Instantiate and fit\n",
        "linreg = LinearRegression()\n",
        "# linreg.fit(X_train, y_train)\n",
        "linreg.fit(X, y)\n",
        "\n",
        "# print the coefficients\n",
        "print(\"The y intercept:\", linreg.intercept_)\n",
        "print(\"The single coefficient:\", linreg.coef_)\n",
        "\n",
        "# Predict the model\n",
        "# y_pred=linreg.predict(X_test)\n",
        "# print(y_pred.shape)\n",
        "y_pred=linreg.predict(X)\n",
        "\n",
        "# Get a Score\n",
        "# print(linreg.score(X_test,y_test))\n",
        "print(\"Variance score: \", linreg.score(X,y))\n",
        "\n",
        "print(\"RMSE for simple linear regression model (1 feature): \",np.sqrt(metrics.mean_squared_error(y, y_pred)))\n",
        "\n",
        "\n",
        "# Plot y vs y_pred\n",
        "\n",
        "print(\"\\n This is a plot of y vs. y_pred\")\n",
        "plt.scatter(y, y_pred)\n",
        "plt.plot([0,1000],[0,1000], 'r--')\n",
        "plt.xlim(0,180);\n",
        "plt.ylim(0,160);\n",
        "plt.xlabel('y')\n",
        "plt.ylabel('y_pred')\n",
        "plt.title('y vs. y_predicted');"
      ]
    },
    {
      "cell_type": "code",
      "execution_count": null,
      "metadata": {
        "colab": {
          "base_uri": "https://localhost:8080/",
          "height": 1000
        },
        "id": "skcVCVBmOUAT",
        "outputId": "67441b3c-9136-44d0-cc49-1599618b4517"
      },
      "outputs": [],
      "source": [
        "# More plot outputs\n",
        "plt.scatter(X, y,  color='black')\n",
        "plt.plot(X, y_pred, color='blue',\n",
        "         linewidth=3)\n",
        "\n",
        "plt.xlim(0,40);\n",
        "plt.ylim(0,120);\n",
        "plt.xlabel('SemiMajorAxisAU')\n",
        "plt.ylabel('PeriodYears')"
      ]
    },
    {
      "cell_type": "markdown",
      "metadata": {
        "id": "xjUd_jGwOUAT"
      },
      "source": [
        "**The straight line in the plot above shows how the linear regression attempts to draw a straight line that will best minimize the residual sum of squares between the observed responses in the dataset, and the responses predicted by the linear approximation.**\n",
        "\n",
        "We also examine the **residuals**, i.e., the difference between the PeriodYears observations (y) and the predicted values of PeriodYears (y_pred):\n",
        "\n"
      ]
    },
    {
      "cell_type": "code",
      "execution_count": null,
      "metadata": {
        "colab": {
          "base_uri": "https://localhost:8080/",
          "height": 728
        },
        "id": "hNHALZjYOUAT",
        "outputId": "20bfffbd-3328-4d15-d324-1b29965b831e"
      },
      "outputs": [],
      "source": [
        "residuals = y - y_pred\n",
        "plt.figure(figsize=(8, 8))\n",
        "plt.scatter(y_pred,residuals)\n",
        "plt.xlabel('y_pred',fontsize=15)\n",
        "plt.ylabel('residuals', fontsize=15)"
      ]
    },
    {
      "cell_type": "markdown",
      "metadata": {
        "id": "S4D3UImqOUAT"
      },
      "source": [
        "### Using the model for prediction\n",
        "Now that we've got a fitted linear regression model we can try to make a prediction with the model. Let's say that there was a new observation of an exoplanet that had a SemiMajorAxisAU of 5.2. What would we predict the orbital period in years of that planet for this model to be?\n",
        "\n",
        "$$y = \\beta_0 + \\beta_1 x$$\n",
        "$$y = -3.105 + 5.203 \\times 5.2$$"
      ]
    },
    {
      "cell_type": "code",
      "execution_count": null,
      "metadata": {
        "colab": {
          "base_uri": "https://localhost:8080/"
        },
        "id": "rQHs9LJwOUAT",
        "outputId": "89856616-3e79-43c4-ce06-7f2d8707a81a"
      },
      "outputs": [],
      "source": [
        "# Manually calculate it and confirm with the plots we created above. Does this value make sense?\n",
        "-3.105 + 5.203 * 5.2"
      ]
    },
    {
      "cell_type": "markdown",
      "metadata": {
        "id": "wWuEcNDrOUAT"
      },
      "source": [
        "We can also use our linear regression model to make this same prediction:"
      ]
    },
    {
      "cell_type": "code",
      "execution_count": null,
      "metadata": {
        "colab": {
          "base_uri": "https://localhost:8080/"
        },
        "id": "LEgJk07WOUAU",
        "outputId": "420b66a8-91bd-4b2c-c034-a6dd0a7a4df3"
      },
      "outputs": [],
      "source": [
        "# predict for a new observation, here the semi-major axis is 5.2 AU\n",
        "print(linreg.predict([[5.2]])) # Changed from 5.2 to [[5.2]] to make it a 2D array"
      ]
    },
    {
      "cell_type": "markdown",
      "metadata": {
        "id": "kU5mXo9hOUAX"
      },
      "source": [
        "So, we would predict a Period of 23.95 years for a model with a semi-major axis of 5.2 AU.\n",
        "\n",
        "We can also confirm the R-squared value for our simple linear model using scikit-learn's prebuilt R-squared scorer:"
      ]
    },
    {
      "cell_type": "code",
      "execution_count": null,
      "metadata": {
        "colab": {
          "base_uri": "https://localhost:8080/"
        },
        "id": "c8rVLoLgOUAX",
        "outputId": "56e43421-56d8-410d-e2d4-d2092f449cd9"
      },
      "outputs": [],
      "source": [
        "metrics.r2_score(y, y_pred)\n",
        "\n",
        "# This is a way to measure how good of a model this is. This is the Pearson R\n",
        "# coefficient and it indicates how closely our best-fit line explains the variation\n",
        "# of the data. An R-squared score closer to 1 is always better."
      ]
    },
    {
      "cell_type": "markdown",
      "metadata": {
        "id": "zeYaCA4vOUAX"
      },
      "source": [
        "# Multiple Linear Regression Analysis involving Semi-major Axis, Period, Planetary Mass, Planetary Radius, and Host Star Temperature\n",
        "\n",
        "Of course, we know that the theoretical relationship (Kepler's and Newton's laws) between the planet's orbital period and semi-major axis also involves the mass of the host star as well, so a better linear regression model would need to include the star's mass as an additional feature as well. Also, from our knowledge of our own solar system and from our knowledge of planetary system formation theories, we note that larger and more massive gas giant planets often form and orbit their host stars at greater distances than the smaller terrestrial (Earth-like) planets. This suggests that it might be interesting to construct a more complex multiple linear regression model involving semi-major axis, planetary mass, planetary radius, host star temperature, and stellar metallicity (given that there was a higher than expected correlation between host star temperature, metalliciy, and orbital period) as features and the planetary orbital period as the target variable.\n",
        "\n",
        "First, we'll take a closer look at the relationship between the planetary mass and the distance of the planet from the host star."
      ]
    },
    {
      "cell_type": "code",
      "execution_count": null,
      "metadata": {
        "colab": {
          "base_uri": "https://localhost:8080/",
          "height": 223
        },
        "id": "irgUPTw8OUAY",
        "outputId": "ac868939-596c-43bc-e08a-4f90587deca0"
      },
      "outputs": [],
      "source": [
        "selectedFeatures2=['SemiMajorAxisAU','PlanetaryMassJpt']  # we make a list of the columns we want to examine further\n",
        "planets_selectedFeatures2=planetData[selectedFeatures2].dropna() # remove the NaN values\n",
        "print(\"Number of observations: \", planets_selectedFeatures2.shape[0])\n",
        "planets_selectedFeatures2.head()"
      ]
    },
    {
      "cell_type": "code",
      "execution_count": null,
      "metadata": {
        "colab": {
          "base_uri": "https://localhost:8080/",
          "height": 809
        },
        "id": "XNimWlbzOUAY",
        "outputId": "e29b40b8-fc04-452f-9792-a867fc667a90"
      },
      "outputs": [],
      "source": [
        "sns.jointplot(x=\"SemiMajorAxisAU\", y=\"PlanetaryMassJpt\",xlim =(0,80), ylim=(0,100), data=planets_selectedFeatures2,\n",
        "              height=8)"
      ]
    },
    {
      "cell_type": "markdown",
      "metadata": {
        "id": "ceyHVDANOUAY"
      },
      "source": [
        "We focus on the portion of the plot where most of the data points lie by blowing up this part of the plot. We'll also check to see what a simple linear regression on these two features by themselves looks like by plotting a regression line:"
      ]
    },
    {
      "cell_type": "code",
      "execution_count": null,
      "metadata": {
        "colab": {
          "base_uri": "https://localhost:8080/",
          "height": 809
        },
        "id": "ayaXT-jUOUAY",
        "outputId": "bf59dc1a-d419-4c1d-d14c-6cd180b864f4"
      },
      "outputs": [],
      "source": [
        "sns.jointplot(x=\"SemiMajorAxisAU\", y=\"PlanetaryMassJpt\",xlim =(0,20), ylim=(0,40), data=planets_selectedFeatures2,\n",
        "              height=8, kind='reg')"
      ]
    },
    {
      "cell_type": "markdown",
      "metadata": {
        "id": "0ZTuKEBxOUAY"
      },
      "source": [
        "Though we found there to be a somewhat high correlation value between the planetary mass and its distance from the host star (0.636961), it seems somewhat difficult to see this relationship between these two variables in this plot.\n",
        "\n",
        "Let's construct a more complex multiple linear regression model involving semi-major axis, planetary mass, planetary radius, host star temperature, and stellar metallicity (given that there was a higher than expected correlation between host star temperature, metalliciy, and orbital period) as features, and the planetary orbital period as the target variable."
      ]
    },
    {
      "cell_type": "code",
      "execution_count": null,
      "metadata": {
        "colab": {
          "base_uri": "https://localhost:8080/"
        },
        "id": "w773uR2WOUAY",
        "outputId": "2972cfa7-b580-4ab0-9614-674dfba5c914"
      },
      "outputs": [],
      "source": [
        "# create X and y\n",
        "mult_cols = ['SemiMajorAxisAU','HostStarMassSlrMass','HostStarTempK', 'RadiusJpt', 'HostStarMetallicity',\n",
        "             'PlanetaryMassJpt','PeriodYears']   # take X to be 6 columns and y to be 1 column\n",
        "mult_features = ['SemiMajorAxisAU','HostStarMassSlrMass','HostStarTempK', 'RadiusJpt', 'HostStarMetallicity',\n",
        "             'PlanetaryMassJpt']\n",
        "planetData['PeriodYears']=planetData['PeriodDays']/365.25\n",
        "planets_selectedFeatures = planetData[mult_cols].dropna()\n",
        "\n",
        "\n",
        "X_mult = planets_selectedFeatures[mult_features]\n",
        "# y_mult = planetData.PeriodYears.dropna()\n",
        "y_mult = planets_selectedFeatures['PeriodYears']   # y is the PeriodYears column\n",
        "print(\"Number of observations: \", X_mult.shape[0])\n",
        "print(\"Number of values for the response variable y: \", y_mult.shape[0])\n",
        "print(X_mult.shape)\n",
        "print(y_mult.shape)\n",
        "print(X_mult.head())\n",
        "print(y_mult.head())\n",
        "\n",
        "# instantiate and fit like last time\n",
        "multiple_linreg = LinearRegression()\n",
        "multiple_linreg.fit(X_mult, y_mult)\n",
        "\n",
        "coeffs = multiple_linreg.coef_\n",
        "intercept =  multiple_linreg.intercept_   # this is the y-intercept, beta_0\n",
        "# print the coefficients\n",
        "print(intercept) # this is beta_0\n",
        "print(coeffs)   # we print out 6 coefficients: beta_1, beta_2, beta_3, beta_4, beta_5, beta_6\n"
      ]
    },
    {
      "cell_type": "markdown",
      "metadata": {
        "id": "H6RpM_WDRVRQ"
      },
      "source": [
        "\n",
        "In Python, **zip()** is a built-in function that combines multiple iterables (like lists, tuples, etc.) into a single iterator of tuples. Each tuple contains elements from the corresponding position of each iterable, effectively \"zipping\" them together. It’s useful for pairing elements from multiple sequences together for processing.\n",
        "\n",
        "How **zip()** works:\n",
        "Zips corresponding elements: It pairs the first element of each iterable together, then the second elements, and so on.\n",
        "Stops at the shortest iterable: If the iterables passed to zip() are of unequal lengths, zip() stops creating pairs when the shortest iterable is exhausted."
      ]
    },
    {
      "cell_type": "code",
      "execution_count": null,
      "metadata": {
        "colab": {
          "base_uri": "https://localhost:8080/"
        },
        "id": "9ulyg3ntOUAY",
        "outputId": "83e6715e-372e-4041-93d4-58f8f89a2a30"
      },
      "outputs": [],
      "source": [
        "# pair the feature names with the coefficients\n",
        "zip(mult_features, multiple_linreg.coef_) # pairs items together from 2 columns, etc. (review this)\n",
        "list(zip(mult_features, multiple_linreg.coef_))    # this works here too\n",
        "# Gives us nice output including the coefficient name. Note that 'zip' \"pairs\" up the elements of a number of lists,\n",
        "# tuples, or other sequences, to create a list tuples. 'zip' can take an arbitrary number of sequences, and the\n",
        "# number of elements it produces is determined by the shortest sequence."
      ]
    },
    {
      "cell_type": "markdown",
      "metadata": {
        "id": "bvcMSPndOUAZ"
      },
      "source": [
        "We check to see if this model has a better R<sup>2</sup> and RMSE value than the previous simple linear regression model."
      ]
    },
    {
      "cell_type": "code",
      "execution_count": null,
      "metadata": {
        "colab": {
          "base_uri": "https://localhost:8080/"
        },
        "id": "_tOFkbyAOUAZ",
        "outputId": "5967f07a-364d-419d-e1c0-d453c2d188f7"
      },
      "outputs": [],
      "source": [
        "y_mult_pred = multiple_linreg.predict(X_mult)\n",
        "print(\"R^2 value: \", metrics.r2_score(y_mult, y_mult_pred))\n",
        "# print(\"Variance score: \", linreg.score(X_mult,y_mult)\n",
        "print(\"RMSE for multiple linear regression model (6 features): \",np.sqrt(metrics.mean_squared_error(y_mult, y_mult_pred)))"
      ]
    },
    {
      "cell_type": "code",
      "execution_count": null,
      "metadata": {
        "colab": {
          "base_uri": "https://localhost:8080/",
          "height": 1000
        },
        "id": "VynjC3llOUAZ",
        "outputId": "2a2c8d48-36a5-43d3-f6c5-1d620e338afe"
      },
      "outputs": [],
      "source": [
        "# Plot y vs y_pred\n",
        "\n",
        "print(\"\\n This is a blown-up plot of y_mult vs. y_mult_pred\")\n",
        "plt.scatter(y_mult, y_mult_pred)\n",
        "plt.plot([0,10],[0,10], 'r--')\n",
        "plt.xlim(0,10);\n",
        "plt.ylim(0,10);\n",
        "plt.xlabel('y')\n",
        "plt.ylabel('y_mult_pred')\n",
        "plt.title('y_mult vs. y_mult_predicted');"
      ]
    },
    {
      "cell_type": "code",
      "execution_count": null,
      "metadata": {
        "colab": {
          "base_uri": "https://localhost:8080/",
          "height": 728
        },
        "id": "tRMereOtOUAZ",
        "outputId": "c0d96a8e-0099-42cd-a081-044560d8e807"
      },
      "outputs": [],
      "source": [
        "residuals = y_mult - y_mult_pred\n",
        "plt.figure(figsize=(8, 8))\n",
        "plt.scatter(y_mult_pred,residuals)\n",
        "plt.xlabel('y_mult_pred',fontsize=15)\n",
        "plt.ylabel('residuals', fontsize=15)"
      ]
    },
    {
      "cell_type": "markdown",
      "metadata": {
        "id": "Adacg4M6OUAZ"
      },
      "source": [
        "One of the problems with this model is that we have relatively few observations (327) due to the fact that many of the features have so many NaNs. Before proceeding forward, it might be a good idea to choose only those features with the fewest NaNs. This will mean that our model has fewer features but more observations. This might also better enable us to use train/test split for model evaluation."
      ]
    },
    {
      "cell_type": "code",
      "execution_count": null,
      "metadata": {
        "colab": {
          "base_uri": "https://localhost:8080/",
          "height": 1000
        },
        "id": "WO9lDfq8OUAZ",
        "outputId": "69458e60-84bc-478d-e9b3-aba7ee3a96dd"
      },
      "outputs": [],
      "source": [
        "mult_cols = ['SemiMajorAxisAU','HostStarMassSlrMass',\n",
        "             'PlanetaryMassJpt','PeriodYears']   # take X to be 6 columns and y to be 1 column\n",
        "mult_features = ['SemiMajorAxisAU','HostStarMassSlrMass', 'PlanetaryMassJpt']\n",
        "# planetData['PeriodYears']=planetData['PeriodDays']/365.25\n",
        "planets_selectedFeatures = planetData[mult_cols].dropna()\n",
        "\n",
        "\n",
        "X_mult = planets_selectedFeatures[mult_features]\n",
        "# y_mult = planetData.PeriodYears.dropna()\n",
        "y_mult = planets_selectedFeatures['PeriodYears']   # y is the PeriodYears column\n",
        "print(\"Number of observations: \", X_mult.shape[0])\n",
        "print(\"Number of values for the response variable y: \", y_mult.shape[0])\n",
        "\n",
        "\n",
        "X_mult_train, X_mult_test, y_mult_train, y_mult_test = train_test_split(X_mult, y_mult, test_size=0.3, random_state=42)\n",
        "# Split arrays or matrices into random train and test subsets\n",
        "# -- use random state for debugging purposes\n",
        "print(\"training data size:\",X_mult_train.shape)\n",
        "print(\"testing data size:\",X_mult_test.shape)\n",
        "print (\"total data size:\", X_mult.shape)\n",
        "print(\"size of y_mult:\", y_mult.shape)\n",
        "print(\"size of y_mult_train: \", y_mult_train.shape)\n",
        "print(\"size of y_mult_test: \", y_mult_test.shape)\n",
        "\n",
        "\n",
        "# instantiate and fit like last time\n",
        "\n",
        "mult_linreg = LinearRegression()\n",
        "\n",
        "# fit the model\n",
        "mult_linreg.fit(X_mult_train, y_mult_train)\n",
        "\n",
        "# Predict the model\n",
        "y_mult_pred=mult_linreg.predict(X_mult_test)\n",
        "print(y_mult_pred.shape)\n",
        "coeffs = mult_linreg.coef_\n",
        "intercept =  mult_linreg.intercept_   # this is the y-intercept, beta_0\n",
        "\n",
        "# print the coefficients\n",
        "print(intercept) # this is beta_0\n",
        "print(coeffs)   # we print out 6 coefficients: beta_1, beta_2, beta_3, beta_4, beta_5, beta_6\n",
        "\n",
        "\n",
        "# Get a Score\n",
        "\n",
        "print(\"Variance Score: \", mult_linreg.score(X_mult_test,y_mult_test))\n",
        "print(\"R^2 value: \", metrics.r2_score(y_mult_test, y_mult_pred))\n",
        "print(\"RMSE for multiple linear regression model (3 features): \",np.sqrt(metrics.mean_squared_error(y_mult_test, y_mult_pred)))\n",
        "\n",
        "# Plot y vs y_pred\n",
        "\n",
        "print(\"\\n This is a blown-up plot of y_mult_test vs. y_mult_pred\")\n",
        "plt.scatter(y_mult_test, y_mult_pred)\n",
        "plt.plot([0,50],[0,50], 'r--')\n",
        "plt.xlim(0,50);\n",
        "plt.ylim(0,50);\n",
        "plt.xlabel('y')\n",
        "plt.ylabel('y_mult_pred')\n",
        "plt.title('y_mult_test vs. y_mult_predicted');"
      ]
    },
    {
      "cell_type": "code",
      "execution_count": null,
      "metadata": {
        "colab": {
          "base_uri": "https://localhost:8080/",
          "height": 1000
        },
        "id": "iVmtfg36OUAa",
        "outputId": "aec6c083-20fe-48e8-f734-6d1e1b8a782f"
      },
      "outputs": [],
      "source": [
        "# More plot outputs\n",
        "plt.scatter(X_mult.SemiMajorAxisAU, y_mult,  color='black')\n",
        "plt.scatter(X_mult_test.SemiMajorAxisAU, y_mult_pred, color='red',\n",
        "         linewidth=3)\n",
        "\n",
        "plt.xlim(0,50);\n",
        "plt.ylim(0,60);\n",
        "plt.xlabel('SemiMajorAxisAU')\n",
        "plt.ylabel('PeriodYears')"
      ]
    },
    {
      "cell_type": "markdown",
      "metadata": {
        "id": "V7FHE5sgDXWh"
      },
      "source": [
        "# Ridge and Lasso Regression\n",
        "Apply Ridge and Lasso regression to control overfitting through regularization.\n",
        "\n",
        "**Activity:**\n",
        "\n",
        "*   Train a Ridge and Lasso regression model using the dataset.\n",
        "Compare the effects of the regularization parameter\n",
        "𝛼 on model performance. Check .coef_\n",
        "*   Which regularization method would be preferred for a dataset with many irrelevant features, and why?\n",
        "\n"
      ]
    },
    {
      "cell_type": "markdown",
      "metadata": {
        "id": "blt0XRsaD9EY"
      },
      "source": [
        "# Polynomial Regression and Overfitting\n",
        "\n",
        "Understand how increasing model complexity can lead to overfitting.\n",
        "\n",
        "Activity:\n",
        "*  Create polynomial features to fit higher-degree models and analyze overfitting.\n",
        "*  Compare the training and test errors for different polynomial degrees. What do you observe about overfitting?"
      ]
    },
    {
      "cell_type": "markdown",
      "metadata": {
        "id": "_u7OKOxNEchN"
      },
      "source": [
        "# Cross-Validation for Model Selection\n",
        "Use cross-validation to evaluate and select the best-performing model.\n",
        "\n",
        "Activity:\n",
        "Perform k-fold cross-validation on a linear regression model."
      ]
    },
    {
      "cell_type": "code",
      "execution_count": null,
      "metadata": {
        "collapsed": true,
        "id": "OPYKezvYOUAa"
      },
      "outputs": [],
      "source": []
    }
  ],
  "metadata": {
    "anaconda-cloud": {},
    "colab": {
      "provenance": []
    },
    "kernelspec": {
      "display_name": "Python 3",
      "language": "python",
      "name": "python3"
    },
    "language_info": {
      "codemirror_mode": {
        "name": "ipython",
        "version": 3
      },
      "file_extension": ".py",
      "mimetype": "text/x-python",
      "name": "python",
      "nbconvert_exporter": "python",
      "pygments_lexer": "ipython3",
      "version": "3.12.0"
    }
  },
  "nbformat": 4,
  "nbformat_minor": 0
}
