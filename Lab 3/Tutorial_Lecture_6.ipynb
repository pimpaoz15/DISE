{
  "cells": [
    {
      "cell_type": "markdown",
      "metadata": {
        "id": "auPVROIlbmum"
      },
      "source": [
        "# Boosting Algorithms: AdaBoost, GradientBoosting, XGBoost, and CatBoost\n",
        "\n",
        "In this notebook, we'll demonstrate how to use four popular boosting algorithms: **AdaBoost**, **GradientBoosting**, **XGBoost**, and **CatBoost** using the **Covertype dataset** dataset.\n",
        "\n",
        "## 1. Loading and Preparing the Dataset\n",
        "\n",
        "We will use the Covertype dataset\n",
        "\n",
        "*  **Description:** A multi-class classification dataset that contains information on  forest cover types from cartographic data. It is a larger dataset with 54 features and seven classes, providing a more challenging task for classification algorithms.\n",
        "\n",
        "*  **Problem Type:** Multi-class classification\n",
        "\n",
        "*   **Use Case:** Predict the forest cover type from cartographic data such as elevation, slope, and soil type.\n",
        "\n",
        "*  **Dataset Size:** Large, can be used for testing model scalability.\n"
      ]
    },
    {
      "cell_type": "code",
      "execution_count": 1,
      "metadata": {
        "colab": {
          "base_uri": "https://localhost:8080/"
        },
        "id": "WPRUtS9fbS2G",
        "outputId": "d967dd57-394b-40c0-f084-fbc49a78cfde"
      },
      "outputs": [],
      "source": [
        "#pip install catboost"
      ]
    },
    {
      "cell_type": "code",
      "execution_count": 2,
      "metadata": {
        "id": "lUPhEAiDbJoL"
      },
      "outputs": [],
      "source": [
        "import numpy as np\n",
        "import pandas as pd\n",
        "from sklearn.datasets import fetch_covtype\n",
        "from sklearn.model_selection import train_test_split\n",
        "from sklearn.ensemble import AdaBoostClassifier, GradientBoostingClassifier\n",
        "from xgboost import XGBClassifier\n",
        "from catboost import CatBoostClassifier\n",
        "from sklearn.metrics import accuracy_score, confusion_matrix, classification_report\n",
        "\n"
      ]
    },
    {
      "cell_type": "code",
      "execution_count": 3,
      "metadata": {
        "colab": {
          "base_uri": "https://localhost:8080/"
        },
        "id": "hchrwLixbOcG",
        "outputId": "181da8e0-9bb4-4651-c128-d57346e19653"
      },
      "outputs": [
        {
          "name": "stdout",
          "output_type": "stream",
          "text": [
            "Training samples: 21000, Test samples: 9000\n"
          ]
        }
      ],
      "source": [
        "# Load the Covertype dataset, for simplicity we only take first 30000 samples\n",
        "covtype = fetch_covtype()\n",
        "X = covtype.data[:30000,:]\n",
        "y = covtype.target[:30000]\n",
        "\n",
        "\n",
        "# Split the data into training and testing sets\n",
        "X_train, X_test, y_train, y_test = train_test_split(X, y, test_size=0.3, random_state=42)\n",
        "\n",
        "# Show dataset dimensions\n",
        "print(f\"Training samples: {X_train.shape[0]}, Test samples: {X_test.shape[0]}\")"
      ]
    },
    {
      "cell_type": "code",
      "execution_count": 4,
      "metadata": {
        "colab": {
          "base_uri": "https://localhost:8080/"
        },
        "id": "2f5-k3gpb1W9",
        "outputId": "5587e305-d0fa-4821-e4c9-f961114d67cf"
      },
      "outputs": [
        {
          "name": "stderr",
          "output_type": "stream",
          "text": [
            "/Library/Frameworks/Python.framework/Versions/3.12/lib/python3.12/site-packages/sklearn/ensemble/_weight_boosting.py:519: FutureWarning: The SAMME.R algorithm (the default) is deprecated and will be removed in 1.6. Use the SAMME algorithm to circumvent this warning.\n",
            "  warnings.warn(\n"
          ]
        },
        {
          "name": "stdout",
          "output_type": "stream",
          "text": [
            "AdaBoost Results:\n",
            "Accuracy: 0.6261111111111111\n",
            "[[ 291  782    0    0  120    2  205]\n",
            " [ 159 3745    0    0  215   31   66]\n",
            " [   0    0   14    0   47  593    0]\n",
            " [   0    0    0    0    0  654    0]\n",
            " [   0  337    0    0  386   31    0]\n",
            " [   0    0   11    0   62  563    0]\n",
            " [  48    0    0    0    2    0  636]]\n",
            "              precision    recall  f1-score   support\n",
            "\n",
            "           1       0.58      0.21      0.31      1400\n",
            "           2       0.77      0.89      0.82      4216\n",
            "           3       0.56      0.02      0.04       654\n",
            "           4       0.00      0.00      0.00       654\n",
            "           5       0.46      0.51      0.49       754\n",
            "           6       0.30      0.89      0.45       636\n",
            "           7       0.70      0.93      0.80       686\n",
            "\n",
            "    accuracy                           0.63      9000\n",
            "   macro avg       0.48      0.49      0.42      9000\n",
            "weighted avg       0.61      0.63      0.57      9000\n",
            "\n"
          ]
        },
        {
          "name": "stderr",
          "output_type": "stream",
          "text": [
            "/Library/Frameworks/Python.framework/Versions/3.12/lib/python3.12/site-packages/sklearn/metrics/_classification.py:1509: UndefinedMetricWarning: Precision is ill-defined and being set to 0.0 in labels with no predicted samples. Use `zero_division` parameter to control this behavior.\n",
            "  _warn_prf(average, modifier, f\"{metric.capitalize()} is\", len(result))\n",
            "/Library/Frameworks/Python.framework/Versions/3.12/lib/python3.12/site-packages/sklearn/metrics/_classification.py:1509: UndefinedMetricWarning: Precision is ill-defined and being set to 0.0 in labels with no predicted samples. Use `zero_division` parameter to control this behavior.\n",
            "  _warn_prf(average, modifier, f\"{metric.capitalize()} is\", len(result))\n",
            "/Library/Frameworks/Python.framework/Versions/3.12/lib/python3.12/site-packages/sklearn/metrics/_classification.py:1509: UndefinedMetricWarning: Precision is ill-defined and being set to 0.0 in labels with no predicted samples. Use `zero_division` parameter to control this behavior.\n",
            "  _warn_prf(average, modifier, f\"{metric.capitalize()} is\", len(result))\n"
          ]
        }
      ],
      "source": [
        "# Initialize and train the AdaBoost classifier\n",
        "ada_clf = AdaBoostClassifier(n_estimators=50, random_state=42)\n",
        "ada_clf.fit(X_train, y_train)\n",
        "\n",
        "# Make predictions\n",
        "y_pred_ada = ada_clf.predict(X_test)\n",
        "\n",
        "# Evaluate AdaBoost\n",
        "print(\"AdaBoost Results:\")\n",
        "print(f\"Accuracy: {accuracy_score(y_test, y_pred_ada)}\")\n",
        "print(confusion_matrix(y_test, y_pred_ada))\n",
        "print(classification_report(y_test, y_pred_ada))"
      ]
    },
    {
      "cell_type": "code",
      "execution_count": 5,
      "metadata": {
        "colab": {
          "base_uri": "https://localhost:8080/"
        },
        "id": "vaQB-lxPb7K8",
        "outputId": "db9abcb2-b623-4d07-d433-f96dcdb4ec26"
      },
      "outputs": [
        {
          "name": "stdout",
          "output_type": "stream",
          "text": [
            "Gradient Boosting Results:\n",
            "Accuracy: 0.8493333333333334\n",
            "[[ 928  374    0    0   22    3   73]\n",
            " [ 194 3889   15    0   94   20    4]\n",
            " [   0    0  454   42   24  134    0]\n",
            " [   0    0   24  620    0   10    0]\n",
            " [   7   82   13    0  645    7    0]\n",
            " [   0    8  125   20   22  461    0]\n",
            " [  38    1    0    0    0    0  647]]\n",
            "              precision    recall  f1-score   support\n",
            "\n",
            "           1       0.80      0.66      0.72      1400\n",
            "           2       0.89      0.92      0.91      4216\n",
            "           3       0.72      0.69      0.71       654\n",
            "           4       0.91      0.95      0.93       654\n",
            "           5       0.80      0.86      0.83       754\n",
            "           6       0.73      0.72      0.73       636\n",
            "           7       0.89      0.94      0.92       686\n",
            "\n",
            "    accuracy                           0.85      9000\n",
            "   macro avg       0.82      0.82      0.82      9000\n",
            "weighted avg       0.85      0.85      0.85      9000\n",
            "\n"
          ]
        }
      ],
      "source": [
        "# Initialize and train the Gradient Boosting classifier\n",
        "gb_clf = GradientBoostingClassifier(n_estimators=100, learning_rate=0.1, max_depth=3, random_state=42)\n",
        "gb_clf.fit(X_train, y_train)\n",
        "\n",
        "# Make predictions\n",
        "y_pred_gb = gb_clf.predict(X_test)\n",
        "\n",
        "# Evaluate Gradient Boosting\n",
        "print(\"Gradient Boosting Results:\")\n",
        "print(f\"Accuracy: {accuracy_score(y_test, y_pred_gb)}\")\n",
        "print(confusion_matrix(y_test, y_pred_gb))\n",
        "print(classification_report(y_test, y_pred_gb))"
      ]
    },
    {
      "cell_type": "code",
      "execution_count": 6,
      "metadata": {
        "colab": {
          "base_uri": "https://localhost:8080/"
        },
        "id": "BG19kveqb9T0",
        "outputId": "8b0afc62-18d9-4f58-eefe-b4a8028f7aec"
      },
      "outputs": [
        {
          "name": "stdout",
          "output_type": "stream",
          "text": [
            "XGBoost Results:\n",
            "Accuracy: 0.8154444444444444\n",
            "[[ 779  477    0    0   34    1  109]\n",
            " [ 195 3848   11    0  128   25    9]\n",
            " [   0    0  421   61   23  149    0]\n",
            " [   0    0   25  619    0   10    0]\n",
            " [   4   82   18    0  633   17    0]\n",
            " [   0    0  184   34   29  389    0]\n",
            " [  36    0    0    0    0    0  650]]\n",
            "              precision    recall  f1-score   support\n",
            "\n",
            "           0       0.77      0.56      0.65      1400\n",
            "           1       0.87      0.91      0.89      4216\n",
            "           2       0.64      0.64      0.64       654\n",
            "           3       0.87      0.95      0.90       654\n",
            "           4       0.75      0.84      0.79       754\n",
            "           5       0.66      0.61      0.63       636\n",
            "           6       0.85      0.95      0.89       686\n",
            "\n",
            "    accuracy                           0.82      9000\n",
            "   macro avg       0.77      0.78      0.77      9000\n",
            "weighted avg       0.81      0.82      0.81      9000\n",
            "\n"
          ]
        }
      ],
      "source": [
        "# Initialize and train the XGBoost classifier\n",
        "xgb_clf = XGBClassifier(n_estimators=100, learning_rate=0.1, max_depth=3, random_state=42)\n",
        "# Subtract 1 from y_train to make the labels start from 0\n",
        "y_train_xgb =y_train-1\n",
        "y_test_xgb = y_test - 1\n",
        "xgb_clf.fit(X_train, y_train_xgb)\n",
        "\n",
        "# Make predictions\n",
        "y_pred_xgb = xgb_clf.predict(X_test)\n",
        "\n",
        "# Evaluate XGBoost\n",
        "print(\"XGBoost Results:\")\n",
        "print(f\"Accuracy: {accuracy_score(y_test_xgb, y_pred_xgb)}\")\n",
        "print(confusion_matrix(y_test_xgb, y_pred_xgb))\n",
        "print(classification_report(y_test_xgb, y_pred_xgb))"
      ]
    },
    {
      "cell_type": "code",
      "execution_count": 7,
      "metadata": {
        "colab": {
          "base_uri": "https://localhost:8080/"
        },
        "id": "7ieKh_g2b_mU",
        "outputId": "c71c12e2-540c-4f99-ede9-029e04267297"
      },
      "outputs": [
        {
          "name": "stdout",
          "output_type": "stream",
          "text": [
            "CatBoost Results:\n",
            "Accuracy: 0.7842222222222223\n",
            "[[ 637  598    0    0   33    1  131]\n",
            " [ 162 3881   11    0  122   24   16]\n",
            " [   0    3  378   95   29  149    0]\n",
            " [   0    0   35  608    0   11    0]\n",
            " [   0  148    9    0  569   28    0]\n",
            " [   0    5  179   49   45  358    0]\n",
            " [  55    2    0    0    2    0  627]]\n",
            "              precision    recall  f1-score   support\n",
            "\n",
            "           1       0.75      0.46      0.57      1400\n",
            "           2       0.84      0.92      0.88      4216\n",
            "           3       0.62      0.58      0.60       654\n",
            "           4       0.81      0.93      0.86       654\n",
            "           5       0.71      0.75      0.73       754\n",
            "           6       0.63      0.56      0.59       636\n",
            "           7       0.81      0.91      0.86       686\n",
            "\n",
            "    accuracy                           0.78      9000\n",
            "   macro avg       0.74      0.73      0.73      9000\n",
            "weighted avg       0.78      0.78      0.77      9000\n",
            "\n"
          ]
        }
      ],
      "source": [
        "# Initialize and train the CatBoost classifier (suppressing verbose output with verbose=0)\n",
        "catboost_clf = CatBoostClassifier(iterations=100, learning_rate=0.1, depth=3, verbose=0, random_state=42)\n",
        "catboost_clf.fit(X_train, y_train)\n",
        "\n",
        "# Make predictions\n",
        "y_pred_catboost = catboost_clf.predict(X_test)\n",
        "\n",
        "# Evaluate CatBoost\n",
        "print(\"CatBoost Results:\")\n",
        "print(f\"Accuracy: {accuracy_score(y_test, y_pred_catboost)}\")\n",
        "print(confusion_matrix(y_test, y_pred_catboost))\n",
        "print(classification_report(y_test, y_pred_catboost))"
      ]
    },
    {
      "cell_type": "code",
      "execution_count": null,
      "metadata": {
        "id": "pQICq4zrJEha"
      },
      "outputs": [],
      "source": []
    }
  ],
  "metadata": {
    "colab": {
      "provenance": []
    },
    "kernelspec": {
      "display_name": "Python 3",
      "name": "python3"
    },
    "language_info": {
      "codemirror_mode": {
        "name": "ipython",
        "version": 3
      },
      "file_extension": ".py",
      "mimetype": "text/x-python",
      "name": "python",
      "nbconvert_exporter": "python",
      "pygments_lexer": "ipython3",
      "version": "3.12.0"
    }
  },
  "nbformat": 4,
  "nbformat_minor": 0
}
