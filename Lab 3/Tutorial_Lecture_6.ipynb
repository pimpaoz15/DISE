{
  "cells": [
    {
      "cell_type": "markdown",
      "metadata": {
        "id": "auPVROIlbmum"
      },
      "source": [
        "# Boosting Algorithms: AdaBoost, GradientBoosting, XGBoost, and CatBoost\n",
        "\n",
        "In this notebook, we'll demonstrate how to use four popular boosting algorithms: **AdaBoost**, **GradientBoosting**, **XGBoost**, and **CatBoost** using the **Covertype dataset** dataset.\n",
        "\n",
        "## 1. Loading and Preparing the Dataset\n",
        "\n",
        "We will use the Covertype dataset\n",
        "\n",
        "*  **Description:** A multi-class classification dataset that contains information on  forest cover types from cartographic data. It is a larger dataset with 54 features and seven classes, providing a more challenging task for classification algorithms.\n",
        "\n",
        "*  **Problem Type:** Multi-class classification\n",
        "\n",
        "*   **Use Case:** Predict the forest cover type from cartographic data such as elevation, slope, and soil type.\n",
        "\n",
        "*  **Dataset Size:** Large, can be used for testing model scalability.\n"
      ]
    },
    {
      "cell_type": "code",
      "execution_count": 2,
      "metadata": {
        "colab": {
          "base_uri": "https://localhost:8080/"
        },
        "id": "WPRUtS9fbS2G",
        "outputId": "d967dd57-394b-40c0-f084-fbc49a78cfde"
      },
      "outputs": [],
      "source": [
        "#pip install catboost"
      ]
    },
    {
      "cell_type": "code",
      "execution_count": 3,
      "metadata": {
        "id": "lUPhEAiDbJoL"
      },
      "outputs": [],
      "source": [
        "import numpy as np\n",
        "import pandas as pd\n",
        "from sklearn.datasets import fetch_covtype\n",
        "from sklearn.model_selection import train_test_split\n",
        "from sklearn.ensemble import AdaBoostClassifier, GradientBoostingClassifier\n",
        "from xgboost import XGBClassifier\n",
        "from catboost import CatBoostClassifier\n",
        "from sklearn.metrics import accuracy_score, confusion_matrix, classification_report\n",
        "\n"
      ]
    },
    {
      "cell_type": "code",
      "execution_count": null,
      "metadata": {
        "colab": {
          "base_uri": "https://localhost:8080/"
        },
        "id": "hchrwLixbOcG",
        "outputId": "181da8e0-9bb4-4651-c128-d57346e19653"
      },
      "outputs": [],
      "source": [
        "# Load the Covertype dataset, for simplicity we only take first 30000 samples\n",
        "covtype = fetch_covtype()\n",
        "X = covtype.data[:30000,:]\n",
        "y = covtype.target[:30000]\n",
        "\n",
        "\n",
        "# Split the data into training and testing sets\n",
        "X_train, X_test, y_train, y_test = train_test_split(X, y, test_size=0.3, random_state=42)\n",
        "\n",
        "# Show dataset dimensions\n",
        "print(f\"Training samples: {X_train.shape[0]}, Test samples: {X_test.shape[0]}\")"
      ]
    },
    {
      "cell_type": "code",
      "execution_count": null,
      "metadata": {
        "colab": {
          "base_uri": "https://localhost:8080/"
        },
        "id": "2f5-k3gpb1W9",
        "outputId": "5587e305-d0fa-4821-e4c9-f961114d67cf"
      },
      "outputs": [],
      "source": [
        "# Initialize and train the AdaBoost classifier\n",
        "ada_clf = AdaBoostClassifier(n_estimators=50, random_state=42)\n",
        "ada_clf.fit(X_train, y_train)\n",
        "\n",
        "# Make predictions\n",
        "y_pred_ada = ada_clf.predict(X_test)\n",
        "\n",
        "# Evaluate AdaBoost\n",
        "print(\"AdaBoost Results:\")\n",
        "print(f\"Accuracy: {accuracy_score(y_test, y_pred_ada)}\")\n",
        "print(confusion_matrix(y_test, y_pred_ada))\n",
        "print(classification_report(y_test, y_pred_ada))"
      ]
    },
    {
      "cell_type": "code",
      "execution_count": null,
      "metadata": {
        "colab": {
          "base_uri": "https://localhost:8080/"
        },
        "id": "vaQB-lxPb7K8",
        "outputId": "db9abcb2-b623-4d07-d433-f96dcdb4ec26"
      },
      "outputs": [],
      "source": [
        "# Initialize and train the Gradient Boosting classifier\n",
        "gb_clf = GradientBoostingClassifier(n_estimators=100, learning_rate=0.1, max_depth=3, random_state=42)\n",
        "gb_clf.fit(X_train, y_train)\n",
        "\n",
        "# Make predictions\n",
        "y_pred_gb = gb_clf.predict(X_test)\n",
        "\n",
        "# Evaluate Gradient Boosting\n",
        "print(\"Gradient Boosting Results:\")\n",
        "print(f\"Accuracy: {accuracy_score(y_test, y_pred_gb)}\")\n",
        "print(confusion_matrix(y_test, y_pred_gb))\n",
        "print(classification_report(y_test, y_pred_gb))"
      ]
    },
    {
      "cell_type": "code",
      "execution_count": null,
      "metadata": {
        "colab": {
          "base_uri": "https://localhost:8080/"
        },
        "id": "BG19kveqb9T0",
        "outputId": "8b0afc62-18d9-4f58-eefe-b4a8028f7aec"
      },
      "outputs": [],
      "source": [
        "# Initialize and train the XGBoost classifier\n",
        "xgb_clf = XGBClassifier(n_estimators=100, learning_rate=0.1, max_depth=3, random_state=42)\n",
        "# Subtract 1 from y_train to make the labels start from 0\n",
        "y_train_xgb =y_train-1\n",
        "y_test_xgb = y_test - 1\n",
        "xgb_clf.fit(X_train, y_train_xgb)\n",
        "\n",
        "# Make predictions\n",
        "y_pred_xgb = xgb_clf.predict(X_test)\n",
        "\n",
        "# Evaluate XGBoost\n",
        "print(\"XGBoost Results:\")\n",
        "print(f\"Accuracy: {accuracy_score(y_test_xgb, y_pred_xgb)}\")\n",
        "print(confusion_matrix(y_test_xgb, y_pred_xgb))\n",
        "print(classification_report(y_test_xgb, y_pred_xgb))"
      ]
    },
    {
      "cell_type": "code",
      "execution_count": null,
      "metadata": {
        "colab": {
          "base_uri": "https://localhost:8080/"
        },
        "id": "7ieKh_g2b_mU",
        "outputId": "c71c12e2-540c-4f99-ede9-029e04267297"
      },
      "outputs": [],
      "source": [
        "# Initialize and train the CatBoost classifier (suppressing verbose output with verbose=0)\n",
        "catboost_clf = CatBoostClassifier(iterations=100, learning_rate=0.1, depth=3, verbose=0, random_state=42)\n",
        "catboost_clf.fit(X_train, y_train)\n",
        "\n",
        "# Make predictions\n",
        "y_pred_catboost = catboost_clf.predict(X_test)\n",
        "\n",
        "# Evaluate CatBoost\n",
        "print(\"CatBoost Results:\")\n",
        "print(f\"Accuracy: {accuracy_score(y_test, y_pred_catboost)}\")\n",
        "print(confusion_matrix(y_test, y_pred_catboost))\n",
        "print(classification_report(y_test, y_pred_catboost))"
      ]
    },
    {
      "cell_type": "code",
      "execution_count": null,
      "metadata": {
        "id": "pQICq4zrJEha"
      },
      "outputs": [],
      "source": []
    }
  ],
  "metadata": {
    "colab": {
      "provenance": []
    },
    "kernelspec": {
      "display_name": "Python 3",
      "name": "python3"
    },
    "language_info": {
      "codemirror_mode": {
        "name": "ipython",
        "version": 3
      },
      "file_extension": ".py",
      "mimetype": "text/x-python",
      "name": "python",
      "nbconvert_exporter": "python",
      "pygments_lexer": "ipython3",
      "version": "3.12.0"
    }
  },
  "nbformat": 4,
  "nbformat_minor": 0
}
