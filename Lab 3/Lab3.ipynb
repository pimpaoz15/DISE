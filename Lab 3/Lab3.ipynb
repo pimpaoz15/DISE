{
  "cells": [
    {
      "cell_type": "markdown",
      "metadata": {
        "id": "QiI92gU7k3FI"
      },
      "source": [
        "# Spaceship Titanic\n",
        "\n",
        "\n",
        "**Dataset Description**\n",
        "In this competition your task is to predict whether a passenger was transported to an alternate dimension during the Spaceship Titanic's collision with the spacetime anomaly. To help you make these predictions, you're given a set of personal records recovered from the ship's damaged computer system.\n",
        "\n",
        "**File and Data Field Descriptions**\n",
        "\n",
        "train.csv - Personal records for about two-thirds (8700) of the passengers, to be used as training data.\n",
        "\n",
        "PassengerId - A unique Id for each passenger. Each Id takes the form gggg_pp where gggg indicates a group the passenger is travelling with and pp is their number within the group. People in a group are often family members, but not always.\n",
        "\n",
        "HomePlanet - The planet the passenger departed from, typically their planet of permanent residence.\n",
        "\n",
        "CryoSleep - Indicates whether the passenger elected to be put into suspended animation for the duration of the voyage. Passengers in cryosleep are confined to their cabins.\n",
        "\n",
        "Cabin - The cabin number where the passenger is staying. Takes the form deck/num/side, where side can be either P for Port or S for Starboard.\n",
        "\n",
        "Destination - The planet the passenger will be debarking to.\n",
        "\n",
        "Age - The age of the passenger.\n",
        "\n",
        "VIP - Whether the passenger has paid for special VIP service during the voyage.\n",
        "RoomService, FoodCourt, ShoppingMall, Spa, VRDeck - Amount the passenger has billed at each of the Spaceship Titanic's many luxury amenities.\n",
        "\n",
        "Name - The first and last names of the passenger.\n",
        "\n",
        "Transported - Whether the passenger was transported to another dimension. This is the target, the column you are trying to predict.\n",
        "\n",
        "test.csv - Personal records for the remaining one-third (~4300) of the passengers, to be used as test data. Your task is to predict the value of Transported for the passengers in this set.\n",
        "\n",
        "PassengerId - Id for each passenger in the test set.\n",
        "\n",
        "Transported - The target. For each passenger, predict either True or False.\n",
        "\n",
        " # **The lab consist in a competition to see which students gets a better result in the test set. You will need to explain with code comments or text which steps are you following.**\n"
      ]
    },
    {
      "cell_type": "code",
      "execution_count": 315,
      "metadata": {
        "colab": {
          "base_uri": "https://localhost:8080/"
        },
        "id": "Kcp4DGoMk05A",
        "outputId": "e1414e43-6ba2-4fe9-8fed-1508775dc3cf"
      },
      "outputs": [],
      "source": [
        "#from google.colab import drive\n",
        "#drive.mount('/content/drive')"
      ]
    },
    {
      "cell_type": "markdown",
      "metadata": {},
      "source": [
        "### Import Libraries\n",
        "\n",
        "All the necessary libraries throughout the whole assignment have been imported in the cell below."
      ]
    },
    {
      "cell_type": "code",
      "execution_count": 316,
      "metadata": {
        "id": "7IheEC7xSKbX"
      },
      "outputs": [],
      "source": [
        "import pandas as pd\n",
        "import numpy as np\n",
        "import matplotlib.pyplot as plt\n",
        "import seaborn as sns\n",
        "\n",
        "# Data Visualization\n",
        "import matplotlib.pyplot as plt\n",
        "import seaborn as sns\n",
        "\n",
        "# Boosting algorithms for the Spaceship Titanic dataset\n",
        "from sklearn.datasets import fetch_covtype\n",
        "from sklearn.model_selection import train_test_split\n",
        "from sklearn.ensemble import AdaBoostClassifier, GradientBoostingClassifier\n",
        "from xgboost import XGBClassifier\n",
        "from catboost import CatBoostClassifier\n",
        "from sklearn.metrics import accuracy_score, confusion_matrix, classification_report\n",
        "from sklearn.impute import SimpleImputer\n",
        "from sklearn.model_selection import GridSearchCV\n",
        "from sklearn.model_selection import cross_val_score\n",
        "from sklearn.ensemble import RandomForestClassifier\n",
        "from sklearn.linear_model import LogisticRegression\n",
        "from sklearn.svm import SVC\n",
        "\n",
        "# Set pandas to display wider tables\n",
        "pd.set_option('display.width', 1000)\n",
        "pd.set_option('display.max_columns', 100)"
      ]
    },
    {
      "cell_type": "markdown",
      "metadata": {},
      "source": [
        "### Load Data\n",
        "\n",
        "'train_Lab3.csv' contains the data used for training the model, which includes both input features and the target variable ('Transported').\n",
        "\n",
        "'test_Lab3.csv' contains the data used for testing the model, but it does not contain the target variable. We will predict the target for this dataset later.\n",
        "\n"
      ]
    },
    {
      "cell_type": "code",
      "execution_count": 317,
      "metadata": {
        "id": "TJGMLyFmRqbd"
      },
      "outputs": [],
      "source": [
        "#SpaceTrain = pd.read_csv(\"/content/drive/MyDrive/DataIntesive/Data/train_Lab3.csv\")\n",
        "SpaceTrain = pd.read_csv(\"train_Lab3.csv\")\n",
        "\n",
        "#SpaceTest = pd.read_csv(\"/content/drive/MyDrive/DataIntesive/Data/test_Lab3.csv\")\n",
        "SpaceTest = pd.read_csv(\"test_Lab3.csv\")"
      ]
    },
    {
      "cell_type": "markdown",
      "metadata": {},
      "source": [
        "### Exploring the Data\n",
        "The .head gives us a quick look at the structure of the data, including the columns (features) and some sample values. The .info() method is used to get a summary of the data, in particular the total number of entries, the number of non-null values in each column, the data type of each column, and the memory usage. The .describe() method is used to view some basic statistical details like percentile, mean, std etc. of a data frame or a series of numeric values. The .isnull().sum() method is used to check the number of missing values in the dataset. "
      ]
    },
    {
      "cell_type": "code",
      "execution_count": 320,
      "metadata": {},
      "outputs": [
        {
          "name": "stdout",
          "output_type": "stream",
          "text": [
            "Training Data:\n",
            "  PassengerId HomePlanet CryoSleep  Cabin  Destination   Age    VIP  RoomService  FoodCourt  ShoppingMall     Spa  VRDeck               Name  Transported\n",
            "0     0001_01     Europa     False  B/0/P  TRAPPIST-1e  39.0  False          0.0        0.0           0.0     0.0     0.0    Maham Ofracculy        False\n",
            "1     0002_01      Earth     False  F/0/S  TRAPPIST-1e  24.0  False        109.0        9.0          25.0   549.0    44.0       Juanna Vines         True\n",
            "2     0003_01     Europa     False  A/0/S  TRAPPIST-1e  58.0   True         43.0     3576.0           0.0  6715.0    49.0      Altark Susent        False\n",
            "3     0003_02     Europa     False  A/0/S  TRAPPIST-1e  33.0  False          0.0     1283.0         371.0  3329.0   193.0       Solam Susent        False\n",
            "4     0004_01      Earth     False  F/1/S  TRAPPIST-1e  16.0  False        303.0       70.0         151.0   565.0     2.0  Willy Santantines         True\n",
            "\n",
            "\n",
            "Test Data:\n",
            "  PassengerId HomePlanet CryoSleep  Cabin  Destination   Age    VIP  RoomService  FoodCourt  ShoppingMall     Spa  VRDeck              Name\n",
            "0     0013_01      Earth      True  G/3/S  TRAPPIST-1e  27.0  False          0.0        0.0           0.0     0.0     0.0   Nelly Carsoning\n",
            "1     0018_01      Earth     False  F/4/S  TRAPPIST-1e  19.0  False          0.0        9.0           0.0  2823.0     0.0    Lerome Peckers\n",
            "2     0019_01     Europa      True  C/0/S  55 Cancri e  31.0  False          0.0        0.0           0.0     0.0     0.0   Sabih Unhearfus\n",
            "3     0021_01     Europa     False  C/1/S  TRAPPIST-1e  38.0  False          0.0     6652.0           0.0   181.0   585.0  Meratz Caltilter\n",
            "4     0023_01      Earth     False  F/5/S  TRAPPIST-1e  20.0  False         10.0        0.0         635.0     0.0     0.0   Brence Harperez\n"
          ]
        }
      ],
      "source": [
        "# Check the first few rows of both datasets\n",
        "print(\"Training Data:\")\n",
        "print(SpaceTrain.head())\n",
        "\n",
        "print(\"\\n\") # Add a line break\n",
        "\n",
        "print(\"Test Data:\")\n",
        "print(SpaceTest.head())"
      ]
    },
    {
      "cell_type": "code",
      "execution_count": 321,
      "metadata": {},
      "outputs": [
        {
          "name": "stdout",
          "output_type": "stream",
          "text": [
            "Training data shape: (8693, 14)\n",
            "Test data shape: (4277, 13)\n"
          ]
        }
      ],
      "source": [
        "# Check dimensions of the datasets\n",
        "print(f\"Training data shape: {SpaceTrain.shape}\")\n",
        "\n",
        "print(f\"Test data shape: {SpaceTest.shape}\")"
      ]
    },
    {
      "cell_type": "code",
      "execution_count": 322,
      "metadata": {},
      "outputs": [
        {
          "name": "stdout",
          "output_type": "stream",
          "text": [
            "Missing values in training data:\n",
            "PassengerId       0\n",
            "HomePlanet      201\n",
            "CryoSleep       217\n",
            "Cabin           199\n",
            "Destination     182\n",
            "Age             179\n",
            "VIP             203\n",
            "RoomService     181\n",
            "FoodCourt       183\n",
            "ShoppingMall    208\n",
            "Spa             183\n",
            "VRDeck          188\n",
            "Name            200\n",
            "Transported       0\n",
            "dtype: int64\n",
            "\n",
            "\n",
            "Missing values in test data:\n",
            "PassengerId       0\n",
            "HomePlanet       87\n",
            "CryoSleep        93\n",
            "Cabin           100\n",
            "Destination      92\n",
            "Age              91\n",
            "VIP              93\n",
            "RoomService      82\n",
            "FoodCourt       106\n",
            "ShoppingMall     98\n",
            "Spa             101\n",
            "VRDeck           80\n",
            "Name             94\n",
            "dtype: int64\n"
          ]
        }
      ],
      "source": [
        "# Check for missing values in both datasets\n",
        "print(\"Missing values in training data:\")\n",
        "print(SpaceTrain.isnull().sum())\n",
        "\n",
        "print(\"\\n\") # Add a line break\n",
        "\n",
        "print(\"Missing values in test data:\")\n",
        "print(SpaceTest.isnull().sum())"
      ]
    },
    {
      "cell_type": "code",
      "execution_count": 323,
      "metadata": {},
      "outputs": [
        {
          "name": "stdout",
          "output_type": "stream",
          "text": [
            "Training data types:\n",
            "<class 'pandas.core.frame.DataFrame'>\n",
            "RangeIndex: 8693 entries, 0 to 8692\n",
            "Data columns (total 14 columns):\n",
            " #   Column        Non-Null Count  Dtype  \n",
            "---  ------        --------------  -----  \n",
            " 0   PassengerId   8693 non-null   object \n",
            " 1   HomePlanet    8492 non-null   object \n",
            " 2   CryoSleep     8476 non-null   object \n",
            " 3   Cabin         8494 non-null   object \n",
            " 4   Destination   8511 non-null   object \n",
            " 5   Age           8514 non-null   float64\n",
            " 6   VIP           8490 non-null   object \n",
            " 7   RoomService   8512 non-null   float64\n",
            " 8   FoodCourt     8510 non-null   float64\n",
            " 9   ShoppingMall  8485 non-null   float64\n",
            " 10  Spa           8510 non-null   float64\n",
            " 11  VRDeck        8505 non-null   float64\n",
            " 12  Name          8493 non-null   object \n",
            " 13  Transported   8693 non-null   bool   \n",
            "dtypes: bool(1), float64(6), object(7)\n",
            "memory usage: 891.5+ KB\n",
            "None\n",
            "\n",
            "\n",
            "Test data types:\n",
            "<class 'pandas.core.frame.DataFrame'>\n",
            "RangeIndex: 4277 entries, 0 to 4276\n",
            "Data columns (total 13 columns):\n",
            " #   Column        Non-Null Count  Dtype  \n",
            "---  ------        --------------  -----  \n",
            " 0   PassengerId   4277 non-null   object \n",
            " 1   HomePlanet    4190 non-null   object \n",
            " 2   CryoSleep     4184 non-null   object \n",
            " 3   Cabin         4177 non-null   object \n",
            " 4   Destination   4185 non-null   object \n",
            " 5   Age           4186 non-null   float64\n",
            " 6   VIP           4184 non-null   object \n",
            " 7   RoomService   4195 non-null   float64\n",
            " 8   FoodCourt     4171 non-null   float64\n",
            " 9   ShoppingMall  4179 non-null   float64\n",
            " 10  Spa           4176 non-null   float64\n",
            " 11  VRDeck        4197 non-null   float64\n",
            " 12  Name          4183 non-null   object \n",
            "dtypes: float64(6), object(7)\n",
            "memory usage: 434.5+ KB\n",
            "None\n"
          ]
        }
      ],
      "source": [
        "# Check data types of each column in both datasets\n",
        "print(\"Training data types:\")\n",
        "print(SpaceTrain.info())\n",
        "\n",
        "print(\"\\n\") # Add a line break\n",
        "\n",
        "print(\"Test data types:\")\n",
        "print(SpaceTest.info())"
      ]
    },
    {
      "cell_type": "code",
      "execution_count": 324,
      "metadata": {},
      "outputs": [
        {
          "name": "stdout",
          "output_type": "stream",
          "text": [
            "Training data statistics:\n",
            "               Age   RoomService     FoodCourt  ShoppingMall           Spa        VRDeck\n",
            "count  8514.000000   8512.000000   8510.000000   8485.000000   8510.000000   8505.000000\n",
            "mean     28.827930    224.687617    458.077203    173.729169    311.138778    304.854791\n",
            "std      14.489021    666.717663   1611.489240    604.696458   1136.705535   1145.717189\n",
            "min       0.000000      0.000000      0.000000      0.000000      0.000000      0.000000\n",
            "25%      19.000000      0.000000      0.000000      0.000000      0.000000      0.000000\n",
            "50%      27.000000      0.000000      0.000000      0.000000      0.000000      0.000000\n",
            "75%      38.000000     47.000000     76.000000     27.000000     59.000000     46.000000\n",
            "max      79.000000  14327.000000  29813.000000  23492.000000  22408.000000  24133.000000\n",
            "\n",
            "\n",
            "Test data statistics:\n",
            "               Age   RoomService     FoodCourt  ShoppingMall           Spa        VRDeck\n",
            "count  4186.000000   4195.000000   4171.000000   4179.000000   4176.000000   4197.000000\n",
            "mean     28.658146    219.266269    439.484296    177.295525    303.052443    310.710031\n",
            "std      14.179072    607.011289   1527.663045    560.821123   1117.186015   1246.994742\n",
            "min       0.000000      0.000000      0.000000      0.000000      0.000000      0.000000\n",
            "25%      19.000000      0.000000      0.000000      0.000000      0.000000      0.000000\n",
            "50%      26.000000      0.000000      0.000000      0.000000      0.000000      0.000000\n",
            "75%      37.000000     53.000000     78.000000     33.000000     50.000000     36.000000\n",
            "max      79.000000  11567.000000  25273.000000   8292.000000  19844.000000  22272.000000\n"
          ]
        }
      ],
      "source": [
        "# Basic statistics for numerical features in both datasets\n",
        "print(\"Training data statistics:\")\n",
        "print(SpaceTrain.describe())\n",
        "\n",
        "print(\"\\n\") # Add a line break\n",
        "\n",
        "print(\"Test data statistics:\")\n",
        "print(SpaceTest.describe())"
      ]
    },
    {
      "cell_type": "markdown",
      "metadata": {},
      "source": [
        "### Visualizing the Data\n",
        "\n",
        "The seaborn library is used to create a pairplot of the data. A pairplot is a plot where the relationship between two variables is plotted along with the distribution of each variabble on the diagonal axes. The hue parameter is used to color the data points based on the target variable. This helps us to see if there are any patterns in the data that can be used to predict the target variable."
      ]
    },
    {
      "cell_type": "code",
      "execution_count": 325,
      "metadata": {},
      "outputs": [
        {
          "data": {
            "image/png": "[encoded data removed]",
            "text/plain": [
              "<Figure size 1200x600 with 1 Axes>"
            ]
          },
          "metadata": {},
          "output_type": "display_data"
        },
        {
          "data": {
            "image/png": "[encoded data removed]",
            "text/plain": [
              "<Figure size 1000x500 with 1 Axes>"
            ]
          },
          "metadata": {},
          "output_type": "display_data"
        },
        {
          "data": {
            "image/png": "[encoded data removed]",
            "text/plain": [
              "<Figure size 1000x500 with 1 Axes>"
            ]
          },
          "metadata": {},
          "output_type": "display_data"
        },
        {
          "data": {
            "image/png": "[encoded data removed]",
            "text/plain": [
              "<Figure size 1000x500 with 1 Axes>"
            ]
          },
          "metadata": {},
          "output_type": "display_data"
        },
        {
          "data": {
            "image/png": "[encoded data removed]",
            "text/plain": [
              "<Figure size 1000x500 with 1 Axes>"
            ]
          },
          "metadata": {},
          "output_type": "display_data"
        }
      ],
      "source": [
        "# Set up the matplotlib figure\n",
        "plt.figure(figsize=(12, 6))\n",
        "\n",
        "# Plot the distribution of the target variable\n",
        "sns.countplot(x='Transported', data=SpaceTrain)\n",
        "plt.title('Distribution of Transported')\n",
        "plt.show()\n",
        "\n",
        "# Plot the distribution of HomePlanet\n",
        "plt.figure(figsize=(10, 5))\n",
        "sns.countplot(x='HomePlanet', data=SpaceTrain)\n",
        "plt.title('Distribution of HomePlanet')\n",
        "plt.show()\n",
        "\n",
        "# Plot the distribution of CryoSleep\n",
        "plt.figure(figsize=(10, 5))\n",
        "sns.countplot(x='CryoSleep', data=SpaceTrain)\n",
        "plt.title('Distribution of CryoSleep')\n",
        "plt.show()\n",
        "\n",
        "# Plot the distribution of VIP\n",
        "plt.figure(figsize=(10, 5))\n",
        "sns.countplot(x='VIP', data=SpaceTrain)\n",
        "plt.title('Distribution of VIP')\n",
        "plt.show()\n",
        "\n",
        "# Plot the distribution of Age\n",
        "plt.figure(figsize=(10, 5))\n",
        "sns.histplot(SpaceTrain['Age'].dropna(), kde=True)\n",
        "plt.title('Distribution of Age')\n",
        "plt.show()"
      ]
    },
    {
      "cell_type": "markdown",
      "metadata": {},
      "source": [
        "### Handling Missing Values/Data\n",
        "\n",
        "The .fillna() method is used to fill missing values in the dataset. The 'Cabin' column is filled with 'Unknown' and the 'Age' column is filled with the mean age of the passengers. The .drop() method is used to drop the 'Name' column as it is not useful for predicting the target variable."
      ]
    },
    {
      "cell_type": "code",
      "execution_count": 326,
      "metadata": {},
      "outputs": [
        {
          "name": "stdout",
          "output_type": "stream",
          "text": [
            "Remaining missing values in SpaceTrain after handling:\n",
            "PassengerId     0\n",
            "HomePlanet      0\n",
            "CryoSleep       0\n",
            "Destination     0\n",
            "Age             0\n",
            "VIP             0\n",
            "RoomService     0\n",
            "FoodCourt       0\n",
            "ShoppingMall    0\n",
            "Spa             0\n",
            "VRDeck          0\n",
            "Transported     0\n",
            "Deck            0\n",
            "Num             0\n",
            "Side            0\n",
            "dtype: int64\n",
            "\n",
            "Remaining missing values in SpaceTest after handling:\n",
            "PassengerId     0\n",
            "HomePlanet      0\n",
            "CryoSleep       0\n",
            "Destination     0\n",
            "Age             0\n",
            "VIP             0\n",
            "RoomService     0\n",
            "FoodCourt       0\n",
            "ShoppingMall    0\n",
            "Spa             0\n",
            "VRDeck          0\n",
            "Deck            0\n",
            "Num             0\n",
            "Side            0\n",
            "dtype: int64\n"
          ]
        }
      ],
      "source": [
        "# Fill missing values for categorical columns with the mode\n",
        "SpaceTrain['HomePlanet'].fillna(SpaceTrain['HomePlanet'].mode()[0], inplace=True)\n",
        "SpaceTrain['Destination'].fillna(SpaceTrain['Destination'].mode()[0], inplace=True)\n",
        "SpaceTrain['CryoSleep'].fillna(SpaceTrain['CryoSleep'].mode()[0], inplace=True)\n",
        "SpaceTrain['VIP'].fillna(SpaceTrain['VIP'].mode()[0], inplace=True)\n",
        "\n",
        "# Fill missing values for numerical columns with the median\n",
        "SpaceTrain['Age'].fillna(SpaceTrain['Age'].median(), inplace=True)\n",
        "SpaceTrain['RoomService'].fillna(SpaceTrain['RoomService'].median(), inplace=True)\n",
        "SpaceTrain['FoodCourt'].fillna(SpaceTrain['FoodCourt'].median(), inplace=True)\n",
        "SpaceTrain['ShoppingMall'].fillna(SpaceTrain['ShoppingMall'].median(), inplace=True)\n",
        "SpaceTrain['Spa'].fillna(SpaceTrain['Spa'].median(), inplace=True)\n",
        "SpaceTrain['VRDeck'].fillna(SpaceTrain['VRDeck'].median(), inplace=True)\n",
        "\n",
        "# Do the same for the test data\n",
        "SpaceTest['HomePlanet'].fillna(SpaceTest['HomePlanet'].mode()[0], inplace=True)\n",
        "SpaceTest['Destination'].fillna(SpaceTest['Destination'].mode()[0], inplace=True)\n",
        "SpaceTest['CryoSleep'].fillna(SpaceTest['CryoSleep'].mode()[0], inplace=True)\n",
        "SpaceTest['VIP'].fillna(SpaceTest['VIP'].mode()[0], inplace=True)\n",
        "\n",
        "SpaceTest['Age'].fillna(SpaceTest['Age'].median(), inplace=True)\n",
        "SpaceTest['RoomService'].fillna(SpaceTest['RoomService'].median(), inplace=True)\n",
        "SpaceTest['FoodCourt'].fillna(SpaceTest['FoodCourt'].median(), inplace=True)\n",
        "SpaceTest['ShoppingMall'].fillna(SpaceTest['ShoppingMall'].median(), inplace=True)\n",
        "SpaceTest['Spa'].fillna(SpaceTest['Spa'].median(), inplace=True)\n",
        "SpaceTest['VRDeck'].fillna(SpaceTest['VRDeck'].median(), inplace=True)\n",
        "\n",
        "# Handle missing values in the Cabin column\n",
        "# Split the Cabin column into Deck, Num, and Side\n",
        "SpaceTrain[['Deck', 'Num', 'Side']] = SpaceTrain['Cabin'].str.split('/', expand=True)\n",
        "SpaceTest[['Deck', 'Num', 'Side']] = SpaceTest['Cabin'].str.split('/', expand=True)\n",
        "\n",
        "# Fill missing values for 'Deck' and 'Side' with mode, and 'Num' with median\n",
        "SpaceTrain['Deck'].fillna(SpaceTrain['Deck'].mode()[0], inplace=True)\n",
        "SpaceTrain['Num'].fillna(SpaceTrain['Num'].median(), inplace=True)\n",
        "SpaceTrain['Side'].fillna(SpaceTrain['Side'].mode()[0], inplace=True)\n",
        "\n",
        "SpaceTest['Deck'].fillna(SpaceTest['Deck'].mode()[0], inplace=True)\n",
        "SpaceTest['Num'].fillna(SpaceTest['Num'].median(), inplace=True)\n",
        "SpaceTest['Side'].fillna(SpaceTest['Side'].mode()[0], inplace=True)\n",
        "\n",
        "# Optionally, drop the Name column if not needed\n",
        "SpaceTrain.drop('Name', axis=1, inplace=True)\n",
        "SpaceTest.drop('Name', axis=1, inplace=True)\n",
        "\n",
        "# Optionally, drop the original Cabin column since it's split into Deck, Num, and Side\n",
        "SpaceTrain.drop('Cabin', axis=1, inplace=True)\n",
        "SpaceTest.drop('Cabin', axis=1, inplace=True)\n",
        "\n",
        "# Final check for missing values\n",
        "print(\"Remaining missing values in SpaceTrain after handling:\")\n",
        "print(SpaceTrain.isnull().sum())\n",
        "\n",
        "print(\"\\nRemaining missing values in SpaceTest after handling:\")\n",
        "print(SpaceTest.isnull().sum())\n"
      ]
    },
    {
      "cell_type": "markdown",
      "metadata": {},
      "source": [
        "### Encoding Categorical Data\n",
        "\n",
        "The .get_dummies() method is used to convert categorical variables into dummy/indicator variables. This is done to convert the categorical variables into a form that could be provided to ML algorithms to do a better job in prediction. The 'HomePlanet', 'Cabin', and 'Destination' columns are encoded using this method."
      ]
    },
    {
      "cell_type": "code",
      "execution_count": 327,
      "metadata": {},
      "outputs": [],
      "source": [
        "from sklearn.preprocessing import LabelEncoder\n",
        "\n",
        "# One-hot encode the categorical features with more than 2 categories\n",
        "categorical_columns = ['HomePlanet', 'Destination', 'Deck', 'Side']\n",
        "SpaceTrain = pd.get_dummies(SpaceTrain, columns=categorical_columns, drop_first=True)\n",
        "SpaceTest = pd.get_dummies(SpaceTest, columns=categorical_columns, drop_first=True)\n",
        "\n",
        "# Encode binary categorical columns (CryoSleep, VIP)\n",
        "binary_columns = ['CryoSleep', 'VIP']\n",
        "le = LabelEncoder()\n",
        "for col in binary_columns:\n",
        "    SpaceTrain[col] = le.fit_transform(SpaceTrain[col].astype(str))\n",
        "    SpaceTest[col] = le.transform(SpaceTest[col].astype(str))  # Ensure the same mapping is used for the test set\n"
      ]
    },
    {
      "cell_type": "code",
      "execution_count": 328,
      "metadata": {},
      "outputs": [],
      "source": [
        "# Align columns between train and test\n",
        "SpaceTest = SpaceTest.reindex(columns=SpaceTrain.columns, fill_value=0)\n"
      ]
    },
    {
      "cell_type": "markdown",
      "metadata": {},
      "source": [
        "### Data Preprocessing\n",
        "\n",
        "The data is split into input features (X) and the target variable (y). The input features are then split into training and testing sets using the train_test_split() method. The data is then scaled using the StandardScaler() method to standardize the data."
      ]
    },
    {
      "cell_type": "code",
      "execution_count": 329,
      "metadata": {},
      "outputs": [
        {
          "name": "stdout",
          "output_type": "stream",
          "text": [
            "Training samples: 6085, Test samples: 2608\n"
          ]
        }
      ],
      "source": [
        "# Separate features and target variable\n",
        "X = SpaceTrain.drop('Transported', axis=1)\n",
        "y = SpaceTrain['Transported']\n",
        "\n",
        "# Split the data into training and testing sets\n",
        "X_train, X_test, y_train, y_test = train_test_split(X, y, test_size=0.3, random_state=42)\n",
        "\n",
        "# Show dataset dimensions\n",
        "print(f\"Training samples: {X_train.shape[0]}, Test samples: {X_test.shape[0]}\")\n"
      ]
    },
    {
      "cell_type": "markdown",
      "metadata": {},
      "source": [
        "### Boosting Model/Algorithm"
      ]
    },
    {
      "cell_type": "markdown",
      "metadata": {},
      "source": [
        "##### AdaBoost Classifier\n",
        "\n",
        "The AdaBoost Classifier is used to train the model. The AdaBoost algorithm is an ensemble learning method that creates a strong classifier by combining multiple poorly performing classifiers. It is used to boost the performance of decision trees on binary classification problems."
      ]
    },
    {
      "cell_type": "code",
      "execution_count": 330,
      "metadata": {},
      "outputs": [
        {
          "name": "stderr",
          "output_type": "stream",
          "text": [
            "/Library/Frameworks/Python.framework/Versions/3.12/lib/python3.12/site-packages/sklearn/ensemble/_weight_boosting.py:519: FutureWarning: The SAMME.R algorithm (the default) is deprecated and will be removed in 1.6. Use the SAMME algorithm to circumvent this warning.\n",
            "  warnings.warn(\n"
          ]
        },
        {
          "name": "stdout",
          "output_type": "stream",
          "text": [
            "AdaBoost Results:\n",
            "Accuracy: 0.7783742331288344\n",
            "[[ 956  333]\n",
            " [ 245 1074]]\n",
            "              precision    recall  f1-score   support\n",
            "\n",
            "       False       0.80      0.74      0.77      1289\n",
            "        True       0.76      0.81      0.79      1319\n",
            "\n",
            "    accuracy                           0.78      2608\n",
            "   macro avg       0.78      0.78      0.78      2608\n",
            "weighted avg       0.78      0.78      0.78      2608\n",
            "\n"
          ]
        }
      ],
      "source": [
        "# Initialize and train the AdaBoost classifier\n",
        "ada_clf = AdaBoostClassifier(n_estimators=50, random_state=42)\n",
        "ada_clf.fit(X_train, y_train)\n",
        "\n",
        "# Make predictions\n",
        "y_pred_ada = ada_clf.predict(X_test)\n",
        "\n",
        "# Evaluate AdaBoost\n",
        "print(\"AdaBoost Results:\")\n",
        "print(f\"Accuracy: {accuracy_score(y_test, y_pred_ada)}\")\n",
        "print(confusion_matrix(y_test, y_pred_ada))\n",
        "print(classification_report(y_test, y_pred_ada))"
      ]
    },
    {
      "cell_type": "markdown",
      "metadata": {},
      "source": [
        "##### Gradient Boosting Classifier\n",
        "\n",
        "The Gradient Boosting Classifier is used to train the model. The Gradient Boosting algorithm is an ensemble learning method that creates a strong classifier by combining multiple weak classifiers. It is used to boost the performance of decision trees on binary classification problems."
      ]
    },
    {
      "cell_type": "code",
      "execution_count": 331,
      "metadata": {},
      "outputs": [
        {
          "name": "stdout",
          "output_type": "stream",
          "text": [
            "Gradient Boosting Results:\n",
            "Accuracy: 0.7937116564417178\n",
            "[[ 967  322]\n",
            " [ 216 1103]]\n",
            "              precision    recall  f1-score   support\n",
            "\n",
            "       False       0.82      0.75      0.78      1289\n",
            "        True       0.77      0.84      0.80      1319\n",
            "\n",
            "    accuracy                           0.79      2608\n",
            "   macro avg       0.80      0.79      0.79      2608\n",
            "weighted avg       0.80      0.79      0.79      2608\n",
            "\n"
          ]
        }
      ],
      "source": [
        "# Initialize and train the Gradient Boosting classifier\n",
        "gb_clf = GradientBoostingClassifier(n_estimators=100, learning_rate=0.1, max_depth=3, random_state=42)\n",
        "gb_clf.fit(X_train, y_train)\n",
        "\n",
        "# Make predictions\n",
        "y_pred_gb = gb_clf.predict(X_test)\n",
        "\n",
        "# Evaluate Gradient Boosting\n",
        "print(\"Gradient Boosting Results:\")\n",
        "print(f\"Accuracy: {accuracy_score(y_test, y_pred_gb)}\")\n",
        "print(confusion_matrix(y_test, y_pred_gb))\n",
        "print(classification_report(y_test, y_pred_gb))"
      ]
    },
    {
      "cell_type": "markdown",
      "metadata": {},
      "source": [
        "##### XGBoost Classifier\n",
        "\n",
        "The XGBoost Classifier is used to train the model. XGBoost is an optimized distributed gradient boosting library designed to be highly efficient, flexible and portable. It is used to boost the performance of decision trees on binary classification problems."
      ]
    },
    {
      "cell_type": "code",
      "execution_count": 332,
      "metadata": {},
      "outputs": [
        {
          "name": "stdout",
          "output_type": "stream",
          "text": [
            "XGBoost Results:\n",
            "Accuracy: 0.7983128834355828\n",
            "[[ 964  325]\n",
            " [ 201 1118]]\n",
            "              precision    recall  f1-score   support\n",
            "\n",
            "       False       0.83      0.75      0.79      1289\n",
            "        True       0.77      0.85      0.81      1319\n",
            "\n",
            "    accuracy                           0.80      2608\n",
            "   macro avg       0.80      0.80      0.80      2608\n",
            "weighted avg       0.80      0.80      0.80      2608\n",
            "\n"
          ]
        }
      ],
      "source": [
        "# Drop 'PassengerId' as it is not useful for prediction\n",
        "X_train = X_train.drop('PassengerId', axis=1)\n",
        "X_test = X_test.drop('PassengerId', axis=1)\n",
        "\n",
        "# Convert 'Num' to a numeric type\n",
        "X_train['Num'] = pd.to_numeric(X_train['Num'], errors='coerce')  # Convert to numeric, forcing errors to NaN\n",
        "X_test['Num'] = pd.to_numeric(X_test['Num'], errors='coerce')\n",
        "\n",
        "\n",
        "# Initialize and train the XGBoost classifier\n",
        "xgb_clf = XGBClassifier(n_estimators=100, learning_rate=0.1, max_depth=3, random_state=42)\n",
        "\n",
        "# Fit XGBoost using the original target labels (0 and 1)\n",
        "xgb_clf.fit(X_train, y_train)\n",
        "\n",
        "# Make predictions on the test set\n",
        "y_pred_xgb = xgb_clf.predict(X_test)\n",
        "\n",
        "# Evaluate XGBoost\n",
        "print(\"XGBoost Results:\")\n",
        "print(f\"Accuracy: {accuracy_score(y_test, y_pred_xgb)}\")\n",
        "print(confusion_matrix(y_test, y_pred_xgb))\n",
        "print(classification_report(y_test, y_pred_xgb))\n"
      ]
    },
    {
      "cell_type": "markdown",
      "metadata": {},
      "source": [
        "##### CatBoost Classifier\n",
        "\n",
        "The CatBoost Classifier is used to train the model. CatBoost is an open-source gradient boosting library that is designed to be efficient, scalable, and accurate. It is used to boost the performance of decision trees on binary classification problems."
      ]
    },
    {
      "cell_type": "code",
      "execution_count": 333,
      "metadata": {},
      "outputs": [
        {
          "name": "stdout",
          "output_type": "stream",
          "text": [
            "CatBoost Results:\n",
            "Accuracy: 0.7921779141104295\n",
            "[[ 964  325]\n",
            " [ 217 1102]]\n",
            "              precision    recall  f1-score   support\n",
            "\n",
            "       False       0.82      0.75      0.78      1289\n",
            "        True       0.77      0.84      0.80      1319\n",
            "\n",
            "    accuracy                           0.79      2608\n",
            "   macro avg       0.79      0.79      0.79      2608\n",
            "weighted avg       0.79      0.79      0.79      2608\n",
            "\n"
          ]
        }
      ],
      "source": [
        "# Initialize and train the CatBoost classifier (suppressing verbose output with verbose=0)\n",
        "catboost_clf = CatBoostClassifier(iterations=100, learning_rate=0.1, depth=3, verbose=0, random_state=42)\n",
        "catboost_clf.fit(X_train, y_train)\n",
        "\n",
        "# Make predictions\n",
        "y_pred_catboost = catboost_clf.predict(X_test)\n",
        "\n",
        "# Evaluate CatBoost\n",
        "print(\"CatBoost Results:\")\n",
        "print(f\"Accuracy: {accuracy_score(y_test, y_pred_catboost)}\")\n",
        "print(confusion_matrix(y_test, y_pred_catboost))\n",
        "print(classification_report(y_test, y_pred_catboost))"
      ]
    },
    {
      "cell_type": "markdown",
      "metadata": {},
      "source": [
        "##### Random Forest Classifier\n",
        "\n",
        "The Random Forest Classifier is used to train the model. Random Forest is an ensemble learning method that creates a strong classifier by combining multiple decision trees. It is used to boost the performance of decision trees on binary classification problems."
      ]
    },
    {
      "cell_type": "code",
      "execution_count": 334,
      "metadata": {},
      "outputs": [
        {
          "name": "stdout",
          "output_type": "stream",
          "text": [
            "Random Forest Mean Accuracy: 0.8019720624486443\n",
            "Random Forest Standard Deviation: 0.005572990947514618\n",
            "Random Forest Test Accuracy: 0.7960122699386503\n"
          ]
        }
      ],
      "source": [
        "# Initialize the RandomForestClassifier\n",
        "rf_clf = RandomForestClassifier(n_estimators=100, random_state=42)\n",
        "\n",
        "# Perform 5-fold cross-validation\n",
        "rf_cv_scores = cross_val_score(rf_clf, X_train, y_train, cv=5, scoring='accuracy')\n",
        "\n",
        "# Calculate and print the mean accuracy and standard deviation\n",
        "print(f\"Random Forest Mean Accuracy: {np.mean(rf_cv_scores)}\")\n",
        "print(f\"Random Forest Standard Deviation: {np.std(rf_cv_scores)}\")\n",
        "\n",
        "# Train and evaluate the model on the test set\n",
        "rf_clf.fit(X_train, y_train)\n",
        "y_pred_rf = rf_clf.predict(X_test)\n",
        "print(f\"Random Forest Test Accuracy: {accuracy_score(y_test, y_pred_rf)}\")\n"
      ]
    },
    {
      "cell_type": "markdown",
      "metadata": {},
      "source": [
        "##### Logisitic Regression Classifier\n",
        "\n",
        "The Logistic Regression Classifier is used to train the model. Logistic Regression is a statistical method for analyzing a dataset in which there are one or more independent variables that determine an outcome. It is used to predict the probability of a binary outcome."
      ]
    },
    {
      "cell_type": "code",
      "execution_count": 335,
      "metadata": {},
      "outputs": [
        {
          "name": "stdout",
          "output_type": "stream",
          "text": [
            "Logistic Regression Mean Accuracy: 0.7939194741166804\n",
            "Logistic Regression Standard Deviation: 0.008256273910981427\n",
            "Logistic Regression Test Accuracy: 0.7841257668711656\n"
          ]
        }
      ],
      "source": [
        "# Initialize the LogisticRegression model\n",
        "lr_clf = LogisticRegression(random_state=42, max_iter=100000)\n",
        "\n",
        "# Perform 5-fold cross-validation\n",
        "lr_cv_scores = cross_val_score(lr_clf, X_train, y_train, cv=5, scoring='accuracy')\n",
        "\n",
        "# Calculate and print the mean accuracy and standard deviation\n",
        "print(f\"Logistic Regression Mean Accuracy: {np.mean(lr_cv_scores)}\")\n",
        "print(f\"Logistic Regression Standard Deviation: {np.std(lr_cv_scores)}\")\n",
        "\n",
        "# Train and evaluate the model on the test set\n",
        "lr_clf.fit(X_train, y_train)\n",
        "y_pred_lr = lr_clf.predict(X_test)\n",
        "print(f\"Logistic Regression Test Accuracy: {accuracy_score(y_test, y_pred_lr)}\")\n"
      ]
    },
    {
      "cell_type": "markdown",
      "metadata": {},
      "source": [
        "#### Booster Comparison\n",
        "\n",
        "The accuracy of the model is compared using the accuracy_score() method. The model with the highest accuracy is selected as the final model."
      ]
    },
    {
      "cell_type": "code",
      "execution_count": 336,
      "metadata": {},
      "outputs": [
        {
          "name": "stdout",
          "output_type": "stream",
          "text": [
            "                Model  Accuracy\n",
            "0            AdaBoost  0.778374\n",
            "1    GradientBoosting  0.793712\n",
            "2             XGBoost  0.798313\n",
            "3            CatBoost  0.792178\n",
            "4        RandomForest  0.796012\n",
            "5  LogisticRegression  0.784126\n"
          ]
        },
        {
          "data": {
            "image/png": "[encoded data removed]",
            "text/plain": [
              "<Figure size 1000x600 with 1 Axes>"
            ]
          },
          "metadata": {},
          "output_type": "display_data"
        }
      ],
      "source": [
        "# Create a dictionary to store model performance\n",
        "model_performance = {\n",
        "    'Model': [],\n",
        "    'Accuracy': []\n",
        "}\n",
        "\n",
        "# AdaBoost Evaluation\n",
        "ada_accuracy = accuracy_score(y_test, y_pred_ada)\n",
        "model_performance['Model'].append('AdaBoost')\n",
        "model_performance['Accuracy'].append(ada_accuracy)\n",
        "\n",
        "# Gradient Boosting Evaluation\n",
        "gb_accuracy = accuracy_score(y_test, y_pred_gb)\n",
        "model_performance['Model'].append('GradientBoosting')\n",
        "model_performance['Accuracy'].append(gb_accuracy)\n",
        "\n",
        "# XGBoost Evaluation\n",
        "xgb_accuracy = accuracy_score(y_test, y_pred_xgb)\n",
        "model_performance['Model'].append('XGBoost')\n",
        "model_performance['Accuracy'].append(xgb_accuracy)\n",
        "\n",
        "# CatBoost Evaluation\n",
        "catboost_accuracy = accuracy_score(y_test, y_pred_catboost)\n",
        "model_performance['Model'].append('CatBoost')\n",
        "model_performance['Accuracy'].append(catboost_accuracy)\n",
        "\n",
        "randomForest_accuracy = accuracy_score(y_test, y_pred_rf)\n",
        "model_performance['Model'].append('RandomForest')\n",
        "model_performance['Accuracy'].append(randomForest_accuracy)\n",
        "\n",
        "logisticRegression_accuracy = accuracy_score(y_test, y_pred_lr)\n",
        "model_performance['Model'].append('LogisticRegression')\n",
        "model_performance['Accuracy'].append(logisticRegression_accuracy)\n",
        "\n",
        "# Convert to DataFrame for easy comparison\n",
        "performance_df = pd.DataFrame(model_performance)\n",
        "\n",
        "# Display the comparison table\n",
        "print(performance_df)\n",
        "\n",
        "# Plot the results\n",
        "plt.figure(figsize=(10, 6))\n",
        "sns.barplot(x='Model', y='Accuracy', data=performance_df)\n",
        "plt.title('Model Comparison: Accuracy')\n",
        "plt.ylabel('Accuracy')\n",
        "plt.show()\n"
      ]
    },
    {
      "cell_type": "code",
      "execution_count": 346,
      "metadata": {},
      "outputs": [
        {
          "name": "stdout",
          "output_type": "stream",
          "text": [
            "The best model based on test accuracy is: XGBoost with accuracy: 0.7983128834355828\n"
          ]
        }
      ],
      "source": [
        "model_test_accuracy = {\n",
        "    'AdaBoostClassifier': accuracy_score(y_test, y_pred_ada),\n",
        "    'GradientBoosting': accuracy_score(y_test, y_pred_gb),\n",
        "    'XGBoost': accuracy_score(y_test, y_pred_xgb),\n",
        "    'CatBoost': accuracy_score(y_test, y_pred_catboost),\n",
        "    'RandomForest': accuracy_score(y_test, y_pred_rf),\n",
        "    'LogisticRegression': accuracy_score(y_test, y_pred_lr)\n",
        "}\n",
        "\n",
        "# Step 4: Find the model with the highest test accuracy\n",
        "best_model_name = max(model_test_accuracy, key=model_test_accuracy.get)\n",
        "print(f\"The best model based on test accuracy is: {best_model_name} with accuracy: {model_test_accuracy[best_model_name]}\")"
      ]
    },
    {
      "cell_type": "markdown",
      "metadata": {},
      "source": [
        "##### Hyperparameter Tuning\n",
        "\n",
        "We can try to improve these models by tuning the hyperparameters using GridSearchCV or RandomizedSearchCV. We could also try other boosting algorithms like LightGBM, or stacking multiple models together to improve the accuracy.\n",
        "\n",
        "Focusing only on the best model, we have the following:"
      ]
    },
    {
      "cell_type": "code",
      "execution_count": 352,
      "metadata": {},
      "outputs": [
        {
          "name": "stdout",
          "output_type": "stream",
          "text": [
            "Best XGBoost Model Test Accuracy: 0.8048\n"
          ]
        }
      ],
      "source": [
        "# Define the parameter grid for XGBoost\n",
        "param_grid = {\n",
        "    'n_estimators': [50, 100, 200],\n",
        "    'learning_rate': [0.01, 0.1, 0.2],\n",
        "    'max_depth': [3, 5, 7]\n",
        "}\n",
        "\n",
        "# Initialize the XGBoost classifier\n",
        "xgb_clf = XGBClassifier(random_state=42)\n",
        "\n",
        "# Initialize GridSearchCV\n",
        "grid_search = GridSearchCV(xgb_clf, param_grid, cv=5, n_jobs=-1, verbose=0)  # Set verbose=0 to suppress detailed output\n",
        "\n",
        "# Perform the grid search\n",
        "grid_search.fit(X_train, y_train)\n",
        "\n",
        "# Get the best estimator from the grid search\n",
        "best_xgb_clf = grid_search.best_estimator_\n",
        "\n",
        "# Make predictions with the best model\n",
        "y_pred_best_xgb = best_xgb_clf.predict(X_test)\n",
        "\n",
        "# Evaluate the best model and print the test accuracy\n",
        "best_xgb_accuracy = accuracy_score(y_test, y_pred_best_xgb)\n",
        "print(f\"Best XGBoost Model Test Accuracy: {best_xgb_accuracy:.4f}\")\n"
      ]
    },
    {
      "cell_type": "markdown",
      "metadata": {},
      "source": [
        "### Conclusion\n",
        "\n",
        "The model with the highest accuracy is selected as the final model. The final model is then used to make predictions on the test data. The predictions are then saved to a CSV file and submitted to the competition.\n",
        "\n",
        "In this case, the Gradient Boosting Classifier has the highest accuracy, so it is selected as the final model. The final model is then used to make predictions on the test data. The predictions are then saved to a CSV file and submitted to the competition."
      ]
    },
    {
      "cell_type": "code",
      "execution_count": 355,
      "metadata": {},
      "outputs": [
        {
          "name": "stdout",
          "output_type": "stream",
          "text": [
            "  PassengerId  Transported\n",
            "0     0013_01         True\n",
            "1     0018_01        False\n",
            "2     0019_01         True\n",
            "3     0021_01         True\n",
            "4     0023_01         True\n",
            "Submission file 'submission.csv' has been created successfully!\n"
          ]
        }
      ],
      "source": [
        "# Ensure the 'Transported' column is removed from SpaceTest\n",
        "if 'Transported' in SpaceTest.columns:\n",
        "    SpaceTest = SpaceTest.drop('Transported', axis=1)\n",
        "\n",
        "# Step 1: Make final predictions on the test data using the best model\n",
        "X_submission = SpaceTest.drop('PassengerId', axis=1)  # Drop PassengerId\n",
        "\n",
        "# Make predictions on the test set\n",
        "final_predictions = best_xgb_clf.predict(X_submission)\n",
        "\n",
        "# Convert predictions to Boolean (if needed), as the target is binary (True/False)\n",
        "final_predictions = final_predictions.astype(bool)\n",
        "\n",
        "# Step 2: Prepare the submission DataFrame\n",
        "submission_df = pd.DataFrame({\n",
        "    'PassengerId': SpaceTest['PassengerId'],  # Keep the PassengerId column\n",
        "    'Transported': final_predictions          # Use the predictions\n",
        "})\n",
        "\n",
        "# Display the first few rows to ensure correctness\n",
        "print(submission_df.head())\n",
        "\n",
        "# Step 3: Save the submission DataFrame to a CSV file for submission\n",
        "submission_df.to_csv('submission.csv', index=False)\n",
        "\n",
        "# Message to confirm submission file creation\n",
        "print(\"Submission file 'submission.csv' has been created successfully!\")\n"
      ]
    }
  ],
  "metadata": {
    "colab": {
      "provenance": []
    },
    "kernelspec": {
      "display_name": "Python 3",
      "name": "python3"
    },
    "language_info": {
      "codemirror_mode": {
        "name": "ipython",
        "version": 3
      },
      "file_extension": ".py",
      "mimetype": "text/x-python",
      "name": "python",
      "nbconvert_exporter": "python",
      "pygments_lexer": "ipython3",
      "version": "3.12.0"
    }
  },
  "nbformat": 4,
  "nbformat_minor": 0
}
